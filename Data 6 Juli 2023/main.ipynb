{
 "cells": [
  {
   "cell_type": "code",
   "execution_count": 1,
   "metadata": {},
   "outputs": [],
   "source": [
    "import json\n",
    "import csv\n",
    "import os"
   ]
  },
  {
   "cell_type": "code",
   "execution_count": 3,
   "metadata": {},
   "outputs": [],
   "source": [
    "def json_to_csv(json_file, csv_file):\n",
    "    with open(json_file, 'r') as file:\n",
    "        data = json.load(file)\n",
    "\n",
    "    field_name = list(data[0].keys())\n",
    "\n",
    "    # Write JSON data to CSV file\n",
    "    with open(csv_file, 'w', newline='') as file:\n",
    "        writer = csv.DictWriter(file, fieldnames=field_name)\n",
    "\n",
    "        writer.writeheader()\n",
    "        writer.writerrows(data)"
   ]
  },
  {
   "cell_type": "code",
   "execution_count": null,
   "metadata": {},
   "outputs": [],
   "source": [
    "# Set direktori\n",
    "input_directory_S30 = 'json_files'\n",
    "output_directory_S30 = 'csv_files'\n",
    "\n",
    "# Buat direktori input dan output\n",
    "os.makedirs(input_directory_S30, exist_ok=True)\n",
    "os.makedirs(output_directory_S30, exist_ok=True)"
   ]
  },
  {
   "cell_type": "code",
   "execution_count": null,
   "metadata": {},
   "outputs": [],
   "source": [
    "# Process each JSON file in the input dictionary\n",
    "for file_name in os.listdir(input_directory_S30):\n",
    "    json_file_path = os.path.join(input_directory_S30, file_name)\n",
    "    csv_file_name = file_name[:-5] + '.csv'\n",
    "    csv_file_path = os.path.join(output_directory_S30, csv_file_name)\n",
    "\n",
    "    json_to_csv(json_file_path, csv_file_path)"
   ]
  }
 ],
 "metadata": {
  "kernelspec": {
   "display_name": "Python 3",
   "language": "python",
   "name": "python3"
  },
  "language_info": {
   "codemirror_mode": {
    "name": "ipython",
    "version": 3
   },
   "file_extension": ".py",
   "mimetype": "text/x-python",
   "name": "python",
   "nbconvert_exporter": "python",
   "pygments_lexer": "ipython3",
   "version": "3.11.0"
  },
  "orig_nbformat": 4
 },
 "nbformat": 4,
 "nbformat_minor": 2
}
