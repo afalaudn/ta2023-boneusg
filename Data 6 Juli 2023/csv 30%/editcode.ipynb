{
 "cells": [
  {
   "cell_type": "code",
   "execution_count": null,
   "metadata": {},
   "outputs": [],
   "source": [
    "# A30A5\n",
    "fig, axs = plt.subplots(2, 2, figsize=(20,15))\n",
    "\n",
    "axs[0, 0].plot(x5, filtered_signal5)\n",
    "axs[0, 0].set_title('A30A5 Filtered Signal')\n",
    "axs[0, 0].set_xlabel('Time (us)')\n",
    "axs[0, 0].set_ylabel('Amplitude (V)')\n",
    "\n",
    "axs[0, 1].plot(x5, rectified_signal5)\n",
    "axs[0, 1].set_title('A30A5 Rectified Signal')\n",
    "axs[0, 1].set_xlabel('Time (us)')\n",
    "axs[0, 1].set_ylabel('Amplitude (V)')\n",
    "\n",
    "axs[1, 0].plot(freq5, fft_amp5)\n",
    "axs[1, 0].set_title('A30A5 FFT of Filtered Signal (One-Sided)')\n",
    "axs[1, 0].set_xlabel('Frequency (MHz)')\n",
    "axs[1, 0].set_ylabel('Amplitude Power/Frequency (dB/Hz)')\n",
    "\n",
    "axs[1, 1].plot(freq_psd5, psd_one_sided5)\n",
    "axs[1, 1].set_title('A30A5 PSD of Filtered Signal (One-Sided)')\n",
    "axs[1, 1].set_xlabel('Frequency (MHz)')\n",
    "axs[1, 1].set_ylabel('Power/Frequency (dB/Hz)')\n",
    "\n",
    "plt.show()"
   ]
  },
  {
   "cell_type": "code",
   "execution_count": null,
   "metadata": {},
   "outputs": [],
   "source": [
    "# A30A5\n",
    "plt.figure(figsize=(10,5))\n",
    "\n",
    "peaks, _ = find_peaks(filtered_signal5)  # mencari puncak-puncak dalam sinyal\n",
    "highest_peak = peaks[filtered_signal5[peaks].argmax()]  # mencari puncak tertinggi\n",
    "\n",
    "plt.plot(x5, filtered_signal5)\n",
    "plt.annotate(f'  Highest Peak: {filtered_signal5[highest_peak]:.6f}', \n",
    "             xy=(x5[highest_peak], \n",
    "                 filtered_signal5[highest_peak]),\n",
    "             xytext=(x5[highest_peak]+1, filtered_signal5[highest_peak]), \n",
    "             arrowprops=dict(facecolor='red', shrink=0.05))\n",
    "\n",
    "plt.title('A30A5 Filtered Signal')\n",
    "plt.grid()\n",
    "plt.xlabel('Time (us)')\n",
    "plt.ylabel('Amplitude (V)')"
   ]
  },
  {
   "cell_type": "code",
   "execution_count": null,
   "metadata": {},
   "outputs": [],
   "source": [
    "# A30A5 Rectified Signal\n",
    "plt.figure(figsize=(10,5))\n",
    "peaks, _ = find_peaks(rectified_signal5)  # mencari puncak-puncak dalam sinyal\n",
    "highest_peak = peaks[rectified_signal5[peaks].argmax()]  # mencari puncak tertinggi\n",
    "\n",
    "plt.plot(x5, rectified_signal5)\n",
    "plt.annotate(f'  Highest Peak: {rectified_signal5[highest_peak]:.6f}', \n",
    "             xy=(x5[highest_peak], \n",
    "                 rectified_signal5[highest_peak]),\n",
    "             xytext=(x5[highest_peak]+1, rectified_signal5[highest_peak]), \n",
    "             arrowprops=dict(facecolor='green', shrink=0.05))\n",
    "plt.title('A30A5 Rectified Signal')\n",
    "plt.grid()\n",
    "plt.xlabel('Time (us)')\n",
    "plt.ylabel('Amplitude (V)')"
   ]
  },
  {
   "cell_type": "code",
   "execution_count": null,
   "metadata": {},
   "outputs": [],
   "source": [
    "# A30A5 FFT of Filtered Signal (One-Sided)\n",
    "plt.figure(figsize=(10,5))\n",
    "peaks, _ = find_peaks(fft_amp5)  # mencari puncak-puncak dalam sinyal\n",
    "highest_peak = peaks[fft_amp5[peaks].argmax()]  # mencari puncak tertinggi\n",
    "\n",
    "plt.plot(freq5, fft_amp5)\n",
    "plt.annotate(f'  Highest Peak: {fft_amp5[highest_peak]:.6f}', \n",
    "             xy=(freq5[highest_peak], \n",
    "                 fft_amp5[highest_peak]),\n",
    "             xytext=(freq5[highest_peak]+1, fft_amp5[highest_peak]), \n",
    "             arrowprops=dict(facecolor='yellow', shrink=0.05))\n",
    "plt.title('A30A5 FFT of Filtered Signal (One-Sided)')\n",
    "plt.grid()\n",
    "plt.xlabel('Frequency (MHz)')\n",
    "plt.ylabel('Amplitude (dB/Hz)')"
   ]
  },
  {
   "cell_type": "code",
   "execution_count": null,
   "metadata": {},
   "outputs": [],
   "source": [
    "# A30A5 PSD of Filtered Signal (One-Sided)\n",
    "plt.figure(figsize=(8,5))\n",
    "peaks, _ = find_peaks(psd_one_sided5)  # mencari puncak-puncak dalam sinyal\n",
    "highest_peak = peaks[psd_one_sided5[peaks].argmax()]  # mencari puncak tertinggi\n",
    "\n",
    "plt.plot(freq_psd5, psd_one_sided5)\n",
    "plt.annotate(f'    Highest Peak: {psd_one_sided5[highest_peak]:.6f}', \n",
    "             xy=(freq_psd5[highest_peak], \n",
    "                 psd_one_sided5[highest_peak]),\n",
    "             xytext=(freq_psd5[highest_peak]+1, psd_one_sided5[highest_peak]), \n",
    "             arrowprops=dict(facecolor='blue', shrink=0.05))\n",
    "\n",
    "plt.title('A30A5 PSD of Filtered Signal (One-Sided)')\n",
    "plt.xlabel('Frequency (MHz)')\n",
    "plt.grid()\n",
    "plt.ylabel('Power/Frequency (dB/Hz)')"
   ]
  }
 ],
 "metadata": {
  "language_info": {
   "name": "python"
  },
  "orig_nbformat": 4
 },
 "nbformat": 4,
 "nbformat_minor": 2
}
