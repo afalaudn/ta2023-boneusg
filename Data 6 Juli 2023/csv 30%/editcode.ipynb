{
 "cells": [
  {
   "cell_type": "code",
   "execution_count": null,
   "metadata": {},
   "outputs": [],
   "source": [
    "# K302\n",
    "fig, axs = plt.subplots(2, 2, figsize=(10,10))\n",
    "\n",
    "axs[0, 0].plot(x12, filtered_signal12)\n",
    "axs[0, 0].set_title('K302 Sampel 2 Filtered Signal')\n",
    "axs[0, 0].set_xlabel('Time (us)')\n",
    "axs[0, 0].set_ylabel('Amplitude (V)')\n",
    "\n",
    "axs[0, 1].plot(x12, rectified_signal12)\n",
    "axs[0, 1].set_title('K302 Sampel 2 Rectified Signal')\n",
    "axs[0, 1].set_xlabel('Time (us)')\n",
    "axs[0, 1].set_ylabel('Amplitude (V)')\n",
    "\n",
    "axs[1, 0].plot(freq12, fft_amp12)\n",
    "axs[1, 0].set_title('K302 Sampel 2 FFT of Filtered Signal (One-Sided)')\n",
    "axs[1, 0].set_xlabel('Frequency (MHz)')\n",
    "axs[1, 0].set_ylabel('Amplitude Power/Frequency (dB/Hz)')\n",
    "\n",
    "axs[1, 1].plot(freq_psd12, psd_one_sided12)\n",
    "axs[1, 1].set_title('K302 Sampel 2 PSD of Filtered Signal (One-Sided)')\n",
    "axs[1, 1].set_xlabel('Frequency (MHz)')\n",
    "axs[1, 1].set_ylabel('Power/Frequency (dB/Hz)')\n",
    "\n",
    "plt.show()"
   ]
  },
  {
   "cell_type": "code",
   "execution_count": null,
   "metadata": {},
   "outputs": [],
   "source": [
    "plt.figure(figsize=(10,5))\n",
    "\n",
    "peaks, _ = find_peaks(filtered_signal12)  # mencari puncak-puncak dalam sinyal\n",
    "highest_peak = peaks[filtered_signal12[peaks].argmax()]  # mencari puncak tertinggi\n",
    "\n",
    "plt.plot(x12, filtered_signal12)\n",
    "plt.annotate(f'  Highest Peak: {filtered_signal12[highest_peak]:.6f}', \n",
    "             xy=(x12[highest_peak1], \n",
    "                 filtered_signal12[highest_peak]),\n",
    "             xytext=(x12[highest_peak]+1, filtered_signal12[highest_peak]), \n",
    "             arrowprops=dict(facecolor='red', shrink=0.05))\n",
    "\n",
    "plt.title('K302 Filtered Signal')\n",
    "plt.grid()\n",
    "plt.xlabel('Time (us)')\n",
    "plt.ylabel('Amplitude (V)')"
   ]
  },
  {
   "cell_type": "code",
   "execution_count": null,
   "metadata": {},
   "outputs": [],
   "source": [
    "plt.figure(figsize=(10,5))\n",
    "peaks, _ = find_peaks(rectified_signal12)  # mencari puncak-puncak dalam sinyal\n",
    "highest_peak = peaks[rectified_signal12[peaks].argmax()]  # mencari puncak tertinggi\n",
    "\n",
    "plt.plot(x12, rectified_signal12)\n",
    "plt.annotate(f'  Highest Peak: {rectified_signal12[highest_peak]:.6f}', \n",
    "             xy=(x12[highest_peak], \n",
    "                 rectified_signal12[highest_peak]),\n",
    "             xytext=(x12[highest_peak]+1, rectified_signal12[highest_peak]), \n",
    "             arrowprops=dict(facecolor='green', shrink=0.05))\n",
    "plt.title('K302 Rectified Signal')\n",
    "plt.grid()\n",
    "plt.xlabel('Time (us)')\n",
    "plt.ylabel('Amplitude (V)')"
   ]
  },
  {
   "cell_type": "code",
   "execution_count": null,
   "metadata": {},
   "outputs": [],
   "source": [
    "plt.figure(figsize=(10,5))\n",
    "peaks, _ = find_peaks(fft_amp12)  # mencari puncak-puncak dalam sinyal\n",
    "highest_peak = peaks[fft_amp12[peaks].argmax()]  # mencari puncak tertinggi\n",
    "\n",
    "plt.plot(freq12, fft_amp12)\n",
    "plt.annotate(f'  Highest Peak: {fft_amp12[highest_peak]:.6f}', \n",
    "             xy=(freq12[highest_peak], \n",
    "                 fft_amp12[highest_peak]),\n",
    "             xytext=(freq12[highest_peak]+1, fft_amp12[highest_peak]), \n",
    "             arrowprops=dict(facecolor='yellow', shrink=0.05))\n",
    "plt.title('K302 FFT of Filtered Signal (One-Sided)')\n",
    "plt.grid()\n",
    "plt.xlabel('Frequency (MHz)')\n",
    "plt.ylabel('Amplitude (dB/Hz)')"
   ]
  },
  {
   "cell_type": "code",
   "execution_count": null,
   "metadata": {},
   "outputs": [],
   "source": [
    "plt.figure(figsize=(8,5))\n",
    "peaks, _ = find_peaks(psd_one_sided12)  # mencari puncak-puncak dalam sinyal\n",
    "highest_peak = peaks[psd_one_sided12[peaks].argmax()]  # mencari puncak tertinggi\n",
    "\n",
    "plt.plot(freq_psd12, psd_one_sided12)\n",
    "plt.annotate(f'    Highest Peak: {psd_one_sided12[highest_peak]:.6f}', \n",
    "             xy=(freq_psd12[highest_peak], \n",
    "                 psd_one_sided12[highest_peak]),\n",
    "             xytext=(freq_psd12[highest_peak]+1, psd_one_sided12[highest_peak]), \n",
    "             arrowprops=dict(facecolor='blue', shrink=0.05))\n",
    "\n",
    "plt.title('K302 PSD of Filtered Signal (One-Sided)')\n",
    "plt.xlabel('Frequency (MHz)')\n",
    "plt.grid()\n",
    "plt.ylabel('Power/Frequency (dB/Hz)')"
   ]
  }
 ],
 "metadata": {
  "language_info": {
   "name": "python"
  },
  "orig_nbformat": 4
 },
 "nbformat": 4,
 "nbformat_minor": 2
}
