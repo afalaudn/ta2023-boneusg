{
 "cells": [
  {
   "cell_type": "code",
   "execution_count": null,
   "metadata": {
    "vscode": {
     "languageId": "plaintext"
    }
   },
   "outputs": [],
   "source": [
    "# A302 FFT of Filtered Signal (One-Sided)\n",
    "plt.figure(figsize=(10,5))\n",
    "peaks, _ = find_peaks(fft_amp2)  # mencari puncak-puncak dalam sinyal\n",
    "highest_peak = peaks[fft_amp2[peaks].argmax()]  # mencari puncak tertinggi\n",
    "\n",
    "plt.plot(freq2, fft_amp2)\n",
    "plt.annotate(f'  Highest Peak: {fft_amp2[highest_peak]:.6f}', \n",
    "             xy=(freq2[highest_peak], \n",
    "                 fft_amp2[highest_peak]),\n",
    "             xytext=(freq2[highest_peak]+1, fft_amp2[highest_peak]), \n",
    "             arrowprops=dict(facecolor='yellow', shrink=0.05))\n",
    "plt.title('A302 FFT of Filtered Signal (One-Sided)')\n",
    "plt.grid()\n",
    "plt.xlabel('Frequency (MHz)')\n",
    "plt.ylabel('Amplitude (dB/Hz)')"
   ]
  }
 ],
 "metadata": {
  "language_info": {
   "name": "python"
  },
  "orig_nbformat": 4
 },
 "nbformat": 4,
 "nbformat_minor": 2
}
