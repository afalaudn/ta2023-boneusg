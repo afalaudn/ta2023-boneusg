{
 "cells": [
  {
   "cell_type": "code",
   "execution_count": 1,
   "metadata": {},
   "outputs": [],
   "source": [
    "import os\n",
    "import pandas as pd\n",
    "import numpy as np\n",
    "from sklearn.model_selection import train_test_split\n",
    "from sklearn.preprocessing import LabelEncoder\n",
    "from keras.models import Sequential, load_model\n",
    "from keras.layers import LSTM, Dense\n",
    "from keras import utils\n",
    "utils.to_categorical\n",
    "\n",
    "from difflib import SequenceMatcher\n",
    "from tensorflow.keras.utils import to_categorical"
   ]
  },
  {
   "cell_type": "code",
   "execution_count": 2,
   "metadata": {},
   "outputs": [],
   "source": [
    "# Membaca dataset utama untuk pelatihan\n",
    "data_df = pd.read_csv('E:/Sekolah/Telkom/TA/LTSM/Process/Comb/All.csv')"
   ]
  },
  {
   "cell_type": "code",
   "execution_count": 3,
   "metadata": {},
   "outputs": [],
   "source": [
    "X = data_df.iloc[:, :-1].values\n",
    "y = data_df.iloc[:, -1].values"
   ]
  },
  {
   "cell_type": "code",
   "execution_count": 4,
   "metadata": {},
   "outputs": [
    {
     "name": "stdout",
     "output_type": "stream",
     "text": [
      "['Density 30%' 'Density 30%' 'Density 30%' ... 'Density 90%' 'Density 90%'\n",
      " 'Density 90%']\n"
     ]
    }
   ],
   "source": [
    "print(y)"
   ]
  },
  {
   "cell_type": "code",
   "execution_count": 5,
   "metadata": {},
   "outputs": [
    {
     "name": "stdout",
     "output_type": "stream",
     "text": [
      "(599040, 4)\n"
     ]
    }
   ],
   "source": [
    "# Menggunakan LabelEncoder untuk mengubah label menjadi nilai numerik\n",
    "label_encoder = LabelEncoder()\n",
    "y_encoded = label_encoder.fit_transform(y)\n",
    "y_encoded_categorical = utils.to_categorical(y_encoded)\n",
    "print(y_encoded_categorical.shape)"
   ]
  },
  {
   "cell_type": "code",
   "execution_count": 6,
   "metadata": {},
   "outputs": [],
   "source": [
    "# Membagi dataset menjadi data pelatihan dan data validasi\n",
    "X_train, X_val, y_train, y_val = train_test_split(X, y_encoded_categorical, test_size=0.2, random_state=42)\n",
    "X_train = X_train.reshape((X_train.shape[0], X_train.shape[1], 1))\n",
    "X_val = np.reshape(X_val, (X_val.shape[0], X_val.shape[1], 1))"
   ]
  },
  {
   "cell_type": "code",
   "execution_count": 7,
   "metadata": {},
   "outputs": [
    {
     "name": "stdout",
     "output_type": "stream",
     "text": [
      "(119808, 2, 1)\n"
     ]
    }
   ],
   "source": [
    "print(X_val.shape)"
   ]
  },
  {
   "cell_type": "code",
   "execution_count": 8,
   "metadata": {},
   "outputs": [],
   "source": [
    "# Membangun model LSTM\n",
    "model = Sequential()\n",
    "model.add(LSTM(64, input_shape=(X_train.shape[1], X_train.shape[2])))\n",
    "model.add(Dense(y_encoded_categorical.shape[1], activation='softmax'))\n",
    "model.compile(loss='categorical_crossentropy', optimizer='adam', metrics=['accuracy'])\n"
   ]
  },
  {
   "cell_type": "code",
   "execution_count": 9,
   "metadata": {},
   "outputs": [],
   "source": [
    "# Melatih model dengan dataset utama\n",
    "# model.fit(X_train, y_train, epochs=50, batch_size=64, validation_data=(X_val, y_val))"
   ]
  },
  {
   "cell_type": "code",
   "execution_count": 10,
   "metadata": {},
   "outputs": [],
   "source": [
    "# model.save('All.h5')"
   ]
  },
  {
   "cell_type": "code",
   "execution_count": 11,
   "metadata": {},
   "outputs": [],
   "source": [
    "model = load_model('All.h5')"
   ]
  },
  {
   "cell_type": "code",
   "execution_count": 12,
   "metadata": {},
   "outputs": [],
   "source": [
    "# Membaca dataset yang ingin diprediksi\n",
    "predict_df = pd.read_csv('E:/Sekolah/Telkom/TA/LTSM/Process/50%/K502_processed.csv')"
   ]
  },
  {
   "cell_type": "code",
   "execution_count": 13,
   "metadata": {},
   "outputs": [],
   "source": [
    "# Memisahkan fitur (X) dari data yang ingin diprediksi\n",
    "X_predict = predict_df.iloc[:].values"
   ]
  },
  {
   "cell_type": "code",
   "execution_count": 14,
   "metadata": {},
   "outputs": [
    {
     "name": "stdout",
     "output_type": "stream",
     "text": [
      "390/390 [==============================] - 3s 4ms/step\n"
     ]
    }
   ],
   "source": [
    "# Memprediksi label menggunakan model yang telah dilatih\n",
    "y_pred_encoded = model.predict(X_predict)\n",
    "y_pred = np.argmax(y_pred_encoded, axis=1)\n",
    "y_pred_label = label_encoder.inverse_transform(y_pred)"
   ]
  },
  {
   "cell_type": "code",
   "execution_count": 15,
   "metadata": {},
   "outputs": [
    {
     "name": "stdout",
     "output_type": "stream",
     "text": [
      "['Density 70%' 'Density 70%' 'Density 70%' ... 'Density 30%' 'Density 70%'\n",
      " 'Density 70%']\n"
     ]
    }
   ],
   "source": [
    "print(y_pred_label)"
   ]
  },
  {
   "cell_type": "code",
   "execution_count": 16,
   "metadata": {},
   "outputs": [],
   "source": [
    "result_df = predict_df.copy()\n",
    "result_df['predicted_label'] = y_pred_label"
   ]
  },
  {
   "cell_type": "code",
   "execution_count": 17,
   "metadata": {},
   "outputs": [],
   "source": [
    "result_df.to_csv('data_predict_predicted.csv', index=False)"
   ]
  },
  {
   "cell_type": "code",
   "execution_count": 18,
   "metadata": {},
   "outputs": [
    {
     "name": "stdout",
     "output_type": "stream",
     "text": [
      "Kategori Label dari Dataset yang Diprediksi:\n",
      "predicted_label\n",
      "Density 50%    8802\n",
      "Density 90%    2710\n",
      "Density 30%     591\n",
      "Density 70%     377\n",
      "Name: count, dtype: int64\n"
     ]
    }
   ],
   "source": [
    "# Menampilkan kategori label dari dataset yang diprediksi\n",
    "print(\"Kategori Label dari Dataset yang Diprediksi:\")\n",
    "print(result_df['predicted_label'].value_counts())"
   ]
  },
  {
   "cell_type": "code",
   "execution_count": 21,
   "metadata": {},
   "outputs": [
    {
     "name": "stdout",
     "output_type": "stream",
     "text": [
      "Data match : Density 50%\n"
     ]
    }
   ],
   "source": [
    "# Membandingkan kemiripan label dengan dataset utama\n",
    "similar_labels = []\n",
    "for label in result_df['predicted_label'].unique():\n",
    "    similarity = max(SequenceMatcher(None, label, unique_label).ratio() for unique_label in np.unique(y))\n",
    "if similarity > 0.7:\n",
    "    print(\"Data match :\", label)"
   ]
  },
  {
   "cell_type": "code",
   "execution_count": 20,
   "metadata": {},
   "outputs": [
    {
     "name": "stdout",
     "output_type": "stream",
     "text": [
      "[]\n"
     ]
    }
   ],
   "source": [
    "print(similar_labels)"
   ]
  },
  {
   "cell_type": "code",
   "execution_count": null,
   "metadata": {},
   "outputs": [],
   "source": []
  }
 ],
 "metadata": {
  "kernelspec": {
   "display_name": "Python 3",
   "language": "python",
   "name": "python3"
  },
  "language_info": {
   "codemirror_mode": {
    "name": "ipython",
    "version": 3
   },
   "file_extension": ".py",
   "mimetype": "text/x-python",
   "name": "python",
   "nbconvert_exporter": "python",
   "pygments_lexer": "ipython3",
   "version": "3.11.4"
  },
  "orig_nbformat": 4
 },
 "nbformat": 4,
 "nbformat_minor": 2
}
