{
 "cells": [
  {
   "cell_type": "code",
   "execution_count": null,
   "metadata": {},
   "outputs": [],
   "source": [
    "import json\n",
    "import csv\n",
    "import os"
   ]
  },
  {
   "cell_type": "code",
   "execution_count": null,
   "metadata": {},
   "outputs": [],
   "source": [
    "def_json_to_csv(json_file, csv_file):\n",
    "    with open(json_file, 'r') as file:\n",
    "        data = json.load(file)\n",
    "\n",
    "    field_name = list(data[0].keys())\n",
    "\n",
    "    # Write JSON data to CSV file\n",
    "    with open(csv_file, 'w', newline='') as file:\n",
    "        writer = csv.DictWriter(file, fieldnames=field_name)\n",
    "\n",
    "        writer.writeheader()\n",
    "        writer.writerrows(data)"
   ]
  },
  {
   "cell_type": "code",
   "execution_count": null,
   "metadata": {},
   "outputs": [],
   "source": [
    "# Set direktori\n",
    "input_directory = 'json_files'\n",
    "output_directory = 'csv_files'\n",
    "\n",
    "# Buat direktori output\n",
    "os.makedirs(output_directory, exist_ok=True)"
   ]
  },
  {
   "cell_type": "code",
   "execution_count": null,
   "metadata": {},
   "outputs": [],
   "source": [
    "# Process each JSON file in the input dictionary\n",
    "for file_name in os.listdir(input_directory):\n",
    "    json_file_path = os.path.join(input_directory, file_name)\n",
    "    csv_file_name = file_name[:-5] + '.csv'\n",
    "    csv_file_path = os.path.join(output_directory, csv_file_name)\n",
    "\n",
    "    json_to_csv(json_file_path, csv_file_path)"
   ]
  }
 ],
 "metadata": {
  "language_info": {
   "name": "python"
  },
  "orig_nbformat": 4
 },
 "nbformat": 4,
 "nbformat_minor": 2
}
