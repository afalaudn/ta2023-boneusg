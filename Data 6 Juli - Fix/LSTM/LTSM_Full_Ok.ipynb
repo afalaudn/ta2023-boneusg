{
 "cells": [
  {
   "cell_type": "markdown",
   "metadata": {},
   "source": [
    "# Init Library"
   ]
  },
  {
   "cell_type": "code",
   "execution_count": 1,
   "metadata": {},
   "outputs": [],
   "source": [
    "import os, glob\n",
    "import numpy as np\n",
    "import pandas as pd\n",
    "import matplotlib.pyplot as plt\n",
    "from difflib import SequenceMatcher\n",
    "\n",
    "from scipy import signal, fftpack\n",
    "from scipy.fft import fft, fftfreq\n",
    "from scipy.signal import butter, filtfilt\n",
    "\n",
    "from sklearn.model_selection import train_test_split\n",
    "from sklearn.preprocessing import LabelEncoder, MinMaxScaler\n",
    "\n",
    "from keras.models import Sequential, load_model\n",
    "from keras.layers import LSTM, Dense, Activation, Dropout\n",
    "from keras import utils\n",
    "utils.to_categorical\n",
    "\n",
    "from tensorflow.keras.utils import to_categorical"
   ]
  },
  {
   "cell_type": "markdown",
   "metadata": {},
   "source": [
    "# Load directory"
   ]
  },
  {
   "cell_type": "code",
   "execution_count": 12,
   "metadata": {},
   "outputs": [],
   "source": [
    "load = \"E:/LSTM/TA/LTSM/\"\n",
    "save = \"C:/TA/csv-400-400/Img\"\n",
    "proc_30 = 'E:/LSTM/Process/30%/*.csv'\n",
    "proc_50 = 'E:/LSTM/Process/50%/*.csv'\n",
    "proc_70 = 'E:/LSTM/Process/70%/*.csv'\n",
    "proc_90 = 'E:/LSTM/Process/90%/*.csv'\n",
    "combine = 'E:/LSTM/Process/Comb/*.csv'"
   ]
  },
  {
   "cell_type": "markdown",
   "metadata": {},
   "source": [
    "# Parameter"
   ]
  },
  {
   "cell_type": "code",
   "execution_count": 3,
   "metadata": {},
   "outputs": [],
   "source": [
    "lowcut = 2.0\n",
    "highcut = 10.0\n",
    "fs = 100.0\n",
    "order = 5"
   ]
  },
  {
   "cell_type": "markdown",
   "metadata": {},
   "source": [
    "# Apply Parameter"
   ]
  },
  {
   "cell_type": "code",
   "execution_count": 4,
   "metadata": {},
   "outputs": [],
   "source": [
    "files_csv =[]\n",
    "for root, dirs, files in os.walk(load):\n",
    "    for file_name in files:\n",
    "        if file_name.endswith(\".csv\"):\n",
    "            file_load = os.path.join(root, file_name)\n",
    "            files_csv.append(file_load)"
   ]
  },
  {
   "cell_type": "code",
   "execution_count": 5,
   "metadata": {},
   "outputs": [],
   "source": [
    "i = 0\n",
    "\n",
    "for file_csv in files_csv:\n",
    "   \n",
    "    df = pd.read_csv(file_csv)\n",
    "    # start_index = 1\n",
    "    # end_index = 1551\n",
    "    # df = df_uncut[start_index:end_index]\n",
    "    var = df['X'].values\n",
    "    data = df['Y'].values\n",
    "     \n",
    "    nyquist = 0.5 * fs\n",
    "    low = lowcut / nyquist\n",
    "    high = highcut / nyquist\n",
    "    b, a = signal.butter(order, [low, high], btype='band')\n",
    "    \n",
    "    #Filter bandpass\n",
    "    filtered_signal = signal.filtfilt(b, a, data)\n",
    "    \n",
    "    # Rectify signal\n",
    "    rectified_signal = np.abs(filtered_signal)\n",
    "    \n",
    "    # One-sided FFT\n",
    "    signal_fft = np.fft.fft(filtered_signal)\n",
    "    signal_freq = np.fft.fftfreq(len(filtered_signal), 1/fs)\n",
    "    n = len(filtered_signal)\n",
    "    freq = signal_freq[0:int(n/2)]\n",
    "    fft_amp = np.abs(signal_fft)[0:int(n/2)]/n*2\n",
    "    \n",
    "    # One-sided PSD\n",
    "    psd = (1/(fs*n)) * np.square(np.abs(signal_fft[:n//2]))\n",
    "    freq_psd = signal_freq[0:int(n/2)]\n",
    "    psd_one_side = psd[0:int(n/2)]\n",
    "    \n",
    "    processed_csv_file = file_csv.replace(\".csv\", \"_processed.csv\")\n",
    "    df.to_csv(processed_csv_file, index=False)\n",
    "    \n",
    "    # fig, axs = plt.subplots(2, 2, figsize=(10,10))\n",
    "\n",
    "    # axs[0, 0].plot(var, filtered_signal)\n",
    "    # axs[0, 0].set_title(file_csv)\n",
    "    # axs[0, 0].set_xlabel('Time (us)')\n",
    "    # axs[0, 0].set_ylabel('Amplitude (V)')\n",
    "\n",
    "    # axs[0, 1].plot(var, rectified_signal)\n",
    "    # axs[0, 1].set_title(file_csv)\n",
    "    # axs[0, 1].set_xlabel('Time (us)')\n",
    "    # axs[0, 1].set_ylabel('Amplitude (V)')\n",
    "\n",
    "    # axs[1, 0].plot(freq, fft_amp)\n",
    "    # axs[1, 0].set_title(file_csv)\n",
    "    # axs[1, 0].set_xlabel('Frequency (MHz)')\n",
    "    # axs[1, 0].set_ylabel('Amplitude Power/Frequency (dB/Hz)')\n",
    "\n",
    "    # axs[1, 1].plot(freq_psd, psd_one_side)\n",
    "    # axs[1, 1].set_title(file_csv)\n",
    "    # axs[1, 1].set_xlabel('Frequency (MHz)')\n",
    "    # axs[1, 1].set_ylabel('Power/Frequency (dB/Hz)')\n",
    "\n",
    "    # save_img = file_csv+\".png\"\n",
    "    # plt.savefig(save_img)\n"
   ]
  },
  {
   "cell_type": "markdown",
   "metadata": {},
   "source": [
    "# Move PSD to New Folder"
   ]
  },
  {
   "cell_type": "code",
   "execution_count": 6,
   "metadata": {},
   "outputs": [
    {
     "name": "stdout",
     "output_type": "stream",
     "text": [
      "Moved ' C:/TA/LTSM/30%\\A301_processed.csv  to  ./Process/A301_processed.csv\n",
      "Moved ' C:/TA/LTSM/30%\\A302_processed.csv  to  ./Process/A302_processed.csv\n",
      "Moved ' C:/TA/LTSM/30%\\A303_processed.csv  to  ./Process/A303_processed.csv\n",
      "Moved ' C:/TA/LTSM/30%\\A304_processed.csv  to  ./Process/A304_processed.csv\n",
      "Moved ' C:/TA/LTSM/30%\\A305_processed.csv  to  ./Process/A305_processed.csv\n",
      "Moved ' C:/TA/LTSM/30%\\K301_processed.csv  to  ./Process/K301_processed.csv\n",
      "Moved ' C:/TA/LTSM/30%\\K302_processed.csv  to  ./Process/K302_processed.csv\n",
      "Moved ' C:/TA/LTSM/30%\\S301_processed.csv  to  ./Process/S301_processed.csv\n",
      "Moved ' C:/TA/LTSM/30%\\S302_processed.csv  to  ./Process/S302_processed.csv\n",
      "Moved ' C:/TA/LTSM/30%\\S303_processed.csv  to  ./Process/S303_processed.csv\n",
      "Moved ' C:/TA/LTSM/30%\\S304_processed.csv  to  ./Process/S304_processed.csv\n",
      "Moved ' C:/TA/LTSM/30%\\S305_processed.csv  to  ./Process/S305_processed.csv\n",
      "Moved ' C:/TA/LTSM/50%\\A501_processed.csv  to  ./Process/A501_processed.csv\n",
      "Moved ' C:/TA/LTSM/50%\\A502_processed.csv  to  ./Process/A502_processed.csv\n",
      "Moved ' C:/TA/LTSM/50%\\A503_processed.csv  to  ./Process/A503_processed.csv\n",
      "Moved ' C:/TA/LTSM/50%\\A504_processed.csv  to  ./Process/A504_processed.csv\n",
      "Moved ' C:/TA/LTSM/50%\\A505_processed.csv  to  ./Process/A505_processed.csv\n",
      "Moved ' C:/TA/LTSM/50%\\K501_processed.csv  to  ./Process/K501_processed.csv\n",
      "Moved ' C:/TA/LTSM/50%\\K502_processed.csv  to  ./Process/K502_processed.csv\n",
      "Moved ' C:/TA/LTSM/50%\\S501_processed.csv  to  ./Process/S501_processed.csv\n",
      "Moved ' C:/TA/LTSM/50%\\S502_processed.csv  to  ./Process/S502_processed.csv\n",
      "Moved ' C:/TA/LTSM/50%\\S503_processed.csv  to  ./Process/S503_processed.csv\n",
      "Moved ' C:/TA/LTSM/50%\\S504_processed.csv  to  ./Process/S504_processed.csv\n",
      "Moved ' C:/TA/LTSM/50%\\S505_processed.csv  to  ./Process/S505_processed.csv\n",
      "Moved ' C:/TA/LTSM/70%\\A701_processed.csv  to  ./Process/A701_processed.csv\n",
      "Moved ' C:/TA/LTSM/70%\\A702_processed.csv  to  ./Process/A702_processed.csv\n",
      "Moved ' C:/TA/LTSM/70%\\A703_processed.csv  to  ./Process/A703_processed.csv\n",
      "Moved ' C:/TA/LTSM/70%\\A704_processed.csv  to  ./Process/A704_processed.csv\n",
      "Moved ' C:/TA/LTSM/70%\\A705_processed.csv  to  ./Process/A705_processed.csv\n",
      "Moved ' C:/TA/LTSM/70%\\K701_processed.csv  to  ./Process/K701_processed.csv\n",
      "Moved ' C:/TA/LTSM/70%\\K702_processed.csv  to  ./Process/K702_processed.csv\n",
      "Moved ' C:/TA/LTSM/70%\\S701_processed.csv  to  ./Process/S701_processed.csv\n",
      "Moved ' C:/TA/LTSM/70%\\S702_processed.csv  to  ./Process/S702_processed.csv\n",
      "Moved ' C:/TA/LTSM/70%\\S703_processed.csv  to  ./Process/S703_processed.csv\n",
      "Moved ' C:/TA/LTSM/70%\\S704_processed.csv  to  ./Process/S704_processed.csv\n",
      "Moved ' C:/TA/LTSM/70%\\S705_processed.csv  to  ./Process/S705_processed.csv\n",
      "Moved ' C:/TA/LTSM/90%\\A901_processed.csv  to  ./Process/A901_processed.csv\n",
      "Moved ' C:/TA/LTSM/90%\\A902_processed.csv  to  ./Process/A902_processed.csv\n",
      "Moved ' C:/TA/LTSM/90%\\A903_processed.csv  to  ./Process/A903_processed.csv\n",
      "Moved ' C:/TA/LTSM/90%\\A904_processed.csv  to  ./Process/A904_processed.csv\n",
      "Moved ' C:/TA/LTSM/90%\\A905_processed.csv  to  ./Process/A905_processed.csv\n",
      "Moved ' C:/TA/LTSM/90%\\K901_processed.csv  to  ./Process/K901_processed.csv\n",
      "Moved ' C:/TA/LTSM/90%\\K902_processed.csv  to  ./Process/K902_processed.csv\n",
      "Moved ' C:/TA/LTSM/90%\\S901_processed.csv  to  ./Process/S901_processed.csv\n",
      "Moved ' C:/TA/LTSM/90%\\S902_processed.csv  to  ./Process/S902_processed.csv\n",
      "Moved ' C:/TA/LTSM/90%\\S903_processed.csv  to  ./Process/S903_processed.csv\n",
      "Moved ' C:/TA/LTSM/90%\\S904_processed.csv  to  ./Process/S904_processed.csv\n",
      "Moved ' C:/TA/LTSM/90%\\S905_processed.csv  to  ./Process/S905_processed.csv\n",
      "Moved ' C:/TA/LTSM/Process\\A301_processed.csv  to  ./Process/A301_processed.csv\n",
      "Moved ' C:/TA/LTSM/Process\\A302_processed.csv  to  ./Process/A302_processed.csv\n",
      "Moved ' C:/TA/LTSM/Process\\A303_processed.csv  to  ./Process/A303_processed.csv\n",
      "Moved ' C:/TA/LTSM/Process\\A304_processed.csv  to  ./Process/A304_processed.csv\n",
      "Moved ' C:/TA/LTSM/Process\\A305_processed.csv  to  ./Process/A305_processed.csv\n",
      "Moved ' C:/TA/LTSM/Process\\A501_processed.csv  to  ./Process/A501_processed.csv\n",
      "Moved ' C:/TA/LTSM/Process\\A502_processed.csv  to  ./Process/A502_processed.csv\n",
      "Moved ' C:/TA/LTSM/Process\\A503_processed.csv  to  ./Process/A503_processed.csv\n",
      "Moved ' C:/TA/LTSM/Process\\A504_processed.csv  to  ./Process/A504_processed.csv\n",
      "Moved ' C:/TA/LTSM/Process\\A505_processed.csv  to  ./Process/A505_processed.csv\n",
      "Moved ' C:/TA/LTSM/Process\\A701_processed.csv  to  ./Process/A701_processed.csv\n",
      "Moved ' C:/TA/LTSM/Process\\A702_processed.csv  to  ./Process/A702_processed.csv\n",
      "Moved ' C:/TA/LTSM/Process\\A703_processed.csv  to  ./Process/A703_processed.csv\n",
      "Moved ' C:/TA/LTSM/Process\\A704_processed.csv  to  ./Process/A704_processed.csv\n",
      "Moved ' C:/TA/LTSM/Process\\A705_processed.csv  to  ./Process/A705_processed.csv\n",
      "Moved ' C:/TA/LTSM/Process\\A901_processed.csv  to  ./Process/A901_processed.csv\n",
      "Moved ' C:/TA/LTSM/Process\\A902_processed.csv  to  ./Process/A902_processed.csv\n",
      "Moved ' C:/TA/LTSM/Process\\A903_processed.csv  to  ./Process/A903_processed.csv\n",
      "Moved ' C:/TA/LTSM/Process\\A904_processed.csv  to  ./Process/A904_processed.csv\n",
      "Moved ' C:/TA/LTSM/Process\\A905_processed.csv  to  ./Process/A905_processed.csv\n",
      "Moved ' C:/TA/LTSM/Process\\K301_processed.csv  to  ./Process/K301_processed.csv\n",
      "Moved ' C:/TA/LTSM/Process\\K302_processed.csv  to  ./Process/K302_processed.csv\n",
      "Moved ' C:/TA/LTSM/Process\\K501_processed.csv  to  ./Process/K501_processed.csv\n",
      "Moved ' C:/TA/LTSM/Process\\K502_processed.csv  to  ./Process/K502_processed.csv\n",
      "Moved ' C:/TA/LTSM/Process\\K701_processed.csv  to  ./Process/K701_processed.csv\n",
      "Moved ' C:/TA/LTSM/Process\\K702_processed.csv  to  ./Process/K702_processed.csv\n",
      "Moved ' C:/TA/LTSM/Process\\K901_processed.csv  to  ./Process/K901_processed.csv\n",
      "Moved ' C:/TA/LTSM/Process\\K902_processed.csv  to  ./Process/K902_processed.csv\n",
      "Moved ' C:/TA/LTSM/Process\\S301_processed.csv  to  ./Process/S301_processed.csv\n",
      "Moved ' C:/TA/LTSM/Process\\S302_processed.csv  to  ./Process/S302_processed.csv\n",
      "Moved ' C:/TA/LTSM/Process\\S303_processed.csv  to  ./Process/S303_processed.csv\n",
      "Moved ' C:/TA/LTSM/Process\\S304_processed.csv  to  ./Process/S304_processed.csv\n",
      "Moved ' C:/TA/LTSM/Process\\S305_processed.csv  to  ./Process/S305_processed.csv\n",
      "Moved ' C:/TA/LTSM/Process\\S501_processed.csv  to  ./Process/S501_processed.csv\n",
      "Moved ' C:/TA/LTSM/Process\\S502_processed.csv  to  ./Process/S502_processed.csv\n",
      "Moved ' C:/TA/LTSM/Process\\S503_processed.csv  to  ./Process/S503_processed.csv\n",
      "Moved ' C:/TA/LTSM/Process\\S504_processed.csv  to  ./Process/S504_processed.csv\n",
      "Moved ' C:/TA/LTSM/Process\\S505_processed.csv  to  ./Process/S505_processed.csv\n",
      "Moved ' C:/TA/LTSM/Process\\S701_processed.csv  to  ./Process/S701_processed.csv\n",
      "Moved ' C:/TA/LTSM/Process\\S702_processed.csv  to  ./Process/S702_processed.csv\n",
      "Moved ' C:/TA/LTSM/Process\\S703_processed.csv  to  ./Process/S703_processed.csv\n",
      "Moved ' C:/TA/LTSM/Process\\S704_processed.csv  to  ./Process/S704_processed.csv\n",
      "Moved ' C:/TA/LTSM/Process\\S705_processed.csv  to  ./Process/S705_processed.csv\n",
      "Moved ' C:/TA/LTSM/Process\\S901_processed.csv  to  ./Process/S901_processed.csv\n",
      "Moved ' C:/TA/LTSM/Process\\S902_processed.csv  to  ./Process/S902_processed.csv\n",
      "Moved ' C:/TA/LTSM/Process\\S903_processed.csv  to  ./Process/S903_processed.csv\n",
      "Moved ' C:/TA/LTSM/Process\\S904_processed.csv  to  ./Process/S904_processed.csv\n",
      "Moved ' C:/TA/LTSM/Process\\S905_processed.csv  to  ./Process/S905_processed.csv\n"
     ]
    }
   ],
   "source": [
    "os.chdir(load)\n",
    "if not os.path.exists(load+\"Process\"):\n",
    "        os.makedirs(load+\"Process\")\n",
    "        print(\"'data' folder created\")\n",
    "        \n",
    "for root, dirs, files in os.walk(load):\n",
    "        for filename in files:\n",
    "            if filename.endswith(\"_processed.csv\"):\n",
    "                original_file = os.path.join(root, filename)                \n",
    "                if not \"Process/\" in original_file:\n",
    "                    print(\"Moved '\",original_file,\" to \",\"./Process/\"+filename)\n",
    "                    os.rename(original_file, \"./Process/\"+filename)"
   ]
  },
  {
   "cell_type": "markdown",
   "metadata": {},
   "source": [
    "# Gabungkan Dataset menjadi satu"
   ]
  },
  {
   "cell_type": "code",
   "execution_count": 6,
   "metadata": {},
   "outputs": [],
   "source": [
    "# Menggunakan glob untuk mendapatkan daftar file CSV\n",
    "csv_files = glob.glob(proc_30)\n",
    "\n",
    "# Membuat list kosong untuk menyimpan DataFrame dari setiap file CSV\n",
    "dataframes = []\n",
    "\n",
    "# Menggabungkan semua file CSV menjadi satu DataFrame\n",
    "for file in csv_files:\n",
    "    df = pd.read_csv(file)\n",
    "    dataframes.append(df)\n",
    "\n",
    "# Menggabungkan DataFrame daE:\\LSTMlam list menjadi satu DataFrame utama\n",
    "combined_df = pd.concat(dataframes, ignore_index=True)\n",
    "\n",
    "combined_df.to_csv('E:/LSTM/Process/Comb/1.csv', index=True)\n",
    "# combined_df.to_csv('E:/Sekolah/Telkom/TA/LTSM/Process/Comb/1.csv', index=False)"
   ]
  },
  {
   "cell_type": "code",
   "execution_count": 7,
   "metadata": {},
   "outputs": [],
   "source": [
    "# Menggunakan glob untuk mendapatkan daftar file CSV\n",
    "csv_files = glob.glob(proc_50)\n",
    "\n",
    "# Membuat list kosong untuk menyimpan DataFrame dari setiap file CSV\n",
    "dataframes = []\n",
    "\n",
    "# Menggabungkan semua file CSV menjadi satu DataFrame\n",
    "for file in csv_files:\n",
    "    df = pd.read_csv(file)\n",
    "    dataframes.append(df)\n",
    "\n",
    "# Menggabungkan DataFrame dalam list menjadi satu DataFrame utama\n",
    "combined_df = pd.concat(dataframes, ignore_index=True)\n",
    "\n",
    "combined_df.to_csv('E:/LSTM/Process/Comb/2.csv', index=True)"
   ]
  },
  {
   "cell_type": "code",
   "execution_count": 10,
   "metadata": {},
   "outputs": [],
   "source": [
    "# Menggunakan glob untuk mendapatkan daftar file CSV\n",
    "csv_files = glob.glob(proc_70)\n",
    "\n",
    "# Membuat list kosong untuk menyimpan DataFrame dari setiap file CSV\n",
    "dataframes = []\n",
    "\n",
    "# Menggabungkan semua file CSV menjadi satu DataFrame\n",
    "for file in csv_files:\n",
    "    df = pd.read_csv(file)\n",
    "    dataframes.append(df)\n",
    "\n",
    "# Menggabungkan DataFrame dalam list menjadi satu DataFrame utama\n",
    "combined_df = pd.concat(dataframes, ignore_index=True)\n",
    "\n",
    "combined_df.to_csv('E:/LSTM/Process/Comb/3.csv', index=True)"
   ]
  },
  {
   "cell_type": "code",
   "execution_count": 13,
   "metadata": {},
   "outputs": [],
   "source": [
    "# Menggunakan glob untuk mendapatkan daftar file CSV\n",
    "csv_files = glob.glob(proc_90)\n",
    "\n",
    "# Membuat list kosong untuk menyimpan DataFrame dari setiap file CSV\n",
    "dataframes = []\n",
    "\n",
    "# Menggabungkan semua file CSV menjadi satu DataFrame\n",
    "for file in csv_files:\n",
    "    df = pd.read_csv(file)\n",
    "    dataframes.append(df)\n",
    "\n",
    "# Menggabungkan DataFrame dalam list menjadi satu DataFrame utama\n",
    "combined_df = pd.concat(dataframes, ignore_index=True)\n",
    "\n",
    "combined_df.to_csv('E:/LSTM/Process/Comb/4.csv', index=True)"
   ]
  },
  {
   "cell_type": "code",
   "execution_count": 14,
   "metadata": {},
   "outputs": [
    {
     "name": "stdout",
     "output_type": "stream",
     "text": [
      "        Unnamed: 0           X         Y    label\n",
      "0                0    5.000000 -0.035156  label_1\n",
      "1                1    5.015625 -0.035156  label_1\n",
      "2                2    5.031250 -0.039062  label_1\n",
      "3                3    5.046875 -0.007812  label_1\n",
      "4                4    5.062500  0.117188  label_1\n",
      "...            ...         ...       ...      ...\n",
      "599035      149755  199.921875 -0.003906  label_4\n",
      "599036      149756  199.937500 -0.003906  label_4\n",
      "599037      149757  199.953125  0.000000  label_4\n",
      "599038      149758  199.968750 -1.523438  label_4\n",
      "599039      149759  199.984375  1.519531  label_4\n",
      "\n",
      "[599040 rows x 4 columns]\n"
     ]
    }
   ],
   "source": [
    "merge = 'E:/LSTM/Process/Comb/All.csv'\n",
    "\n",
    "# Menggunakan glob untuk mendapatkan daftar file CSV\n",
    "csv_files = glob.glob(combine)\n",
    "\n",
    "# Membuat list kosong untuk menyimpan DataFrame dari setiap file CSV\n",
    "dataframes = []\n",
    "\n",
    "# Menggabungkan semua file CSV menjadi satu DataFrame\n",
    "for i, file in enumerate(csv_files):\n",
    "    df = pd.read_csv(file)\n",
    "    df['label'] = f'label_{i+1}'\n",
    "    dataframes.append(df)\n",
    "# Menggabungkan DataFrame dalam list menjadi satu DataFrame utama\n",
    "combined_df = pd.concat(dataframes, ignore_index=True)\n",
    "\n",
    "# Menampilkan hasil gabungan\n",
    "print(combined_df)\n",
    "\n",
    "combined_df.to_csv(merge, index=False)"
   ]
  },
  {
   "cell_type": "markdown",
   "metadata": {},
   "source": [
    "# Rename Label"
   ]
  },
  {
   "cell_type": "code",
   "execution_count": 15,
   "metadata": {},
   "outputs": [],
   "source": [
    "data_df = pd.read_csv(merge)\n",
    "\n",
    "label_mapping = {\n",
    "    'label_1': 'Density 30%',\n",
    "    'label_2': 'Density 50%',\n",
    "    'label_3': 'Density 70%',\n",
    "    'label_4': 'Density 90%'\n",
    "}\n",
    "\n",
    "data_df['label'] = data_df['label'].map(label_mapping)\n",
    "data_df.to_csv(merge, index=False)"
   ]
  },
  {
   "cell_type": "markdown",
   "metadata": {},
   "source": [
    "# Train Dataset"
   ]
  },
  {
   "cell_type": "code",
   "execution_count": 16,
   "metadata": {},
   "outputs": [],
   "source": [
    "# Membaca dataset utama untuk pelatihan\n",
    "merge = 'E:/LSTM/Process/Comb/All.csv'\n",
    "data_df = pd.read_csv(merge)\n",
    "X = data_df.iloc[:, :-1].values\n",
    "y = data_df.iloc[:, -1].values"
   ]
  },
  {
   "cell_type": "code",
   "execution_count": 17,
   "metadata": {},
   "outputs": [
    {
     "name": "stdout",
     "output_type": "stream",
     "text": [
      "(599040, 4)\n"
     ]
    }
   ],
   "source": [
    "# Menggunakan LabelEncoder untuk mengubah label menjadi nilai numerik\n",
    "label_encoder = LabelEncoder()\n",
    "y_encoded = label_encoder.fit_transform(y)\n",
    "y_encoded_categorical = utils.to_categorical(y_encoded)\n",
    "print(y_encoded_categorical.shape)"
   ]
  },
  {
   "cell_type": "code",
   "execution_count": 18,
   "metadata": {},
   "outputs": [],
   "source": [
    "# Membagi dataset menjadi data pelatihan dan data validasi\n",
    "X_train, X_val, y_train, y_val = train_test_split(X, y_encoded_categorical, test_size=0.2, random_state=42)\n",
    "\n",
    "X_train = X_train.reshape((X_train.shape[0], X_train.shape[1], 1))\n",
    "X_val = np.reshape(X_val, (X_val.shape[0], X_val.shape[1], 1))"
   ]
  },
  {
   "cell_type": "markdown",
   "metadata": {},
   "source": [
    "## Metode LSTM"
   ]
  },
  {
   "cell_type": "code",
   "execution_count": 22,
   "metadata": {},
   "outputs": [],
   "source": [
    "# Membangun model LSTM\n",
    "model = Sequential()\n",
    "model.add(LSTM(64, input_shape=(X_train.shape[1], X_train.shape[2])))\n",
    "model.add(Dense(y_encoded_categorical.shape[1], activation='softmax'))\n",
    "model.compile(loss='categorical_crossentropy', optimizer='adam', metrics=['accuracy'])"
   ]
  },
  {
   "cell_type": "code",
   "execution_count": 64,
   "metadata": {},
   "outputs": [
    {
     "name": "stdout",
     "output_type": "stream",
     "text": [
      "Epoch 1/100\n",
      "7488/7488 [==============================] - 49s 6ms/step - loss: 0.7217 - accuracy: 0.6392 - val_loss: 0.7218 - val_accuracy: 0.6399\n",
      "Epoch 2/100\n",
      "7488/7488 [==============================] - 42s 6ms/step - loss: 0.7221 - accuracy: 0.6392 - val_loss: 0.7310 - val_accuracy: 0.6365\n",
      "Epoch 3/100\n",
      "7488/7488 [==============================] - 42s 6ms/step - loss: 0.7216 - accuracy: 0.6394 - val_loss: 0.7212 - val_accuracy: 0.6410\n",
      "Epoch 4/100\n",
      "7488/7488 [==============================] - 43s 6ms/step - loss: 0.7209 - accuracy: 0.6393 - val_loss: 0.7261 - val_accuracy: 0.6357\n",
      "Epoch 5/100\n",
      "7488/7488 [==============================] - 44s 6ms/step - loss: 0.7214 - accuracy: 0.6394 - val_loss: 0.7276 - val_accuracy: 0.6436\n",
      "Epoch 6/100\n",
      "7488/7488 [==============================] - 43s 6ms/step - loss: 0.7208 - accuracy: 0.6395 - val_loss: 0.7300 - val_accuracy: 0.6369\n",
      "Epoch 7/100\n",
      "7488/7488 [==============================] - 43s 6ms/step - loss: 0.7205 - accuracy: 0.6390 - val_loss: 0.7186 - val_accuracy: 0.6405\n",
      "Epoch 8/100\n",
      "7488/7488 [==============================] - 44s 6ms/step - loss: 0.7206 - accuracy: 0.6393 - val_loss: 0.7210 - val_accuracy: 0.6301\n",
      "Epoch 9/100\n",
      "7488/7488 [==============================] - 43s 6ms/step - loss: 0.7198 - accuracy: 0.6398 - val_loss: 0.7226 - val_accuracy: 0.6340\n",
      "Epoch 10/100\n",
      "7488/7488 [==============================] - 41s 5ms/step - loss: 0.7197 - accuracy: 0.6395 - val_loss: 0.7185 - val_accuracy: 0.6382\n",
      "Epoch 11/100\n",
      "7488/7488 [==============================] - 42s 6ms/step - loss: 0.7192 - accuracy: 0.6403 - val_loss: 0.7177 - val_accuracy: 0.6384\n",
      "Epoch 12/100\n",
      "7488/7488 [==============================] - 42s 6ms/step - loss: 0.7198 - accuracy: 0.6393 - val_loss: 0.7189 - val_accuracy: 0.6412\n",
      "Epoch 13/100\n",
      "7488/7488 [==============================] - 41s 6ms/step - loss: 0.7191 - accuracy: 0.6395 - val_loss: 0.7174 - val_accuracy: 0.6394\n",
      "Epoch 14/100\n",
      "7488/7488 [==============================] - 42s 6ms/step - loss: 0.7185 - accuracy: 0.6403 - val_loss: 0.7195 - val_accuracy: 0.6450\n",
      "Epoch 15/100\n",
      "7488/7488 [==============================] - 41s 6ms/step - loss: 0.7184 - accuracy: 0.6402 - val_loss: 0.7213 - val_accuracy: 0.6325\n",
      "Epoch 16/100\n",
      "7488/7488 [==============================] - 42s 6ms/step - loss: 0.7181 - accuracy: 0.6400 - val_loss: 0.7182 - val_accuracy: 0.6370\n",
      "Epoch 17/100\n",
      "7488/7488 [==============================] - 40s 5ms/step - loss: 0.7179 - accuracy: 0.6409 - val_loss: 0.7182 - val_accuracy: 0.6346\n",
      "Epoch 18/100\n",
      "7488/7488 [==============================] - 42s 6ms/step - loss: 0.7177 - accuracy: 0.6399 - val_loss: 0.7170 - val_accuracy: 0.6379\n",
      "Epoch 19/100\n",
      "7488/7488 [==============================] - 39s 5ms/step - loss: 0.7175 - accuracy: 0.6403 - val_loss: 0.7184 - val_accuracy: 0.6421\n",
      "Epoch 20/100\n",
      "7488/7488 [==============================] - 42s 6ms/step - loss: 0.7173 - accuracy: 0.6406 - val_loss: 0.7158 - val_accuracy: 0.6418\n",
      "Epoch 21/100\n",
      "7488/7488 [==============================] - 41s 5ms/step - loss: 0.7173 - accuracy: 0.6408 - val_loss: 0.7172 - val_accuracy: 0.6345\n",
      "Epoch 22/100\n",
      "7488/7488 [==============================] - 41s 6ms/step - loss: 0.7174 - accuracy: 0.6403 - val_loss: 0.7207 - val_accuracy: 0.6426\n",
      "Epoch 23/100\n",
      "7488/7488 [==============================] - 41s 5ms/step - loss: 0.7164 - accuracy: 0.6410 - val_loss: 0.7168 - val_accuracy: 0.6357\n",
      "Epoch 24/100\n",
      "7488/7488 [==============================] - 41s 5ms/step - loss: 0.7165 - accuracy: 0.6410 - val_loss: 0.7188 - val_accuracy: 0.6347\n",
      "Epoch 25/100\n",
      "7488/7488 [==============================] - 42s 6ms/step - loss: 0.7162 - accuracy: 0.6414 - val_loss: 0.7189 - val_accuracy: 0.6277\n",
      "Epoch 26/100\n",
      "7488/7488 [==============================] - 40s 5ms/step - loss: 0.7160 - accuracy: 0.6412 - val_loss: 0.7209 - val_accuracy: 0.6405\n",
      "Epoch 27/100\n",
      "7488/7488 [==============================] - 44s 6ms/step - loss: 0.7199 - accuracy: 0.6399 - val_loss: 0.7160 - val_accuracy: 0.6413\n",
      "Epoch 28/100\n",
      "7488/7488 [==============================] - 42s 6ms/step - loss: 0.7164 - accuracy: 0.6409 - val_loss: 0.7187 - val_accuracy: 0.6393\n",
      "Epoch 29/100\n",
      "7488/7488 [==============================] - 42s 6ms/step - loss: 0.7162 - accuracy: 0.6408 - val_loss: 0.7236 - val_accuracy: 0.6464\n",
      "Epoch 30/100\n",
      "7488/7488 [==============================] - 42s 6ms/step - loss: 0.7156 - accuracy: 0.6412 - val_loss: 0.7188 - val_accuracy: 0.6327\n",
      "Epoch 31/100\n",
      "7488/7488 [==============================] - 44s 6ms/step - loss: 0.7158 - accuracy: 0.6418 - val_loss: 0.7175 - val_accuracy: 0.6452\n",
      "Epoch 32/100\n",
      "7488/7488 [==============================] - 42s 6ms/step - loss: 0.7155 - accuracy: 0.6422 - val_loss: 0.7202 - val_accuracy: 0.6448\n",
      "Epoch 33/100\n",
      "7488/7488 [==============================] - 41s 6ms/step - loss: 0.7152 - accuracy: 0.6413 - val_loss: 0.7199 - val_accuracy: 0.6454\n",
      "Epoch 34/100\n",
      "7488/7488 [==============================] - 43s 6ms/step - loss: 0.7154 - accuracy: 0.6422 - val_loss: 0.7191 - val_accuracy: 0.6375\n",
      "Epoch 35/100\n",
      "7488/7488 [==============================] - 43s 6ms/step - loss: 0.7149 - accuracy: 0.6422 - val_loss: 0.7192 - val_accuracy: 0.6334\n",
      "Epoch 36/100\n",
      "7488/7488 [==============================] - 42s 6ms/step - loss: 0.7150 - accuracy: 0.6418 - val_loss: 0.7159 - val_accuracy: 0.6345\n",
      "Epoch 37/100\n",
      "7488/7488 [==============================] - 43s 6ms/step - loss: 0.7148 - accuracy: 0.6419 - val_loss: 0.7185 - val_accuracy: 0.6377\n",
      "Epoch 38/100\n",
      "7488/7488 [==============================] - 43s 6ms/step - loss: 0.7143 - accuracy: 0.6422 - val_loss: 0.7140 - val_accuracy: 0.6417\n",
      "Epoch 39/100\n",
      "7488/7488 [==============================] - 45s 6ms/step - loss: 0.7145 - accuracy: 0.6428 - val_loss: 0.7154 - val_accuracy: 0.6471\n",
      "Epoch 40/100\n",
      "7488/7488 [==============================] - 45s 6ms/step - loss: 0.7164 - accuracy: 0.6410 - val_loss: 0.7160 - val_accuracy: 0.6445\n",
      "Epoch 41/100\n",
      "7488/7488 [==============================] - 42s 6ms/step - loss: 0.7139 - accuracy: 0.6425 - val_loss: 0.7144 - val_accuracy: 0.6335\n",
      "Epoch 42/100\n",
      "7488/7488 [==============================] - 42s 6ms/step - loss: 0.7138 - accuracy: 0.6423 - val_loss: 0.7145 - val_accuracy: 0.6317\n",
      "Epoch 43/100\n",
      "7488/7488 [==============================] - 43s 6ms/step - loss: 0.7134 - accuracy: 0.6424 - val_loss: 0.7126 - val_accuracy: 0.6383\n",
      "Epoch 44/100\n",
      "7488/7488 [==============================] - 42s 6ms/step - loss: 0.7135 - accuracy: 0.6429 - val_loss: 0.7187 - val_accuracy: 0.6243\n",
      "Epoch 45/100\n",
      "7488/7488 [==============================] - 42s 6ms/step - loss: 0.7131 - accuracy: 0.6429 - val_loss: 0.7139 - val_accuracy: 0.6373\n",
      "Epoch 46/100\n",
      "7488/7488 [==============================] - 42s 6ms/step - loss: 0.7129 - accuracy: 0.6429 - val_loss: 0.7132 - val_accuracy: 0.6397\n",
      "Epoch 47/100\n",
      "7488/7488 [==============================] - 43s 6ms/step - loss: 0.7126 - accuracy: 0.6432 - val_loss: 0.7142 - val_accuracy: 0.6325\n",
      "Epoch 48/100\n",
      "7488/7488 [==============================] - 45s 6ms/step - loss: 0.7125 - accuracy: 0.6429 - val_loss: 0.7140 - val_accuracy: 0.6331\n",
      "Epoch 49/100\n",
      "7488/7488 [==============================] - 43s 6ms/step - loss: 0.7124 - accuracy: 0.6429 - val_loss: 0.7130 - val_accuracy: 0.6459\n",
      "Epoch 50/100\n",
      "7488/7488 [==============================] - 43s 6ms/step - loss: 0.7124 - accuracy: 0.6431 - val_loss: 0.7126 - val_accuracy: 0.6454\n",
      "Epoch 51/100\n",
      "7488/7488 [==============================] - 42s 6ms/step - loss: 0.7125 - accuracy: 0.6429 - val_loss: 0.7192 - val_accuracy: 0.6459\n",
      "Epoch 52/100\n",
      "7488/7488 [==============================] - 44s 6ms/step - loss: 0.7122 - accuracy: 0.6440 - val_loss: 0.7133 - val_accuracy: 0.6431\n",
      "Epoch 53/100\n",
      "7488/7488 [==============================] - 43s 6ms/step - loss: 0.7122 - accuracy: 0.6433 - val_loss: 0.7147 - val_accuracy: 0.6472\n",
      "Epoch 54/100\n",
      "7488/7488 [==============================] - 43s 6ms/step - loss: 0.7121 - accuracy: 0.6438 - val_loss: 0.7113 - val_accuracy: 0.6425\n",
      "Epoch 55/100\n",
      "7488/7488 [==============================] - 42s 6ms/step - loss: 0.7125 - accuracy: 0.6433 - val_loss: 0.7147 - val_accuracy: 0.6377\n",
      "Epoch 56/100\n",
      "7488/7488 [==============================] - 44s 6ms/step - loss: 0.7116 - accuracy: 0.6441 - val_loss: 0.7130 - val_accuracy: 0.6419\n",
      "Epoch 57/100\n",
      "7488/7488 [==============================] - 43s 6ms/step - loss: 0.7115 - accuracy: 0.6440 - val_loss: 0.7173 - val_accuracy: 0.6337\n",
      "Epoch 58/100\n",
      "7488/7488 [==============================] - 42s 6ms/step - loss: 0.7118 - accuracy: 0.6436 - val_loss: 0.7130 - val_accuracy: 0.6442\n",
      "Epoch 59/100\n",
      "7488/7488 [==============================] - 43s 6ms/step - loss: 0.7115 - accuracy: 0.6443 - val_loss: 0.7124 - val_accuracy: 0.6325\n",
      "Epoch 60/100\n",
      "7488/7488 [==============================] - 44s 6ms/step - loss: 0.7120 - accuracy: 0.6438 - val_loss: 0.7187 - val_accuracy: 0.6441\n",
      "Epoch 61/100\n",
      "7488/7488 [==============================] - 44s 6ms/step - loss: 0.7115 - accuracy: 0.6442 - val_loss: 0.7130 - val_accuracy: 0.6329\n",
      "Epoch 62/100\n",
      "7488/7488 [==============================] - 43s 6ms/step - loss: 0.7114 - accuracy: 0.6440 - val_loss: 0.7135 - val_accuracy: 0.6432\n",
      "Epoch 63/100\n",
      "7488/7488 [==============================] - 44s 6ms/step - loss: 0.7114 - accuracy: 0.6444 - val_loss: 0.7179 - val_accuracy: 0.6255\n",
      "Epoch 64/100\n",
      "7488/7488 [==============================] - 44s 6ms/step - loss: 0.7113 - accuracy: 0.6443 - val_loss: 0.7177 - val_accuracy: 0.6412\n",
      "Epoch 65/100\n",
      "7488/7488 [==============================] - 42s 6ms/step - loss: 0.7111 - accuracy: 0.6437 - val_loss: 0.7129 - val_accuracy: 0.6335\n",
      "Epoch 66/100\n",
      "7488/7488 [==============================] - 43s 6ms/step - loss: 0.7111 - accuracy: 0.6444 - val_loss: 0.7197 - val_accuracy: 0.6460\n",
      "Epoch 67/100\n",
      "7488/7488 [==============================] - 43s 6ms/step - loss: 0.7109 - accuracy: 0.6442 - val_loss: 0.7140 - val_accuracy: 0.6467\n",
      "Epoch 68/100\n",
      "7488/7488 [==============================] - 46s 6ms/step - loss: 0.7109 - accuracy: 0.6446 - val_loss: 0.7122 - val_accuracy: 0.6447\n",
      "Epoch 69/100\n",
      "7488/7488 [==============================] - 43s 6ms/step - loss: 0.7107 - accuracy: 0.6440 - val_loss: 0.7122 - val_accuracy: 0.6463\n",
      "Epoch 70/100\n",
      "7488/7488 [==============================] - 43s 6ms/step - loss: 0.7105 - accuracy: 0.6438 - val_loss: 0.7109 - val_accuracy: 0.6443\n",
      "Epoch 71/100\n",
      "7488/7488 [==============================] - 43s 6ms/step - loss: 0.7107 - accuracy: 0.6446 - val_loss: 0.7168 - val_accuracy: 0.6367\n",
      "Epoch 72/100\n",
      "7488/7488 [==============================] - 42s 6ms/step - loss: 0.7106 - accuracy: 0.6448 - val_loss: 0.7139 - val_accuracy: 0.6466\n",
      "Epoch 73/100\n",
      "7488/7488 [==============================] - 43s 6ms/step - loss: 0.7107 - accuracy: 0.6445 - val_loss: 0.7124 - val_accuracy: 0.6482\n",
      "Epoch 74/100\n",
      "7488/7488 [==============================] - 43s 6ms/step - loss: 0.7109 - accuracy: 0.6448 - val_loss: 0.7146 - val_accuracy: 0.6334\n",
      "Epoch 75/100\n",
      "7488/7488 [==============================] - 43s 6ms/step - loss: 0.7106 - accuracy: 0.6448 - val_loss: 0.7158 - val_accuracy: 0.6450\n",
      "Epoch 76/100\n",
      "7488/7488 [==============================] - 43s 6ms/step - loss: 0.7103 - accuracy: 0.6451 - val_loss: 0.7129 - val_accuracy: 0.6362\n",
      "Epoch 77/100\n",
      "7488/7488 [==============================] - 44s 6ms/step - loss: 0.7102 - accuracy: 0.6449 - val_loss: 0.7134 - val_accuracy: 0.6464\n",
      "Epoch 78/100\n",
      "7488/7488 [==============================] - 43s 6ms/step - loss: 0.7102 - accuracy: 0.6450 - val_loss: 0.7113 - val_accuracy: 0.6339\n",
      "Epoch 79/100\n",
      "7488/7488 [==============================] - 43s 6ms/step - loss: 0.7103 - accuracy: 0.6450 - val_loss: 0.7115 - val_accuracy: 0.6370\n",
      "Epoch 80/100\n",
      "7488/7488 [==============================] - 44s 6ms/step - loss: 0.7100 - accuracy: 0.6450 - val_loss: 0.7187 - val_accuracy: 0.6341\n",
      "Epoch 81/100\n",
      "7488/7488 [==============================] - 43s 6ms/step - loss: 0.7101 - accuracy: 0.6452 - val_loss: 0.7123 - val_accuracy: 0.6462\n",
      "Epoch 82/100\n",
      "7488/7488 [==============================] - 43s 6ms/step - loss: 0.7100 - accuracy: 0.6453 - val_loss: 0.7142 - val_accuracy: 0.6433\n",
      "Epoch 83/100\n",
      "7488/7488 [==============================] - 43s 6ms/step - loss: 0.7098 - accuracy: 0.6447 - val_loss: 0.7201 - val_accuracy: 0.6345\n",
      "Epoch 84/100\n",
      "7488/7488 [==============================] - 43s 6ms/step - loss: 0.7098 - accuracy: 0.6451 - val_loss: 0.7126 - val_accuracy: 0.6396\n",
      "Epoch 85/100\n",
      "7488/7488 [==============================] - 44s 6ms/step - loss: 0.7097 - accuracy: 0.6450 - val_loss: 0.7098 - val_accuracy: 0.6424\n",
      "Epoch 86/100\n",
      "7488/7488 [==============================] - 43s 6ms/step - loss: 0.7095 - accuracy: 0.6449 - val_loss: 0.7120 - val_accuracy: 0.6410\n",
      "Epoch 87/100\n",
      "7488/7488 [==============================] - 43s 6ms/step - loss: 0.7095 - accuracy: 0.6448 - val_loss: 0.7207 - val_accuracy: 0.6321\n",
      "Epoch 88/100\n",
      "7488/7488 [==============================] - 43s 6ms/step - loss: 0.7093 - accuracy: 0.6457 - val_loss: 0.7139 - val_accuracy: 0.6437\n",
      "Epoch 89/100\n",
      "7488/7488 [==============================] - 44s 6ms/step - loss: 0.7094 - accuracy: 0.6459 - val_loss: 0.7158 - val_accuracy: 0.6250\n",
      "Epoch 90/100\n",
      "7488/7488 [==============================] - 44s 6ms/step - loss: 0.7092 - accuracy: 0.6453 - val_loss: 0.7123 - val_accuracy: 0.6320\n",
      "Epoch 91/100\n",
      "7488/7488 [==============================] - 43s 6ms/step - loss: 0.7092 - accuracy: 0.6453 - val_loss: 0.7126 - val_accuracy: 0.6452\n",
      "Epoch 92/100\n",
      "7488/7488 [==============================] - 43s 6ms/step - loss: 0.7090 - accuracy: 0.6457 - val_loss: 0.7142 - val_accuracy: 0.6383\n",
      "Epoch 93/100\n",
      "7488/7488 [==============================] - 43s 6ms/step - loss: 0.7091 - accuracy: 0.6458 - val_loss: 0.7109 - val_accuracy: 0.6448\n",
      "Epoch 94/100\n",
      "7488/7488 [==============================] - 43s 6ms/step - loss: 0.7091 - accuracy: 0.6456 - val_loss: 0.7103 - val_accuracy: 0.6415\n",
      "Epoch 95/100\n",
      "7488/7488 [==============================] - 43s 6ms/step - loss: 0.7091 - accuracy: 0.6456 - val_loss: 0.7127 - val_accuracy: 0.6389\n",
      "Epoch 96/100\n",
      "7488/7488 [==============================] - 43s 6ms/step - loss: 0.7089 - accuracy: 0.6456 - val_loss: 0.7142 - val_accuracy: 0.6472\n",
      "Epoch 97/100\n",
      "7488/7488 [==============================] - 43s 6ms/step - loss: 0.7088 - accuracy: 0.6458 - val_loss: 0.7098 - val_accuracy: 0.6401\n",
      "Epoch 98/100\n",
      "7488/7488 [==============================] - 43s 6ms/step - loss: 0.7090 - accuracy: 0.6460 - val_loss: 0.7207 - val_accuracy: 0.6471\n",
      "Epoch 99/100\n",
      "7488/7488 [==============================] - 43s 6ms/step - loss: 0.7088 - accuracy: 0.6462 - val_loss: 0.7120 - val_accuracy: 0.6465\n",
      "Epoch 100/100\n",
      "7488/7488 [==============================] - 43s 6ms/step - loss: 0.7086 - accuracy: 0.6461 - val_loss: 0.7100 - val_accuracy: 0.6456\n"
     ]
    }
   ],
   "source": [
    "# Melatih model dengan dataset utama\n",
    "history = model.fit(X_train, y_train, epochs=100, batch_size=64, validation_data=(X_val, y_val))"
   ]
  },
  {
   "cell_type": "code",
   "execution_count": 65,
   "metadata": {},
   "outputs": [
    {
     "data": {
      "image/png": "[encoded data removed]",
      "text/plain": [
       "<Figure size 800x600 with 1 Axes>"
      ]
     },
     "metadata": {},
     "output_type": "display_data"
    },
    {
     "data": {
      "image/png": "[encoded data removed]",
      "text/plain": [
       "<Figure size 800x600 with 1 Axes>"
      ]
     },
     "metadata": {},
     "output_type": "display_data"
    }
   ],
   "source": [
    "# Ambil histori akurasi dan loss dari proses pelatihan\n",
    "train_accuracy = history.history['accuracy']\n",
    "test_accuracy = history.history['val_accuracy']\n",
    "train_loss = history.history['loss']\n",
    "test_loss = history.history['val_loss']\n",
    "\n",
    "# Buat plot untuk akurasi\n",
    "plt.figure(figsize=(8, 6))\n",
    "plt.plot(range(1, len(train_accuracy) + 1), train_accuracy, label='Training Accuracy')\n",
    "plt.plot(range(1, len(test_accuracy) + 1), test_accuracy, label='Test Accuracy')\n",
    "plt.xlabel('Epoch')\n",
    "plt.ylabel('Accuracy')\n",
    "plt.title('Training and Test Accuracy')\n",
    "plt.legend()\n",
    "plt.show()\n",
    "\n",
    "# Buat plot untuk loss \n",
    "plt.figure(figsize=(8, 6))\n",
    "plt.plot(range(1, len(train_loss) + 1), train_loss, label='Training Loss')\n",
    "plt.plot(range(1, len(test_loss) + 1), test_loss, label='Test Loss')\n",
    "plt.xlabel('Epoch')\n",
    "plt.ylabel('Loss')\n",
    "plt.title('Training and Test Loss')\n",
    "plt.legend()\n",
    "plt.show()"
   ]
  },
  {
   "cell_type": "code",
   "execution_count": 66,
   "metadata": {},
   "outputs": [
    {
     "name": "stdout",
     "output_type": "stream",
     "text": [
      "14976/14976 [==============================] - 41s 3ms/step - loss: 0.7068 - accuracy: 0.6495\n",
      "Performa pada Data Latih:\n",
      "Loss: 0.7067720890045166\n",
      "Akurasi: 0.6494578719139099\n"
     ]
    }
   ],
   "source": [
    "# Evaluasi performa pada data latih\n",
    "training_scores = model.evaluate(X_train, y_train)\n",
    "print(\"Performa pada Data Latih:\")\n",
    "print(\"Loss:\", training_scores[0])\n",
    "print(\"Akurasi:\", training_scores[1])"
   ]
  },
  {
   "cell_type": "code",
   "execution_count": 67,
   "metadata": {},
   "outputs": [
    {
     "name": "stdout",
     "output_type": "stream",
     "text": [
      "3744/3744 [==============================] - 11s 3ms/step - loss: 0.7100 - accuracy: 0.6456\n",
      "Loss pada Data Uji: 0.7099853157997131\n",
      "Akurasi pada Data Uji: 0.6456497311592102\n"
     ]
    }
   ],
   "source": [
    "# Evaluasi performa pada data uji\n",
    "loss, accuracy = model.evaluate(X_val, y_val)\n",
    "print(\"Loss pada Data Uji:\", loss)\n",
    "print(\"Akurasi pada Data Uji:\", accuracy)"
   ]
  },
  {
   "cell_type": "code",
   "execution_count": 68,
   "metadata": {},
   "outputs": [
    {
     "name": "stdout",
     "output_type": "stream",
     "text": [
      "3744/3744 [==============================] - 11s 2ms/step\n"
     ]
    }
   ],
   "source": [
    "# Menghitung prediksi pada data uji\n",
    "y_val_pred = model.predict(X_val)"
   ]
  },
  {
   "cell_type": "code",
   "execution_count": 70,
   "metadata": {},
   "outputs": [
    {
     "name": "stdout",
     "output_type": "stream",
     "text": [
      "Mean Squared Error:\n",
      "0.10694685\n",
      "Mean Absolute Error:\n",
      "0.21322867\n"
     ]
    }
   ],
   "source": [
    "from sklearn.metrics import classification_report, confusion_matrix, mean_squared_error, mean_absolute_error\n",
    "\n",
    "# metrik evaluasi untuk masalah regresi\n",
    "print(\"Mean Squared Error:\")\n",
    "print(mean_squared_error(y_val, y_val_pred))\n",
    "\n",
    "print(\"Mean Absolute Error:\")\n",
    "print(mean_absolute_error(y_val, y_val_pred))\n"
   ]
  },
  {
   "cell_type": "code",
   "execution_count": 71,
   "metadata": {},
   "outputs": [],
   "source": [
    "model.save('bone-predictor.h5')"
   ]
  },
  {
   "cell_type": "markdown",
   "metadata": {},
   "source": [
    "# Predict Datatest"
   ]
  },
  {
   "cell_type": "code",
   "execution_count": 72,
   "metadata": {},
   "outputs": [],
   "source": [
    "model = load_model('bone-predictor.h5')"
   ]
  },
  {
   "cell_type": "code",
   "execution_count": 73,
   "metadata": {},
   "outputs": [],
   "source": [
    "# Membaca dataset yang ingin diprediksi\n",
    "predict_df = pd.read_csv('E:/LSTM/tes_model/1.csv')\n",
    "X_predict = predict_df.iloc[:].values"
   ]
  },
  {
   "cell_type": "code",
   "execution_count": 74,
   "metadata": {},
   "outputs": [
    {
     "ename": "ValueError",
     "evalue": "in user code:\n\n    File \"c:\\Users\\Afif Alaudin\\AppData\\Local\\Programs\\Python\\Python311\\Lib\\site-packages\\keras\\engine\\training.py\", line 2169, in predict_function  *\n        return step_function(self, iterator)\n    File \"c:\\Users\\Afif Alaudin\\AppData\\Local\\Programs\\Python\\Python311\\Lib\\site-packages\\keras\\engine\\training.py\", line 2155, in step_function  **\n        outputs = model.distribute_strategy.run(run_step, args=(data,))\n    File \"c:\\Users\\Afif Alaudin\\AppData\\Local\\Programs\\Python\\Python311\\Lib\\site-packages\\keras\\engine\\training.py\", line 2143, in run_step  **\n        outputs = model.predict_step(data)\n    File \"c:\\Users\\Afif Alaudin\\AppData\\Local\\Programs\\Python\\Python311\\Lib\\site-packages\\keras\\engine\\training.py\", line 2111, in predict_step\n        return self(x, training=False)\n    File \"c:\\Users\\Afif Alaudin\\AppData\\Local\\Programs\\Python\\Python311\\Lib\\site-packages\\keras\\utils\\traceback_utils.py\", line 70, in error_handler\n        raise e.with_traceback(filtered_tb) from None\n    File \"c:\\Users\\Afif Alaudin\\AppData\\Local\\Programs\\Python\\Python311\\Lib\\site-packages\\keras\\engine\\input_spec.py\", line 298, in assert_input_compatibility\n        raise ValueError(\n\n    ValueError: Input 0 of layer \"sequential_1\" is incompatible with the layer: expected shape=(None, 3, 1), found shape=(None, 2)\n",
     "output_type": "error",
     "traceback": [
      "\u001b[1;31m---------------------------------------------------------------------------\u001b[0m",
      "\u001b[1;31mValueError\u001b[0m                                Traceback (most recent call last)",
      "\u001b[1;32mc:\\Users\\Afif Alaudin\\Documents\\GitHub\\ta2023-boneusg\\Data 6 Juli - Fix\\LSTM\\LTSM_Full_Ok.ipynb Cell 36\u001b[0m in \u001b[0;36m2\n\u001b[0;32m      <a href='vscode-notebook-cell:/c%3A/Users/Afif%20Alaudin/Documents/GitHub/ta2023-boneusg/Data%206%20Juli%20-%20Fix/LSTM/LTSM_Full_Ok.ipynb#X56sZmlsZQ%3D%3D?line=0'>1</a>\u001b[0m \u001b[39m# Memprediksi label menggunakan model yang telah dilatih\u001b[39;00m\n\u001b[1;32m----> <a href='vscode-notebook-cell:/c%3A/Users/Afif%20Alaudin/Documents/GitHub/ta2023-boneusg/Data%206%20Juli%20-%20Fix/LSTM/LTSM_Full_Ok.ipynb#X56sZmlsZQ%3D%3D?line=1'>2</a>\u001b[0m y_pred_encoded \u001b[39m=\u001b[39m model\u001b[39m.\u001b[39;49mpredict(X_predict)\n\u001b[0;32m      <a href='vscode-notebook-cell:/c%3A/Users/Afif%20Alaudin/Documents/GitHub/ta2023-boneusg/Data%206%20Juli%20-%20Fix/LSTM/LTSM_Full_Ok.ipynb#X56sZmlsZQ%3D%3D?line=2'>3</a>\u001b[0m y_pred \u001b[39m=\u001b[39m np\u001b[39m.\u001b[39margmax(y_pred_encoded, axis\u001b[39m=\u001b[39m\u001b[39m1\u001b[39m)\n\u001b[0;32m      <a href='vscode-notebook-cell:/c%3A/Users/Afif%20Alaudin/Documents/GitHub/ta2023-boneusg/Data%206%20Juli%20-%20Fix/LSTM/LTSM_Full_Ok.ipynb#X56sZmlsZQ%3D%3D?line=3'>4</a>\u001b[0m y_pred_label \u001b[39m=\u001b[39m label_encoder\u001b[39m.\u001b[39minverse_transform(y_pred)\n",
      "File \u001b[1;32mc:\\Users\\Afif Alaudin\\AppData\\Local\\Programs\\Python\\Python311\\Lib\\site-packages\\keras\\utils\\traceback_utils.py:70\u001b[0m, in \u001b[0;36mfilter_traceback.<locals>.error_handler\u001b[1;34m(*args, **kwargs)\u001b[0m\n\u001b[0;32m     67\u001b[0m     filtered_tb \u001b[39m=\u001b[39m _process_traceback_frames(e\u001b[39m.\u001b[39m__traceback__)\n\u001b[0;32m     68\u001b[0m     \u001b[39m# To get the full stack trace, call:\u001b[39;00m\n\u001b[0;32m     69\u001b[0m     \u001b[39m# `tf.debugging.disable_traceback_filtering()`\u001b[39;00m\n\u001b[1;32m---> 70\u001b[0m     \u001b[39mraise\u001b[39;00m e\u001b[39m.\u001b[39mwith_traceback(filtered_tb) \u001b[39mfrom\u001b[39;00m \u001b[39mNone\u001b[39m\n\u001b[0;32m     71\u001b[0m \u001b[39mfinally\u001b[39;00m:\n\u001b[0;32m     72\u001b[0m     \u001b[39mdel\u001b[39;00m filtered_tb\n",
      "File \u001b[1;32mC:\\Users\\AFIFAL~1\\AppData\\Local\\Temp\\__autograph_generated_filedsukazjc.py:15\u001b[0m, in \u001b[0;36mouter_factory.<locals>.inner_factory.<locals>.tf__predict_function\u001b[1;34m(iterator)\u001b[0m\n\u001b[0;32m     13\u001b[0m \u001b[39mtry\u001b[39;00m:\n\u001b[0;32m     14\u001b[0m     do_return \u001b[39m=\u001b[39m \u001b[39mTrue\u001b[39;00m\n\u001b[1;32m---> 15\u001b[0m     retval_ \u001b[39m=\u001b[39m ag__\u001b[39m.\u001b[39mconverted_call(ag__\u001b[39m.\u001b[39mld(step_function), (ag__\u001b[39m.\u001b[39mld(\u001b[39mself\u001b[39m), ag__\u001b[39m.\u001b[39mld(iterator)), \u001b[39mNone\u001b[39;00m, fscope)\n\u001b[0;32m     16\u001b[0m \u001b[39mexcept\u001b[39;00m:\n\u001b[0;32m     17\u001b[0m     do_return \u001b[39m=\u001b[39m \u001b[39mFalse\u001b[39;00m\n",
      "\u001b[1;31mValueError\u001b[0m: in user code:\n\n    File \"c:\\Users\\Afif Alaudin\\AppData\\Local\\Programs\\Python\\Python311\\Lib\\site-packages\\keras\\engine\\training.py\", line 2169, in predict_function  *\n        return step_function(self, iterator)\n    File \"c:\\Users\\Afif Alaudin\\AppData\\Local\\Programs\\Python\\Python311\\Lib\\site-packages\\keras\\engine\\training.py\", line 2155, in step_function  **\n        outputs = model.distribute_strategy.run(run_step, args=(data,))\n    File \"c:\\Users\\Afif Alaudin\\AppData\\Local\\Programs\\Python\\Python311\\Lib\\site-packages\\keras\\engine\\training.py\", line 2143, in run_step  **\n        outputs = model.predict_step(data)\n    File \"c:\\Users\\Afif Alaudin\\AppData\\Local\\Programs\\Python\\Python311\\Lib\\site-packages\\keras\\engine\\training.py\", line 2111, in predict_step\n        return self(x, training=False)\n    File \"c:\\Users\\Afif Alaudin\\AppData\\Local\\Programs\\Python\\Python311\\Lib\\site-packages\\keras\\utils\\traceback_utils.py\", line 70, in error_handler\n        raise e.with_traceback(filtered_tb) from None\n    File \"c:\\Users\\Afif Alaudin\\AppData\\Local\\Programs\\Python\\Python311\\Lib\\site-packages\\keras\\engine\\input_spec.py\", line 298, in assert_input_compatibility\n        raise ValueError(\n\n    ValueError: Input 0 of layer \"sequential_1\" is incompatible with the layer: expected shape=(None, 3, 1), found shape=(None, 2)\n"
     ]
    }
   ],
   "source": [
    "# Memprediksi label menggunakan model yang telah dilatih\n",
    "y_pred_encoded = model.predict(X_predict)\n",
    "y_pred = np.argmax(y_pred_encoded, axis=1)\n",
    "y_pred_label = label_encoder.inverse_transform(y_pred)"
   ]
  },
  {
   "cell_type": "code",
   "execution_count": 62,
   "metadata": {},
   "outputs": [],
   "source": [
    "predict_df = pd.read_csv('E:/LSTM/tes_model/1.csv')\n",
    "# predict_df = pd.read_csv('C:/TA/LTSM/70%/A705.csv')"
   ]
  },
  {
   "cell_type": "markdown",
   "metadata": {},
   "source": [
    "# Save Predict"
   ]
  },
  {
   "cell_type": "code",
   "execution_count": 63,
   "metadata": {},
   "outputs": [
    {
     "ename": "NameError",
     "evalue": "name 'y_pred_label' is not defined",
     "output_type": "error",
     "traceback": [
      "\u001b[1;31m---------------------------------------------------------------------------\u001b[0m",
      "\u001b[1;31mNameError\u001b[0m                                 Traceback (most recent call last)",
      "\u001b[1;32mc:\\Users\\Afif Alaudin\\Documents\\GitHub\\ta2023-boneusg\\Data 6 Juli - Fix\\LSTM\\LTSM_Full_Ok.ipynb Cell 39\u001b[0m in \u001b[0;36m2\n\u001b[0;32m      <a href='vscode-notebook-cell:/c%3A/Users/Afif%20Alaudin/Documents/GitHub/ta2023-boneusg/Data%206%20Juli%20-%20Fix/LSTM/LTSM_Full_Ok.ipynb#X62sZmlsZQ%3D%3D?line=0'>1</a>\u001b[0m result_df \u001b[39m=\u001b[39m predict_df\u001b[39m.\u001b[39mcopy()\n\u001b[1;32m----> <a href='vscode-notebook-cell:/c%3A/Users/Afif%20Alaudin/Documents/GitHub/ta2023-boneusg/Data%206%20Juli%20-%20Fix/LSTM/LTSM_Full_Ok.ipynb#X62sZmlsZQ%3D%3D?line=1'>2</a>\u001b[0m result_df[\u001b[39m'\u001b[39m\u001b[39mpredicted_label\u001b[39m\u001b[39m'\u001b[39m] \u001b[39m=\u001b[39m y_pred_label\n\u001b[0;32m      <a href='vscode-notebook-cell:/c%3A/Users/Afif%20Alaudin/Documents/GitHub/ta2023-boneusg/Data%206%20Juli%20-%20Fix/LSTM/LTSM_Full_Ok.ipynb#X62sZmlsZQ%3D%3D?line=2'>3</a>\u001b[0m result_df\u001b[39m.\u001b[39mto_csv(\u001b[39m'\u001b[39m\u001b[39mdata_predict_predicted.csv\u001b[39m\u001b[39m'\u001b[39m, index\u001b[39m=\u001b[39m\u001b[39mFalse\u001b[39;00m)\n",
      "\u001b[1;31mNameError\u001b[0m: name 'y_pred_label' is not defined"
     ]
    }
   ],
   "source": [
    "result_df = predict_df.copy()\n",
    "result_df['predicted_label'] = y_pred_label\n",
    "result_df.to_csv('data_predict_predicted.csv', index=False)"
   ]
  },
  {
   "cell_type": "markdown",
   "metadata": {},
   "source": [
    "# Result Predict"
   ]
  },
  {
   "cell_type": "code",
   "execution_count": null,
   "metadata": {},
   "outputs": [
    {
     "name": "stdout",
     "output_type": "stream",
     "text": [
      "predicted_label\n",
      "Density 70%    9253\n",
      "Density 90%    2045\n",
      "Density 30%     931\n",
      "Density 50%     251\n",
      "Name: count, dtype: int64\n"
     ]
    }
   ],
   "source": [
    "print(result_df['predicted_label'].value_counts())"
   ]
  },
  {
   "cell_type": "code",
   "execution_count": null,
   "metadata": {},
   "outputs": [
    {
     "name": "stdout",
     "output_type": "stream",
     "text": [
      "Data match : Density 70%\n"
     ]
    }
   ],
   "source": [
    "label_counts = result_df['predicted_label'].value_counts()\n",
    "highest_label = label_counts.idxmax()\n",
    "highest_count = label_counts.max()\n",
    "\n",
    "if (highest_count > (0.64*X_predict.shape[0])):\n",
    "    print(\"Data match :\", highest_label)\n",
    "\n",
    "else:\n",
    "    print(\"Not Match\")"
   ]
  },
  {
   "cell_type": "markdown",
   "metadata": {},
   "source": [
    "# Bone Densitometry"
   ]
  },
  {
   "cell_type": "markdown",
   "metadata": {},
   "source": [
    "## Predict Datatest"
   ]
  },
  {
   "cell_type": "code",
   "execution_count": null,
   "metadata": {},
   "outputs": [],
   "source": [
    "# Load model yang sudah ditraining\n",
    "model = load_model('bone-predictor.h5')"
   ]
  },
  {
   "cell_type": "code",
   "execution_count": null,
   "metadata": {},
   "outputs": [],
   "source": [
    "# Membaca dataset yang ingin diprediksi\n",
    "predict_df = pd.read_csv('C:/TA/Pengujian Model/Data csv/1.csv')\n",
    "X_predict = predict_df.iloc[:].values"
   ]
  },
  {
   "cell_type": "code",
   "execution_count": null,
   "metadata": {},
   "outputs": [
    {
     "name": "stdout",
     "output_type": "stream",
     "text": [
      "390/390 [==============================] - 1s 838us/step\n"
     ]
    }
   ],
   "source": [
    "# Memprediksi label menggunakan model yang telah dilatih\n",
    "y_pred_encoded = model.predict(X_predict)\n",
    "y_pred = np.argmax(y_pred_encoded, axis=1)\n",
    "y_pred_label = label_encoder.inverse_transform(y_pred)"
   ]
  },
  {
   "cell_type": "code",
   "execution_count": null,
   "metadata": {},
   "outputs": [],
   "source": [
    "predict_df = pd.read_csv('C:/TA/Pengujian Model/Data csv/1.csv')\n",
    "# predict_df = pd.read_csv('C:/TA/LTSM/70%/A705.csv')"
   ]
  },
  {
   "cell_type": "markdown",
   "metadata": {},
   "source": [
    "## Save Predict"
   ]
  },
  {
   "cell_type": "code",
   "execution_count": null,
   "metadata": {},
   "outputs": [],
   "source": [
    "result_df = predict_df.copy()\n",
    "result_df['predicted_label'] = y_pred_label\n",
    "result_df.to_csv('data_predict_predicted.csv', index=False)"
   ]
  },
  {
   "cell_type": "markdown",
   "metadata": {},
   "source": [
    "## Result Predict"
   ]
  },
  {
   "cell_type": "markdown",
   "metadata": {},
   "source": [
    "print(result_df['predicted_label'].value_counts())"
   ]
  },
  {
   "cell_type": "code",
   "execution_count": null,
   "metadata": {},
   "outputs": [
    {
     "name": "stdout",
     "output_type": "stream",
     "text": [
      "Data match : Density 70%\n"
     ]
    }
   ],
   "source": [
    "label_counts = result_df['predicted_label'].value_counts()\n",
    "highest_label = label_counts.idxmax()\n",
    "highest_count = label_counts.max()\n",
    "\n",
    "if (highest_count > (0.64*X_predict.shape[0])):\n",
    "    print(\"Data match :\", highest_label)\n",
    "\n",
    "else:\n",
    "    print(\"Not Match\")"
   ]
  }
 ],
 "metadata": {
  "kernelspec": {
   "display_name": "Python 3",
   "language": "python",
   "name": "python3"
  },
  "language_info": {
   "codemirror_mode": {
    "name": "ipython",
    "version": 3
   },
   "file_extension": ".py",
   "mimetype": "text/x-python",
   "name": "python",
   "nbconvert_exporter": "python",
   "pygments_lexer": "ipython3",
   "version": "3.11.0"
  },
  "orig_nbformat": 4
 },
 "nbformat": 4,
 "nbformat_minor": 2
}
