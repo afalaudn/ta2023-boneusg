{
 "cells": [
  {
   "cell_type": "code",
   "execution_count": 23,
   "metadata": {},
   "outputs": [],
   "source": [
    "import os\n",
    "import numpy as np\n",
    "import pandas as pd\n",
    "from scipy import signal\n",
    "from sklearn.model_selection import train_test_split\n",
    "from keras.models import Sequential\n",
    "from keras.layers import LSTM, Dense\n",
    "from keras.utils import to_categorical\n",
    "from keras.callbacks import ModelCheckpoint"
   ]
  },
  {
   "cell_type": "code",
   "execution_count": 24,
   "metadata": {},
   "outputs": [],
   "source": [
    "# Fungsi untuk ekstraksi fitur PSD\n",
    "def extract_highest_peak_psd(data, fs, lowcut, highcut, order):\n",
    "    # ... Kode ekstraksi fitur PSD sesuai dengan kode dasar yang diberikan ...\n",
    "    nyquist = 0.5 * fs\n",
    "    low = lowcut / nyquist\n",
    "    high = highcut / nyquist\n",
    "    b, a = signal.butter(order, [low, high], btype='band')\n",
    "\n",
    "    # Filter bandpass\n",
    "    filtered_signal = signal.filtfilt(b, a, data)\n",
    "\n",
    "    # Rectify signal\n",
    "    rectified_signal = np.abs(filtered_signal)\n",
    "\n",
    "    # One-sided FFT\n",
    "    signal_fft = np.fft.fft(filtered_signal)\n",
    "    signal_freq = np.fft.fftfreq(len(filtered_signal), 1/fs)\n",
    "    n = len(filtered_signal)\n",
    "    freq = signal_freq[0:int(n/2)]\n",
    "    fft_amp = np.abs(signal_fft)[0:int(n/2)] / n * 2\n",
    "\n",
    "    # One-sided PSD\n",
    "    psd = (1/(fs*n)) * np.square(np.abs(signal_fft[:n//2]))\n",
    "    freq_psd = signal_freq[0:int(n/2)]\n",
    "    psd_one_side = psd[0:int(n/2)]\n",
    "\n",
    "    # Ekstraksi fitur highest peak dari PSD\n",
    "    highest_peak_idx = np.argmax(psd_one_side)\n",
    "    highest_peak_value = psd_one_side[highest_peak_idx]\n",
    "    return highest_peak_value"
   ]
  },
  {
   "cell_type": "code",
   "execution_count": 39,
   "metadata": {},
   "outputs": [],
   "source": [
    "# Fungsi untuk membaca dataset dari folder kelas\n",
    "def read_data_from_folder(folder_path, class_label, fs, lowcut, highcut, order):\n",
    "    dataframes = []\n",
    "    for file in os.listdir(folder_path):\n",
    "        index=[0]\n",
    "        file_path = os.path.join(folder_path, file)\n",
    "        df = pd.read_csv(file_path)\n",
    "        start_index = 1\n",
    "        end_index = 1551\n",
    "        df = df[start_index:end_index]\n",
    "        data = df['Y'].values\n",
    "        highest_peak_psd = extract_highest_peak_psd(data, fs, lowcut, highcut, order)\n",
    "        df_highest_peak_psd = pd.DataFrame({'Highest Peak PSD': highest_peak_psd, 'Class': class_label})\n",
    "        dataframes.append(df_highest_peak_psd)\n",
    "    return pd.concat(dataframes, ignore_index=True)\n",
    "\n",
    "# Path ke folder yang berisi dataset untuk masing-masing kelas\n",
    "label1_folder = 'E:/Pengolahan Data CD Bone-USG/csv-400-400/csv 30%/'\n",
    "label2_folder = 'E:/Pengolahan Data CD Bone-USG/csv-400-400/csv 50%/'\n",
    "label3_folder = 'E:/Pengolahan Data CD Bone-USG/csv-400-400/csv 70%/'\n",
    "label4_folder = 'E:/Pengolahan Data CD Bone-USG/csv-400-400/csv 90%/'"
   ]
  },
  {
   "cell_type": "code",
   "execution_count": 42,
   "metadata": {},
   "outputs": [],
   "source": [
    "# Parameter filter\n",
    "fs = 100  # Frekuensi sampling\n",
    "lowcut = 2.0  # Frekuensi cutoff rendah untuk filter bandpass\n",
    "highcut = 10.0  # Frekuensi cutoff tinggi untuk filter bandpass\n",
    "order = 5  # Order filter"
   ]
  },
  {
   "cell_type": "code",
   "execution_count": 44,
   "metadata": {},
   "outputs": [
    {
     "ename": "ValueError",
     "evalue": "If using all scalar values, you must pass an index",
     "output_type": "error",
     "traceback": [
      "\u001b[1;31m---------------------------------------------------------------------------\u001b[0m",
      "\u001b[1;31mValueError\u001b[0m                                Traceback (most recent call last)",
      "\u001b[1;32mc:\\Users\\Afif Alaudin\\Documents\\GitHub\\ta2023-boneusg\\Data 6 Juli - Fix\\LSTM\\LSTM_New_V2.ipynb Cell 5\u001b[0m in \u001b[0;36m2\n\u001b[0;32m      <a href='vscode-notebook-cell:/c%3A/Users/Afif%20Alaudin/Documents/GitHub/ta2023-boneusg/Data%206%20Juli%20-%20Fix/LSTM/LSTM_New_V2.ipynb#X16sZmlsZQ%3D%3D?line=0'>1</a>\u001b[0m \u001b[39m# Membaca data untuk masing-masing kelas\u001b[39;00m\n\u001b[1;32m----> <a href='vscode-notebook-cell:/c%3A/Users/Afif%20Alaudin/Documents/GitHub/ta2023-boneusg/Data%206%20Juli%20-%20Fix/LSTM/LSTM_New_V2.ipynb#X16sZmlsZQ%3D%3D?line=1'>2</a>\u001b[0m label1_data \u001b[39m=\u001b[39m read_data_from_folder(label1_folder, class_label\u001b[39m=\u001b[39;49m\u001b[39m0\u001b[39;49m, fs\u001b[39m=\u001b[39;49mfs, lowcut\u001b[39m=\u001b[39;49mlowcut, highcut\u001b[39m=\u001b[39;49mhighcut, order\u001b[39m=\u001b[39;49morder)\n\u001b[0;32m      <a href='vscode-notebook-cell:/c%3A/Users/Afif%20Alaudin/Documents/GitHub/ta2023-boneusg/Data%206%20Juli%20-%20Fix/LSTM/LSTM_New_V2.ipynb#X16sZmlsZQ%3D%3D?line=2'>3</a>\u001b[0m label2_data \u001b[39m=\u001b[39m read_data_from_folder(label2_folder, class_label\u001b[39m=\u001b[39m\u001b[39m1\u001b[39m, fs\u001b[39m=\u001b[39mfs, lowcut\u001b[39m=\u001b[39mlowcut, highcut\u001b[39m=\u001b[39mhighcut, order\u001b[39m=\u001b[39morder)\n\u001b[0;32m      <a href='vscode-notebook-cell:/c%3A/Users/Afif%20Alaudin/Documents/GitHub/ta2023-boneusg/Data%206%20Juli%20-%20Fix/LSTM/LSTM_New_V2.ipynb#X16sZmlsZQ%3D%3D?line=3'>4</a>\u001b[0m label3_data \u001b[39m=\u001b[39m read_data_from_folder(label3_folder, class_label\u001b[39m=\u001b[39m\u001b[39m2\u001b[39m, fs\u001b[39m=\u001b[39mfs, lowcut\u001b[39m=\u001b[39mlowcut, highcut\u001b[39m=\u001b[39mhighcut, order\u001b[39m=\u001b[39morder)\n",
      "\u001b[1;32mc:\\Users\\Afif Alaudin\\Documents\\GitHub\\ta2023-boneusg\\Data 6 Juli - Fix\\LSTM\\LSTM_New_V2.ipynb Cell 5\u001b[0m in \u001b[0;36m1\n\u001b[0;32m     <a href='vscode-notebook-cell:/c%3A/Users/Afif%20Alaudin/Documents/GitHub/ta2023-boneusg/Data%206%20Juli%20-%20Fix/LSTM/LSTM_New_V2.ipynb#X16sZmlsZQ%3D%3D?line=10'>11</a>\u001b[0m     data \u001b[39m=\u001b[39m df[\u001b[39m'\u001b[39m\u001b[39mY\u001b[39m\u001b[39m'\u001b[39m]\u001b[39m.\u001b[39mvalues\n\u001b[0;32m     <a href='vscode-notebook-cell:/c%3A/Users/Afif%20Alaudin/Documents/GitHub/ta2023-boneusg/Data%206%20Juli%20-%20Fix/LSTM/LSTM_New_V2.ipynb#X16sZmlsZQ%3D%3D?line=11'>12</a>\u001b[0m     highest_peak_psd \u001b[39m=\u001b[39m extract_highest_peak_psd(data, fs, lowcut, highcut, order)\n\u001b[1;32m---> <a href='vscode-notebook-cell:/c%3A/Users/Afif%20Alaudin/Documents/GitHub/ta2023-boneusg/Data%206%20Juli%20-%20Fix/LSTM/LSTM_New_V2.ipynb#X16sZmlsZQ%3D%3D?line=12'>13</a>\u001b[0m     df_highest_peak_psd \u001b[39m=\u001b[39m pd\u001b[39m.\u001b[39;49mDataFrame({\u001b[39m'\u001b[39;49m\u001b[39mHighest Peak PSD\u001b[39;49m\u001b[39m'\u001b[39;49m: highest_peak_psd, \u001b[39m'\u001b[39;49m\u001b[39mClass\u001b[39;49m\u001b[39m'\u001b[39;49m: class_label})\n\u001b[0;32m     <a href='vscode-notebook-cell:/c%3A/Users/Afif%20Alaudin/Documents/GitHub/ta2023-boneusg/Data%206%20Juli%20-%20Fix/LSTM/LSTM_New_V2.ipynb#X16sZmlsZQ%3D%3D?line=13'>14</a>\u001b[0m     dataframes\u001b[39m.\u001b[39mappend(df_highest_peak_psd)\n\u001b[0;32m     <a href='vscode-notebook-cell:/c%3A/Users/Afif%20Alaudin/Documents/GitHub/ta2023-boneusg/Data%206%20Juli%20-%20Fix/LSTM/LSTM_New_V2.ipynb#X16sZmlsZQ%3D%3D?line=14'>15</a>\u001b[0m \u001b[39mreturn\u001b[39;00m pd\u001b[39m.\u001b[39mconcat(dataframes, ignore_index\u001b[39m=\u001b[39m\u001b[39mTrue\u001b[39;00m)\n",
      "File \u001b[1;32mc:\\Users\\Afif Alaudin\\AppData\\Local\\Programs\\Python\\Python311\\Lib\\site-packages\\pandas\\core\\frame.py:708\u001b[0m, in \u001b[0;36mDataFrame.__init__\u001b[1;34m(self, data, index, columns, dtype, copy)\u001b[0m\n\u001b[0;32m    702\u001b[0m     mgr \u001b[39m=\u001b[39m \u001b[39mself\u001b[39m\u001b[39m.\u001b[39m_init_mgr(\n\u001b[0;32m    703\u001b[0m         data, axes\u001b[39m=\u001b[39m{\u001b[39m\"\u001b[39m\u001b[39mindex\u001b[39m\u001b[39m\"\u001b[39m: index, \u001b[39m\"\u001b[39m\u001b[39mcolumns\u001b[39m\u001b[39m\"\u001b[39m: columns}, dtype\u001b[39m=\u001b[39mdtype, copy\u001b[39m=\u001b[39mcopy\n\u001b[0;32m    704\u001b[0m     )\n\u001b[0;32m    706\u001b[0m \u001b[39melif\u001b[39;00m \u001b[39misinstance\u001b[39m(data, \u001b[39mdict\u001b[39m):\n\u001b[0;32m    707\u001b[0m     \u001b[39m# GH#38939 de facto copy defaults to False only in non-dict cases\u001b[39;00m\n\u001b[1;32m--> 708\u001b[0m     mgr \u001b[39m=\u001b[39m dict_to_mgr(data, index, columns, dtype\u001b[39m=\u001b[39;49mdtype, copy\u001b[39m=\u001b[39;49mcopy, typ\u001b[39m=\u001b[39;49mmanager)\n\u001b[0;32m    709\u001b[0m \u001b[39melif\u001b[39;00m \u001b[39misinstance\u001b[39m(data, ma\u001b[39m.\u001b[39mMaskedArray):\n\u001b[0;32m    710\u001b[0m     \u001b[39mfrom\u001b[39;00m \u001b[39mnumpy\u001b[39;00m\u001b[39m.\u001b[39;00m\u001b[39mma\u001b[39;00m \u001b[39mimport\u001b[39;00m mrecords\n",
      "File \u001b[1;32mc:\\Users\\Afif Alaudin\\AppData\\Local\\Programs\\Python\\Python311\\Lib\\site-packages\\pandas\\core\\internals\\construction.py:481\u001b[0m, in \u001b[0;36mdict_to_mgr\u001b[1;34m(data, index, columns, dtype, typ, copy)\u001b[0m\n\u001b[0;32m    477\u001b[0m     \u001b[39melse\u001b[39;00m:\n\u001b[0;32m    478\u001b[0m         \u001b[39m# dtype check to exclude e.g. range objects, scalars\u001b[39;00m\n\u001b[0;32m    479\u001b[0m         arrays \u001b[39m=\u001b[39m [x\u001b[39m.\u001b[39mcopy() \u001b[39mif\u001b[39;00m \u001b[39mhasattr\u001b[39m(x, \u001b[39m\"\u001b[39m\u001b[39mdtype\u001b[39m\u001b[39m\"\u001b[39m) \u001b[39melse\u001b[39;00m x \u001b[39mfor\u001b[39;00m x \u001b[39min\u001b[39;00m arrays]\n\u001b[1;32m--> 481\u001b[0m \u001b[39mreturn\u001b[39;00m arrays_to_mgr(arrays, columns, index, dtype\u001b[39m=\u001b[39;49mdtype, typ\u001b[39m=\u001b[39;49mtyp, consolidate\u001b[39m=\u001b[39;49mcopy)\n",
      "File \u001b[1;32mc:\\Users\\Afif Alaudin\\AppData\\Local\\Programs\\Python\\Python311\\Lib\\site-packages\\pandas\\core\\internals\\construction.py:115\u001b[0m, in \u001b[0;36marrays_to_mgr\u001b[1;34m(arrays, columns, index, dtype, verify_integrity, typ, consolidate)\u001b[0m\n\u001b[0;32m    112\u001b[0m \u001b[39mif\u001b[39;00m verify_integrity:\n\u001b[0;32m    113\u001b[0m     \u001b[39m# figure out the index, if necessary\u001b[39;00m\n\u001b[0;32m    114\u001b[0m     \u001b[39mif\u001b[39;00m index \u001b[39mis\u001b[39;00m \u001b[39mNone\u001b[39;00m:\n\u001b[1;32m--> 115\u001b[0m         index \u001b[39m=\u001b[39m _extract_index(arrays)\n\u001b[0;32m    116\u001b[0m     \u001b[39melse\u001b[39;00m:\n\u001b[0;32m    117\u001b[0m         index \u001b[39m=\u001b[39m ensure_index(index)\n",
      "File \u001b[1;32mc:\\Users\\Afif Alaudin\\AppData\\Local\\Programs\\Python\\Python311\\Lib\\site-packages\\pandas\\core\\internals\\construction.py:645\u001b[0m, in \u001b[0;36m_extract_index\u001b[1;34m(data)\u001b[0m\n\u001b[0;32m    642\u001b[0m         \u001b[39mraise\u001b[39;00m \u001b[39mValueError\u001b[39;00m(\u001b[39m\"\u001b[39m\u001b[39mPer-column arrays must each be 1-dimensional\u001b[39m\u001b[39m\"\u001b[39m)\n\u001b[0;32m    644\u001b[0m \u001b[39mif\u001b[39;00m \u001b[39mnot\u001b[39;00m indexes \u001b[39mand\u001b[39;00m \u001b[39mnot\u001b[39;00m raw_lengths:\n\u001b[1;32m--> 645\u001b[0m     \u001b[39mraise\u001b[39;00m \u001b[39mValueError\u001b[39;00m(\u001b[39m\"\u001b[39m\u001b[39mIf using all scalar values, you must pass an index\u001b[39m\u001b[39m\"\u001b[39m)\n\u001b[0;32m    647\u001b[0m \u001b[39mif\u001b[39;00m have_series:\n\u001b[0;32m    648\u001b[0m     index \u001b[39m=\u001b[39m union_indexes(indexes)\n",
      "\u001b[1;31mValueError\u001b[0m: If using all scalar values, you must pass an index"
     ]
    }
   ],
   "source": [
    "# Membaca data untuk masing-masing kelas\n",
    "label1_data = read_data_from_folder(label1_folder, class_label=0, fs=fs, lowcut=lowcut, highcut=highcut, order=order)\n",
    "label2_data = read_data_from_folder(label2_folder, class_label=1, fs=fs, lowcut=lowcut, highcut=highcut, order=order)\n",
    "label3_data = read_data_from_folder(label3_folder, class_label=2, fs=fs, lowcut=lowcut, highcut=highcut, order=order)\n",
    "label4_data = read_data_from_folder(label4_folder, class_label=3, fs=fs, lowcut=lowcut, highcut=highcut, order=order)\n",
    "\n",
    "# Menggabungkan data dari masing-masing kelas menjadi satu DataFrame utama\n",
    "combined_data = pd.concat([label1_data, label2_data, label3_data, label4_data], ignore_index=False)"
   ]
  },
  {
   "cell_type": "code",
   "execution_count": null,
   "metadata": {},
   "outputs": [],
   "source": [
    "# Memisahkan fitur highest peak PSD dan label kelas\n",
    "X = np.array(combined_data['Highest Peak PSD'].values.tolist())\n",
    "y = np.array(combined_data['Class'].values)\n",
    "\n",
    "\n",
    "# One-hot encode label kelas\n",
    "y_encoded = to_categorical(y, num_classes=4)\n",
    "\n",
    "# Memisahkan data menjadi data latih dan data uji\n",
    "X_train, X_test, y_train, y_test = train_test_split(X, y_encoded, test_size=0.2, random_state=42)"
   ]
  },
  {
   "cell_type": "code",
   "execution_count": null,
   "metadata": {},
   "outputs": [],
   "source": [
    "# Mengubah bentuk data untuk LSTM (tambahkan dimensi waktu)\n",
    "X_train_lstm = np.expand_dims(X_train, axis=1)\n",
    "X_test_lstm = np.expand_dims(X_test, axis=1)"
   ]
  },
  {
   "cell_type": "code",
   "execution_count": null,
   "metadata": {},
   "outputs": [],
   "source": [
    "# Membuat model LSTM\n",
    "model = Sequential()\n",
    "model.add(LSTM(64, input_shape=(X_train.shape[1], 1)))\n",
    "model.add(Dense(4, activation='softmax'))\n",
    "\n",
    "model.compile(loss='categorical_crossentropy', optimizer='adam', metrics=['accuracy'])"
   ]
  },
  {
   "cell_type": "code",
   "execution_count": null,
   "metadata": {},
   "outputs": [],
   "source": [
    "# Menyimpan model terbaik selama pelatihan\n",
    "checkpoint = ModelCheckpoint('best_model.h5', monitor='val_accuracy', save_best_only=True, mode='max', verbose=1)\n",
    "\n",
    "# Melatih model\n",
    "model.fit(X_train_lstm, y_train, validation_data=(X_test_lstm, y_test), epochs=50, batch_size=16, callbacks=[checkpoint])\n",
    "\n",
    "# Evaluasi performa model\n",
    "accuracy = model.evaluate(X_test_lstm, y_test)[1]\n",
    "print(\"Akurasi pada data uji:\", accuracy)\n",
    "\n",
    "# Simpan model terbaik untuk digunakan pada data baru\n",
    "best_model = load_model('best_model.h5')"
   ]
  }
 ],
 "metadata": {
  "kernelspec": {
   "display_name": "Python 3",
   "language": "python",
   "name": "python3"
  },
  "language_info": {
   "codemirror_mode": {
    "name": "ipython",
    "version": 3
   },
   "file_extension": ".py",
   "mimetype": "text/x-python",
   "name": "python",
   "nbconvert_exporter": "python",
   "pygments_lexer": "ipython3",
   "version": "3.11.0"
  },
  "orig_nbformat": 4
 },
 "nbformat": 4,
 "nbformat_minor": 2
}
