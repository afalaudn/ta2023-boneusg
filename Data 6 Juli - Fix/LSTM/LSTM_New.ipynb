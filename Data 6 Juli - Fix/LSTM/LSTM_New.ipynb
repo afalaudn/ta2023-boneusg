{
 "cells": [
  {
   "cell_type": "code",
   "execution_count": null,
   "metadata": {},
   "outputs": [],
   "source": [
    "import os\n",
    "import numpy as np\n",
    "import pandas as pd\n",
    "import matplotlib.pyplot as plt\n",
    "from scipy import signal\n",
    "from scipy.fft import fft, fftfreq\n",
    "from keras.models import Sequential\n",
    "from keras.layers import LSTM, Dense\n",
    "from sklearn.model_selection import train_test_split\n",
    "from sklearn.preprocessing import StandardScaler, LabelEncoder\n",
    "from sklearn.metrics import accuracy_score, classification_report, confusion_matrix"
   ]
  },
  {
   "cell_type": "code",
   "execution_count": null,
   "metadata": {},
   "outputs": [],
   "source": [
    "# Langkah 1: Membaca Data dari Masing-Masing Folder dan Menggabungkan Data\n",
    "data_list = []\n",
    "labels = []\n",
    "for folder_name in ['folder_1', 'folder_2', 'folder_3', 'folder_4']:\n",
    "    for filename in os.listdir(folder_name):\n",
    "        data = pd.read_csv(os.path.join(folder_name, filename))\n",
    "        data_list.append(data)\n",
    "        class_label = int(folder_name.split('_')[1]) - 1  # Mendapatkan label kelas dari nama folder\n",
    "        labels.append(class_label)"
   ]
  },
  {
   "cell_type": "code",
   "execution_count": null,
   "metadata": {},
   "outputs": [],
   "source": [
    "# Langkah 2 - 5: Pemrosesan Data, Pengolahan Sinyal, Ekstraksi Fitur, dan Pembuatan Dataset\n",
    "# Lakukan langkah-langkah pemrosesan, pengolahan sinyal, dan ekstraksi fitur seperti yang telah dijelaskan sebelumnya.\n",
    "# Langkah 2: Pemrosesan Data (jika diperlukan)\n",
    "# Misalnya, melakukan normalisasi data\n",
    "data_normalized = (data - data.mean()) / data.std()\n",
    "\n",
    "# Langkah 3: Pengolahan Sinyal (filtering atau pemrosesan sinyal lainnya)\n",
    "# Misalnya, menggunakan filter Butterworth untuk menghilangkan noise\n",
    "b, a = signal.butter(4, 0.08, 'low')\n",
    "filtered_data = signal.filtfilt(b, a, data_normalized)\n",
    "\n",
    "# Langkah 4: Ekstraksi Fitur (Ekstraksi PSD)\n",
    "fs = 1000  # Frekuensi sampel data sinyal\n",
    "f, Pxx = signal.welch(filtered_data, fs, nperseg=1024)"
   ]
  },
  {
   "cell_type": "code",
   "execution_count": null,
   "metadata": {},
   "outputs": [],
   "source": [
    "# Langkah 5: Membangun dan Melatih Model LSTM\n",
    "# Misalnya, model LSTM dengan satu layer LSTM dan satu layer Dense\n",
    "model = Sequential()\n",
    "model.add(LSTM(64, input_shape=(input_dim, 1)))\n",
    "model.add(Dense(1))"
   ]
  },
  {
   "cell_type": "code",
   "execution_count": null,
   "metadata": {},
   "outputs": [],
   "source": [
    "\n",
    "\n",
    "# Langkah 6: Pembuatan dan Pelatihan Model LSTM untuk Klasifikasi\n",
    "# Melabeli data dengan LabelEncoder untuk klasifikasi\n",
    "label_encoder = LabelEncoder()\n",
    "y = label_encoder.fit_transform(labels)\n",
    "\n",
    "# Melakukan pemrosesan, pengolahan sinyal, dan ekstraksi fitur seperti yang telah dijelaskan sebelumnya\n",
    "# ...\n",
    "\n",
    "# Melakukan pembagian data menjadi data pelatihan dan data pengujian\n",
    "X_train, X_test, y_train, y_test = train_test_split(X, y, test_size=0.2, random_state=42)\n",
    "\n",
    "# Membangun dan melatih model LSTM\n",
    "model = Sequential()\n",
    "model.add(LSTM(64, input_shape=(X_train.shape[1], 1)))\n",
    "model.add(Dense(4, activation='softmax'))  # Output menggunakan softmax activation untuk klasifikasi multi-kelas\n",
    "model.compile(loss='sparse_categorical_crossentropy', optimizer='adam', metrics=['accuracy'])\n",
    "model.fit(X_train, y_train, epochs=50, batch_size=32)\n",
    "\n",
    "# Langkah 7: Evaluasi Performa Model pada Data Pengujian\n",
    "y_pred = model.predict(X_test)\n",
    "y_pred_classes = np.argmax(y_pred, axis=1)\n",
    "accuracy = accuracy_score(y_test, y_pred_classes)\n",
    "print('Akurasi Model:', accuracy)\n",
    "\n",
    "classification_rep = classification_report(y_test, y_pred_classes)\n",
    "print('Classification Report:\\n', classification_rep)\n",
    "\n",
    "confusion_mtx = confusion_matrix(y_test, y_pred_classes)\n",
    "print('Confusion Matrix:\\n', confusion_mtx)\n",
    "\n",
    "# Langkah 8: Menyimpan Model ke File untuk Digunakan Kembali\n",
    "model.save('model_lstm_classification.h5')\n"
   ]
  }
 ],
 "metadata": {
  "language_info": {
   "name": "python"
  },
  "orig_nbformat": 4
 },
 "nbformat": 4,
 "nbformat_minor": 2
}
