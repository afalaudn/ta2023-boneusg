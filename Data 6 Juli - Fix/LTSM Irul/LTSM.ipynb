{
 "cells": [
  {
   "cell_type": "markdown",
   "metadata": {},
   "source": [
    "# Library"
   ]
  },
  {
   "cell_type": "code",
   "execution_count": 1,
   "metadata": {},
   "outputs": [],
   "source": [
    "import os,glob\n",
    "import tensorflow as tf\n",
    "import numpy as np\n",
    "\n",
    "from scipy import signal, fftpack\n",
    "from scipy.fft import fft, fftfreq\n",
    "from scipy.signal import butter, filtfilt\n",
    "\n",
    "from sklearn.model_selection import train_test_split\n",
    "from sklearn.preprocessing import LabelEncoder\n",
    "from tensorflow.keras import utils\n",
    "utils.to_categorical\n",
    "from tensorflow.keras.models import Sequential, load_model\n",
    "from tensorflow.keras.layers import LSTM, Dense, Activation, Dropout, AveragePooling3D\n",
    "import pandas as pd\n",
    "\n",
    "import matplotlib.pyplot as plt"
   ]
  },
  {
   "cell_type": "code",
   "execution_count": 2,
   "metadata": {},
   "outputs": [],
   "source": [
    "load = \"E:/Sekolah/Telkom/TA/LTSM/\"\n",
    "save = \"E:/Sekolah/Telkom/TA/LTSM/Img/\"\n",
    "files_csv =[]\n",
    "for root, dirs, files in os.walk(load):\n",
    "    for file_name in files:\n",
    "        if file_name.endswith(\".csv\"):\n",
    "            file_load = os.path.join(root, file_name)\n",
    "            files_csv.append(file_load)"
   ]
  },
  {
   "cell_type": "code",
   "execution_count": 3,
   "metadata": {},
   "outputs": [
    {
     "name": "stdout",
     "output_type": "stream",
     "text": [
      "Head dari file E:/Sekolah/Telkom/TA/LTSM/30%\\A301.csv:\n",
      "          X         Y\n",
      "0  5.000000 -0.035156\n",
      "1  5.015625 -0.035156\n",
      "2  5.031250 -0.039062\n",
      "3  5.046875 -0.007812\n",
      "4  5.062500  0.117188\n",
      "\n",
      "\n",
      "Head dari file E:/Sekolah/Telkom/TA/LTSM/30%\\A302.csv:\n",
      "          X         Y\n",
      "0  5.000000 -0.050781\n",
      "1  5.015625 -0.054688\n",
      "2  5.031250 -0.046875\n",
      "3  5.046875 -0.039062\n",
      "4  5.062500  0.117188\n",
      "\n",
      "\n",
      "Head dari file E:/Sekolah/Telkom/TA/LTSM/30%\\A303.csv:\n",
      "          X         Y\n",
      "0  5.000000 -0.046875\n",
      "1  5.015625 -0.042969\n",
      "2  5.031250 -0.039062\n",
      "3  5.046875 -0.007812\n",
      "4  5.062500  0.117188\n",
      "\n",
      "\n",
      "Head dari file E:/Sekolah/Telkom/TA/LTSM/30%\\A304.csv:\n",
      "          X         Y\n",
      "0  5.000000 -0.058594\n",
      "1  5.015625 -0.058594\n",
      "2  5.031250 -0.062500\n",
      "3  5.046875 -0.039062\n",
      "4  5.062500  0.117188\n",
      "\n",
      "\n",
      "Head dari file E:/Sekolah/Telkom/TA/LTSM/30%\\A305.csv:\n",
      "          X         Y\n",
      "0  5.000000 -0.050781\n",
      "1  5.015625 -0.054688\n",
      "2  5.031250 -0.054688\n",
      "3  5.046875 -0.046875\n",
      "4  5.062500  0.117188\n",
      "\n",
      "\n",
      "Head dari file E:/Sekolah/Telkom/TA/LTSM/30%\\K301.csv:\n",
      "          X         Y\n",
      "0  5.000000 -0.015625\n",
      "1  5.015625 -0.011719\n",
      "2  5.031250 -0.007812\n",
      "3  5.046875  0.023438\n",
      "4  5.062500  0.117188\n",
      "\n",
      "\n",
      "Head dari file E:/Sekolah/Telkom/TA/LTSM/30%\\K302.csv:\n",
      "          X         Y\n",
      "0  5.000000 -0.007812\n",
      "1  5.015625 -0.007812\n",
      "2  5.031250 -0.015625\n",
      "3  5.046875  0.023438\n",
      "4  5.062500  0.117188\n",
      "\n",
      "\n",
      "Head dari file E:/Sekolah/Telkom/TA/LTSM/30%\\S301.csv:\n",
      "          X         Y\n",
      "0  5.000000 -0.039062\n",
      "1  5.015625 -0.035156\n",
      "2  5.031250 -0.031250\n",
      "3  5.046875 -0.007812\n",
      "4  5.062500  0.117188\n",
      "\n",
      "\n",
      "Head dari file E:/Sekolah/Telkom/TA/LTSM/30%\\S302.csv:\n",
      "          X         Y\n",
      "0  5.000000 -0.035156\n",
      "1  5.015625 -0.035156\n",
      "2  5.031250 -0.039062\n",
      "3  5.046875 -0.007812\n",
      "4  5.062500  0.105469\n",
      "\n",
      "\n",
      "Head dari file E:/Sekolah/Telkom/TA/LTSM/30%\\S303.csv:\n",
      "          X         Y\n",
      "0  5.000000 -0.027344\n",
      "1  5.015625 -0.031250\n",
      "2  5.031250 -0.031250\n",
      "3  5.046875 -0.007812\n",
      "4  5.062500  0.085938\n",
      "\n",
      "\n",
      "Head dari file E:/Sekolah/Telkom/TA/LTSM/30%\\S304.csv:\n",
      "          X         Y\n",
      "0  5.000000 -0.027344\n",
      "1  5.015625 -0.031250\n",
      "2  5.031250 -0.031250\n",
      "3  5.046875 -0.007812\n",
      "4  5.062500  0.105469\n",
      "\n",
      "\n",
      "Head dari file E:/Sekolah/Telkom/TA/LTSM/30%\\S305.csv:\n",
      "          X         Y\n",
      "0  5.000000 -0.019531\n",
      "1  5.015625 -0.027344\n",
      "2  5.031250 -0.015625\n",
      "3  5.046875 -0.007812\n",
      "4  5.062500  0.085938\n",
      "\n",
      "\n",
      "Head dari file E:/Sekolah/Telkom/TA/LTSM/50%\\A501.csv:\n",
      "          X         Y\n",
      "0  5.000000 -0.011719\n",
      "1  5.015625 -0.003906\n",
      "2  5.031250 -0.007812\n",
      "3  5.046875  0.023438\n",
      "4  5.062500  0.117188\n",
      "\n",
      "\n",
      "Head dari file E:/Sekolah/Telkom/TA/LTSM/50%\\A502.csv:\n",
      "          X         Y\n",
      "0  5.000000 -0.015625\n",
      "1  5.015625 -0.011719\n",
      "2  5.031250 -0.007812\n",
      "3  5.046875  0.023438\n",
      "4  5.062500  0.117188\n",
      "\n",
      "\n",
      "Head dari file E:/Sekolah/Telkom/TA/LTSM/50%\\A503.csv:\n",
      "          X         Y\n",
      "0  5.000000 -0.019531\n",
      "1  5.015625 -0.015625\n",
      "2  5.031250 -0.007812\n",
      "3  5.046875  0.023438\n",
      "4  5.062500  0.117188\n",
      "\n",
      "\n",
      "Head dari file E:/Sekolah/Telkom/TA/LTSM/50%\\A504.csv:\n",
      "          X         Y\n",
      "0  5.000000 -0.015625\n",
      "1  5.015625 -0.015625\n",
      "2  5.031250 -0.015625\n",
      "3  5.046875  0.023438\n",
      "4  5.062500  0.117188\n",
      "\n",
      "\n",
      "Head dari file E:/Sekolah/Telkom/TA/LTSM/50%\\A505.csv:\n",
      "          X         Y\n",
      "0  5.000000 -0.015625\n",
      "1  5.015625 -0.015625\n",
      "2  5.031250 -0.015625\n",
      "3  5.046875 -0.007812\n",
      "4  5.062500  0.101562\n",
      "\n",
      "\n",
      "Head dari file E:/Sekolah/Telkom/TA/LTSM/50%\\K501.csv:\n",
      "          X         Y\n",
      "0  5.000000 -0.015625\n",
      "1  5.015625 -0.011719\n",
      "2  5.031250 -0.007812\n",
      "3  5.046875  0.023438\n",
      "4  5.062500  0.117188\n",
      "\n",
      "\n",
      "Head dari file E:/Sekolah/Telkom/TA/LTSM/50%\\K502.csv:\n",
      "          X         Y\n",
      "0  5.000000 -0.007812\n",
      "1  5.015625 -0.015625\n",
      "2  5.031250 -0.007812\n",
      "3  5.046875  0.023438\n",
      "4  5.062500  0.117188\n",
      "\n",
      "\n",
      "Head dari file E:/Sekolah/Telkom/TA/LTSM/50%\\S501.csv:\n",
      "          X         Y\n",
      "0  5.000000 -0.019531\n",
      "1  5.015625 -0.015625\n",
      "2  5.031250 -0.015625\n",
      "3  5.046875  0.023438\n",
      "4  5.062500  0.117188\n",
      "\n",
      "\n",
      "Head dari file E:/Sekolah/Telkom/TA/LTSM/50%\\S502.csv:\n",
      "          X         Y\n",
      "0  5.000000 -0.011719\n",
      "1  5.015625 -0.019531\n",
      "2  5.031250 -0.015625\n",
      "3  5.046875  0.023438\n",
      "4  5.062500  0.117188\n",
      "\n",
      "\n",
      "Head dari file E:/Sekolah/Telkom/TA/LTSM/50%\\S503.csv:\n",
      "          X         Y\n",
      "0  5.000000 -0.011719\n",
      "1  5.015625 -0.015625\n",
      "2  5.031250 -0.007812\n",
      "3  5.046875  0.023438\n",
      "4  5.062500  0.117188\n",
      "\n",
      "\n",
      "Head dari file E:/Sekolah/Telkom/TA/LTSM/50%\\S504.csv:\n",
      "          X         Y\n",
      "0  5.000000 -0.015625\n",
      "1  5.015625 -0.015625\n",
      "2  5.031250 -0.015625\n",
      "3  5.046875  0.023438\n",
      "4  5.062500  0.117188\n",
      "\n",
      "\n",
      "Head dari file E:/Sekolah/Telkom/TA/LTSM/50%\\S505.csv:\n",
      "          X         Y\n",
      "0  5.000000 -0.015625\n",
      "1  5.015625 -0.011719\n",
      "2  5.031250  0.000000\n",
      "3  5.046875  0.023438\n",
      "4  5.062500  0.117188\n",
      "\n",
      "\n",
      "Head dari file E:/Sekolah/Telkom/TA/LTSM/70%\\A701.csv:\n",
      "          X         Y\n",
      "0  5.000000  0.000000\n",
      "1  5.015625  0.007812\n",
      "2  5.031250  0.000000\n",
      "3  5.046875  0.023438\n",
      "4  5.062500  0.117188\n",
      "\n",
      "\n",
      "Head dari file E:/Sekolah/Telkom/TA/LTSM/70%\\A702.csv:\n",
      "          X         Y\n",
      "0  5.000000  0.000000\n",
      "1  5.015625  0.003906\n",
      "2  5.031250  0.007812\n",
      "3  5.046875  0.023438\n",
      "4  5.062500  0.117188\n",
      "\n",
      "\n",
      "Head dari file E:/Sekolah/Telkom/TA/LTSM/70%\\A703.csv:\n",
      "          X         Y\n",
      "0  5.000000  0.003906\n",
      "1  5.015625  0.000000\n",
      "2  5.031250  0.007812\n",
      "3  5.046875  0.023438\n",
      "4  5.062500  0.117188\n",
      "\n",
      "\n",
      "Head dari file E:/Sekolah/Telkom/TA/LTSM/70%\\A704.csv:\n",
      "          X         Y\n",
      "0  5.000000  0.003906\n",
      "1  5.015625 -0.003906\n",
      "2  5.031250  0.000000\n",
      "3  5.046875  0.023438\n",
      "4  5.062500  0.117188\n",
      "\n",
      "\n",
      "Head dari file E:/Sekolah/Telkom/TA/LTSM/70%\\A705.csv:\n",
      "          X         Y\n",
      "0  5.000000 -0.003906\n",
      "1  5.015625 -0.003906\n",
      "2  5.031250  0.000000\n",
      "3  5.046875  0.023438\n",
      "4  5.062500  0.117188\n",
      "\n",
      "\n",
      "Head dari file E:/Sekolah/Telkom/TA/LTSM/70%\\K701.csv:\n",
      "          X         Y\n",
      "0  5.000000  0.003906\n",
      "1  5.015625 -0.003906\n",
      "2  5.031250 -0.007812\n",
      "3  5.046875  0.023438\n",
      "4  5.062500  0.117188\n",
      "\n",
      "\n",
      "Head dari file E:/Sekolah/Telkom/TA/LTSM/70%\\K702.csv:\n",
      "          X         Y\n",
      "0  5.000000 -0.003906\n",
      "1  5.015625  0.000000\n",
      "2  5.031250  0.000000\n",
      "3  5.046875  0.023438\n",
      "4  5.062500  0.117188\n",
      "\n",
      "\n",
      "Head dari file E:/Sekolah/Telkom/TA/LTSM/70%\\S701.csv:\n",
      "          X         Y\n",
      "0  5.000000 -0.003906\n",
      "1  5.015625 -0.007812\n",
      "2  5.031250  0.000000\n",
      "3  5.046875  0.023438\n",
      "4  5.062500  0.117188\n",
      "\n",
      "\n",
      "Head dari file E:/Sekolah/Telkom/TA/LTSM/70%\\S702.csv:\n",
      "          X         Y\n",
      "0  5.000000 -0.003906\n",
      "1  5.015625 -0.003906\n",
      "2  5.031250  0.000000\n",
      "3  5.046875  0.023438\n",
      "4  5.062500  0.117188\n",
      "\n",
      "\n",
      "Head dari file E:/Sekolah/Telkom/TA/LTSM/70%\\S703.csv:\n",
      "          X         Y\n",
      "0  5.000000 -0.003906\n",
      "1  5.015625 -0.003906\n",
      "2  5.031250  0.000000\n",
      "3  5.046875  0.023438\n",
      "4  5.062500  0.117188\n",
      "\n",
      "\n",
      "Head dari file E:/Sekolah/Telkom/TA/LTSM/70%\\S704.csv:\n",
      "          X         Y\n",
      "0  5.000000 -0.007812\n",
      "1  5.015625 -0.003906\n",
      "2  5.031250 -0.007812\n",
      "3  5.046875  0.023438\n",
      "4  5.062500  0.117188\n",
      "\n",
      "\n",
      "Head dari file E:/Sekolah/Telkom/TA/LTSM/70%\\S705.csv:\n",
      "          X         Y\n",
      "0  5.000000  0.000000\n",
      "1  5.015625 -0.011719\n",
      "2  5.031250  0.000000\n",
      "3  5.046875  0.023438\n",
      "4  5.062500  0.117188\n",
      "\n",
      "\n",
      "Head dari file E:/Sekolah/Telkom/TA/LTSM/90%\\A901.csv:\n",
      "          X         Y\n",
      "0  5.000000  0.000000\n",
      "1  5.015625 -0.007812\n",
      "2  5.031250  0.000000\n",
      "3  5.046875  0.023438\n",
      "4  5.062500  0.117188\n",
      "\n",
      "\n",
      "Head dari file E:/Sekolah/Telkom/TA/LTSM/90%\\A902.csv:\n",
      "          X         Y\n",
      "0  5.000000 -0.003906\n",
      "1  5.015625 -0.007812\n",
      "2  5.031250  0.000000\n",
      "3  5.046875  0.023438\n",
      "4  5.062500  0.117188\n",
      "\n",
      "\n",
      "Head dari file E:/Sekolah/Telkom/TA/LTSM/90%\\A903.csv:\n",
      "          X         Y\n",
      "0  5.000000  0.003906\n",
      "1  5.015625 -0.003906\n",
      "2  5.031250  0.007812\n",
      "3  5.046875  0.023438\n",
      "4  5.062500  0.117188\n",
      "\n",
      "\n",
      "Head dari file E:/Sekolah/Telkom/TA/LTSM/90%\\A904.csv:\n",
      "          X         Y\n",
      "0  5.000000 -0.003906\n",
      "1  5.015625 -0.007812\n",
      "2  5.031250 -0.007812\n",
      "3  5.046875  0.023438\n",
      "4  5.062500  0.117188\n",
      "\n",
      "\n",
      "Head dari file E:/Sekolah/Telkom/TA/LTSM/90%\\A905.csv:\n",
      "          X         Y\n",
      "0  5.000000  0.000000\n",
      "1  5.015625 -0.003906\n",
      "2  5.031250  0.007812\n",
      "3  5.046875  0.023438\n",
      "4  5.062500  0.117188\n",
      "\n",
      "\n",
      "Head dari file E:/Sekolah/Telkom/TA/LTSM/90%\\K901.csv:\n",
      "          X         Y\n",
      "0  5.000000  0.000000\n",
      "1  5.015625  0.000000\n",
      "2  5.031250  0.000000\n",
      "3  5.046875  0.023438\n",
      "4  5.062500  0.113281\n",
      "\n",
      "\n",
      "Head dari file E:/Sekolah/Telkom/TA/LTSM/90%\\K902.csv:\n",
      "          X         Y\n",
      "0  5.000000  0.000000\n",
      "1  5.015625 -0.003906\n",
      "2  5.031250  0.000000\n",
      "3  5.046875  0.023438\n",
      "4  5.062500  0.117188\n",
      "\n",
      "\n",
      "Head dari file E:/Sekolah/Telkom/TA/LTSM/90%\\S901.csv:\n",
      "          X         Y\n",
      "0  5.000000  0.000000\n",
      "1  5.015625 -0.003906\n",
      "2  5.031250  0.000000\n",
      "3  5.046875  0.023438\n",
      "4  5.062500  0.117188\n",
      "\n",
      "\n",
      "Head dari file E:/Sekolah/Telkom/TA/LTSM/90%\\S902.csv:\n",
      "          X         Y\n",
      "0  5.000000 -0.007812\n",
      "1  5.015625 -0.003906\n",
      "2  5.031250  0.007812\n",
      "3  5.046875  0.023438\n",
      "4  5.062500  0.117188\n",
      "\n",
      "\n",
      "Head dari file E:/Sekolah/Telkom/TA/LTSM/90%\\S903.csv:\n",
      "          X         Y\n",
      "0  5.000000 -0.003906\n",
      "1  5.015625  0.000000\n",
      "2  5.031250  0.000000\n",
      "3  5.046875  0.023438\n",
      "4  5.062500  0.117188\n",
      "\n",
      "\n",
      "Head dari file E:/Sekolah/Telkom/TA/LTSM/90%\\S904.csv:\n",
      "          X         Y\n",
      "0  5.000000  0.000000\n",
      "1  5.015625 -0.007812\n",
      "2  5.031250  0.000000\n",
      "3  5.046875  0.023438\n",
      "4  5.062500  0.117188\n",
      "\n",
      "\n",
      "Head dari file E:/Sekolah/Telkom/TA/LTSM/90%\\S905.csv:\n",
      "          X         Y\n",
      "0  5.000000 -0.003906\n",
      "1  5.015625  0.007812\n",
      "2  5.031250 -0.007812\n",
      "3  5.046875  0.023438\n",
      "4  5.062500  0.117188\n",
      "\n",
      "\n",
      "Head dari file E:/Sekolah/Telkom/TA/LTSM/Process\\30%\\A301_processed.csv:\n",
      "          X         Y\n",
      "0  5.000000 -0.035156\n",
      "1  5.015625 -0.035156\n",
      "2  5.031250 -0.039062\n",
      "3  5.046875 -0.007812\n",
      "4  5.062500  0.117188\n",
      "\n",
      "\n",
      "Head dari file E:/Sekolah/Telkom/TA/LTSM/Process\\30%\\A302_processed.csv:\n",
      "          X         Y\n",
      "0  5.000000 -0.050781\n",
      "1  5.015625 -0.054688\n",
      "2  5.031250 -0.046875\n",
      "3  5.046875 -0.039062\n",
      "4  5.062500  0.117188\n",
      "\n",
      "\n",
      "Head dari file E:/Sekolah/Telkom/TA/LTSM/Process\\30%\\A303_processed.csv:\n",
      "          X         Y\n",
      "0  5.000000 -0.046875\n",
      "1  5.015625 -0.042969\n",
      "2  5.031250 -0.039062\n",
      "3  5.046875 -0.007812\n",
      "4  5.062500  0.117188\n",
      "\n",
      "\n",
      "Head dari file E:/Sekolah/Telkom/TA/LTSM/Process\\30%\\A304_processed.csv:\n",
      "          X         Y\n",
      "0  5.000000 -0.058594\n",
      "1  5.015625 -0.058594\n",
      "2  5.031250 -0.062500\n",
      "3  5.046875 -0.039062\n",
      "4  5.062500  0.117188\n",
      "\n",
      "\n",
      "Head dari file E:/Sekolah/Telkom/TA/LTSM/Process\\30%\\A305_processed.csv:\n",
      "          X         Y\n",
      "0  5.000000 -0.050781\n",
      "1  5.015625 -0.054688\n",
      "2  5.031250 -0.054688\n",
      "3  5.046875 -0.046875\n",
      "4  5.062500  0.117188\n",
      "\n",
      "\n",
      "Head dari file E:/Sekolah/Telkom/TA/LTSM/Process\\30%\\K301_processed.csv:\n",
      "          X         Y\n",
      "0  5.000000 -0.015625\n",
      "1  5.015625 -0.011719\n",
      "2  5.031250 -0.007812\n",
      "3  5.046875  0.023438\n",
      "4  5.062500  0.117188\n",
      "\n",
      "\n",
      "Head dari file E:/Sekolah/Telkom/TA/LTSM/Process\\30%\\K302_processed.csv:\n",
      "          X         Y\n",
      "0  5.000000 -0.007812\n",
      "1  5.015625 -0.007812\n",
      "2  5.031250 -0.015625\n",
      "3  5.046875  0.023438\n",
      "4  5.062500  0.117188\n",
      "\n",
      "\n",
      "Head dari file E:/Sekolah/Telkom/TA/LTSM/Process\\30%\\S301_processed.csv:\n",
      "          X         Y\n",
      "0  5.000000 -0.039062\n",
      "1  5.015625 -0.035156\n",
      "2  5.031250 -0.031250\n",
      "3  5.046875 -0.007812\n",
      "4  5.062500  0.117188\n",
      "\n",
      "\n",
      "Head dari file E:/Sekolah/Telkom/TA/LTSM/Process\\30%\\S302_processed.csv:\n",
      "          X         Y\n",
      "0  5.000000 -0.035156\n",
      "1  5.015625 -0.035156\n",
      "2  5.031250 -0.039062\n",
      "3  5.046875 -0.007812\n",
      "4  5.062500  0.105469\n",
      "\n",
      "\n",
      "Head dari file E:/Sekolah/Telkom/TA/LTSM/Process\\30%\\S303_processed.csv:\n",
      "          X         Y\n",
      "0  5.000000 -0.027344\n",
      "1  5.015625 -0.031250\n",
      "2  5.031250 -0.031250\n",
      "3  5.046875 -0.007812\n",
      "4  5.062500  0.085938\n",
      "\n",
      "\n",
      "Head dari file E:/Sekolah/Telkom/TA/LTSM/Process\\30%\\S304_processed.csv:\n",
      "          X         Y\n",
      "0  5.000000 -0.027344\n",
      "1  5.015625 -0.031250\n",
      "2  5.031250 -0.031250\n",
      "3  5.046875 -0.007812\n",
      "4  5.062500  0.105469\n",
      "\n",
      "\n",
      "Head dari file E:/Sekolah/Telkom/TA/LTSM/Process\\30%\\S305_processed.csv:\n",
      "          X         Y\n",
      "0  5.000000 -0.019531\n",
      "1  5.015625 -0.027344\n",
      "2  5.031250 -0.015625\n",
      "3  5.046875 -0.007812\n",
      "4  5.062500  0.085938\n",
      "\n",
      "\n",
      "Head dari file E:/Sekolah/Telkom/TA/LTSM/Process\\50%\\A501_processed.csv:\n",
      "          X         Y\n",
      "0  5.000000 -0.011719\n",
      "1  5.015625 -0.003906\n",
      "2  5.031250 -0.007812\n",
      "3  5.046875  0.023438\n",
      "4  5.062500  0.117188\n",
      "\n",
      "\n",
      "Head dari file E:/Sekolah/Telkom/TA/LTSM/Process\\50%\\A502_processed.csv:\n",
      "          X         Y\n",
      "0  5.000000 -0.015625\n",
      "1  5.015625 -0.011719\n",
      "2  5.031250 -0.007812\n",
      "3  5.046875  0.023438\n",
      "4  5.062500  0.117188\n",
      "\n",
      "\n",
      "Head dari file E:/Sekolah/Telkom/TA/LTSM/Process\\50%\\A503_processed.csv:\n",
      "          X         Y\n",
      "0  5.000000 -0.019531\n",
      "1  5.015625 -0.015625\n",
      "2  5.031250 -0.007812\n",
      "3  5.046875  0.023438\n",
      "4  5.062500  0.117188\n",
      "\n",
      "\n",
      "Head dari file E:/Sekolah/Telkom/TA/LTSM/Process\\50%\\A504_processed.csv:\n",
      "          X         Y\n",
      "0  5.000000 -0.015625\n",
      "1  5.015625 -0.015625\n",
      "2  5.031250 -0.015625\n",
      "3  5.046875  0.023438\n",
      "4  5.062500  0.117188\n",
      "\n",
      "\n",
      "Head dari file E:/Sekolah/Telkom/TA/LTSM/Process\\50%\\A505_processed.csv:\n",
      "          X         Y\n",
      "0  5.000000 -0.015625\n",
      "1  5.015625 -0.015625\n",
      "2  5.031250 -0.015625\n",
      "3  5.046875 -0.007812\n",
      "4  5.062500  0.101562\n",
      "\n",
      "\n",
      "Head dari file E:/Sekolah/Telkom/TA/LTSM/Process\\50%\\K501_processed.csv:\n",
      "          X         Y\n",
      "0  5.000000 -0.015625\n",
      "1  5.015625 -0.011719\n",
      "2  5.031250 -0.007812\n",
      "3  5.046875  0.023438\n",
      "4  5.062500  0.117188\n",
      "\n",
      "\n",
      "Head dari file E:/Sekolah/Telkom/TA/LTSM/Process\\50%\\K502_processed.csv:\n",
      "          X         Y\n",
      "0  5.000000 -0.007812\n",
      "1  5.015625 -0.015625\n",
      "2  5.031250 -0.007812\n",
      "3  5.046875  0.023438\n",
      "4  5.062500  0.117188\n",
      "\n",
      "\n",
      "Head dari file E:/Sekolah/Telkom/TA/LTSM/Process\\50%\\S501_processed.csv:\n",
      "          X         Y\n",
      "0  5.000000 -0.019531\n",
      "1  5.015625 -0.015625\n",
      "2  5.031250 -0.015625\n",
      "3  5.046875  0.023438\n",
      "4  5.062500  0.117188\n",
      "\n",
      "\n",
      "Head dari file E:/Sekolah/Telkom/TA/LTSM/Process\\50%\\S502_processed.csv:\n",
      "          X         Y\n",
      "0  5.000000 -0.011719\n",
      "1  5.015625 -0.019531\n",
      "2  5.031250 -0.015625\n",
      "3  5.046875  0.023438\n",
      "4  5.062500  0.117188\n",
      "\n",
      "\n",
      "Head dari file E:/Sekolah/Telkom/TA/LTSM/Process\\50%\\S503_processed.csv:\n",
      "          X         Y\n",
      "0  5.000000 -0.011719\n",
      "1  5.015625 -0.015625\n",
      "2  5.031250 -0.007812\n",
      "3  5.046875  0.023438\n",
      "4  5.062500  0.117188\n",
      "\n",
      "\n",
      "Head dari file E:/Sekolah/Telkom/TA/LTSM/Process\\50%\\S504_processed.csv:\n",
      "          X         Y\n",
      "0  5.000000 -0.015625\n",
      "1  5.015625 -0.015625\n",
      "2  5.031250 -0.015625\n",
      "3  5.046875  0.023438\n",
      "4  5.062500  0.117188\n",
      "\n",
      "\n",
      "Head dari file E:/Sekolah/Telkom/TA/LTSM/Process\\50%\\S505_processed.csv:\n",
      "          X         Y\n",
      "0  5.000000 -0.015625\n",
      "1  5.015625 -0.011719\n",
      "2  5.031250  0.000000\n",
      "3  5.046875  0.023438\n",
      "4  5.062500  0.117188\n",
      "\n",
      "\n",
      "Head dari file E:/Sekolah/Telkom/TA/LTSM/Process\\70%\\A701_processed.csv:\n",
      "          X         Y\n",
      "0  5.000000  0.000000\n",
      "1  5.015625  0.007812\n",
      "2  5.031250  0.000000\n",
      "3  5.046875  0.023438\n",
      "4  5.062500  0.117188\n",
      "\n",
      "\n",
      "Head dari file E:/Sekolah/Telkom/TA/LTSM/Process\\70%\\A702_processed.csv:\n",
      "          X         Y\n",
      "0  5.000000  0.000000\n",
      "1  5.015625  0.003906\n",
      "2  5.031250  0.007812\n",
      "3  5.046875  0.023438\n",
      "4  5.062500  0.117188\n",
      "\n",
      "\n",
      "Head dari file E:/Sekolah/Telkom/TA/LTSM/Process\\70%\\A703_processed.csv:\n",
      "          X         Y\n",
      "0  5.000000  0.003906\n",
      "1  5.015625  0.000000\n",
      "2  5.031250  0.007812\n",
      "3  5.046875  0.023438\n",
      "4  5.062500  0.117188\n",
      "\n",
      "\n",
      "Head dari file E:/Sekolah/Telkom/TA/LTSM/Process\\70%\\A704_processed.csv:\n",
      "          X         Y\n",
      "0  5.000000  0.003906\n",
      "1  5.015625 -0.003906\n",
      "2  5.031250  0.000000\n",
      "3  5.046875  0.023438\n",
      "4  5.062500  0.117188\n",
      "\n",
      "\n",
      "Head dari file E:/Sekolah/Telkom/TA/LTSM/Process\\70%\\A705_processed.csv:\n",
      "          X         Y\n",
      "0  5.000000 -0.003906\n",
      "1  5.015625 -0.003906\n",
      "2  5.031250  0.000000\n",
      "3  5.046875  0.023438\n",
      "4  5.062500  0.117188\n",
      "\n",
      "\n",
      "Head dari file E:/Sekolah/Telkom/TA/LTSM/Process\\70%\\K701_processed.csv:\n",
      "          X         Y\n",
      "0  5.000000  0.003906\n",
      "1  5.015625 -0.003906\n",
      "2  5.031250 -0.007812\n",
      "3  5.046875  0.023438\n",
      "4  5.062500  0.117188\n",
      "\n",
      "\n",
      "Head dari file E:/Sekolah/Telkom/TA/LTSM/Process\\70%\\K702_processed.csv:\n",
      "          X         Y\n",
      "0  5.000000 -0.003906\n",
      "1  5.015625  0.000000\n",
      "2  5.031250  0.000000\n",
      "3  5.046875  0.023438\n",
      "4  5.062500  0.117188\n",
      "\n",
      "\n",
      "Head dari file E:/Sekolah/Telkom/TA/LTSM/Process\\70%\\S701_processed.csv:\n",
      "          X         Y\n",
      "0  5.000000 -0.003906\n",
      "1  5.015625 -0.007812\n",
      "2  5.031250  0.000000\n",
      "3  5.046875  0.023438\n",
      "4  5.062500  0.117188\n",
      "\n",
      "\n",
      "Head dari file E:/Sekolah/Telkom/TA/LTSM/Process\\70%\\S702_processed.csv:\n",
      "          X         Y\n",
      "0  5.000000 -0.003906\n",
      "1  5.015625 -0.003906\n",
      "2  5.031250  0.000000\n",
      "3  5.046875  0.023438\n",
      "4  5.062500  0.117188\n",
      "\n",
      "\n",
      "Head dari file E:/Sekolah/Telkom/TA/LTSM/Process\\70%\\S703_processed.csv:\n",
      "          X         Y\n",
      "0  5.000000 -0.003906\n",
      "1  5.015625 -0.003906\n",
      "2  5.031250  0.000000\n",
      "3  5.046875  0.023438\n",
      "4  5.062500  0.117188\n",
      "\n",
      "\n",
      "Head dari file E:/Sekolah/Telkom/TA/LTSM/Process\\70%\\S704_processed.csv:\n",
      "          X         Y\n",
      "0  5.000000 -0.007812\n",
      "1  5.015625 -0.003906\n",
      "2  5.031250 -0.007812\n",
      "3  5.046875  0.023438\n",
      "4  5.062500  0.117188\n",
      "\n",
      "\n",
      "Head dari file E:/Sekolah/Telkom/TA/LTSM/Process\\70%\\S705_processed.csv:\n",
      "          X         Y\n",
      "0  5.000000  0.000000\n",
      "1  5.015625 -0.011719\n",
      "2  5.031250  0.000000\n",
      "3  5.046875  0.023438\n",
      "4  5.062500  0.117188\n",
      "\n",
      "\n",
      "Head dari file E:/Sekolah/Telkom/TA/LTSM/Process\\90%\\A901_processed.csv:\n",
      "          X         Y\n",
      "0  5.000000  0.000000\n",
      "1  5.015625 -0.007812\n",
      "2  5.031250  0.000000\n",
      "3  5.046875  0.023438\n",
      "4  5.062500  0.117188\n",
      "\n",
      "\n",
      "Head dari file E:/Sekolah/Telkom/TA/LTSM/Process\\90%\\A902_processed.csv:\n",
      "          X         Y\n",
      "0  5.000000 -0.003906\n",
      "1  5.015625 -0.007812\n",
      "2  5.031250  0.000000\n",
      "3  5.046875  0.023438\n",
      "4  5.062500  0.117188\n",
      "\n",
      "\n",
      "Head dari file E:/Sekolah/Telkom/TA/LTSM/Process\\90%\\A903_processed.csv:\n",
      "          X         Y\n",
      "0  5.000000  0.003906\n",
      "1  5.015625 -0.003906\n",
      "2  5.031250  0.007812\n",
      "3  5.046875  0.023438\n",
      "4  5.062500  0.117188\n",
      "\n",
      "\n",
      "Head dari file E:/Sekolah/Telkom/TA/LTSM/Process\\90%\\A904_processed.csv:\n",
      "          X         Y\n",
      "0  5.000000 -0.003906\n",
      "1  5.015625 -0.007812\n",
      "2  5.031250 -0.007812\n",
      "3  5.046875  0.023438\n",
      "4  5.062500  0.117188\n",
      "\n",
      "\n",
      "Head dari file E:/Sekolah/Telkom/TA/LTSM/Process\\90%\\A905_processed.csv:\n",
      "          X         Y\n",
      "0  5.000000  0.000000\n",
      "1  5.015625 -0.003906\n",
      "2  5.031250  0.007812\n",
      "3  5.046875  0.023438\n",
      "4  5.062500  0.117188\n",
      "\n",
      "\n",
      "Head dari file E:/Sekolah/Telkom/TA/LTSM/Process\\90%\\K901_processed.csv:\n",
      "          X         Y\n",
      "0  5.000000  0.000000\n",
      "1  5.015625  0.000000\n",
      "2  5.031250  0.000000\n",
      "3  5.046875  0.023438\n",
      "4  5.062500  0.113281\n",
      "\n",
      "\n",
      "Head dari file E:/Sekolah/Telkom/TA/LTSM/Process\\90%\\K902_processed.csv:\n",
      "          X         Y\n",
      "0  5.000000  0.000000\n",
      "1  5.015625 -0.003906\n",
      "2  5.031250  0.000000\n",
      "3  5.046875  0.023438\n",
      "4  5.062500  0.117188\n",
      "\n",
      "\n",
      "Head dari file E:/Sekolah/Telkom/TA/LTSM/Process\\90%\\S901_processed.csv:\n",
      "          X         Y\n",
      "0  5.000000  0.000000\n",
      "1  5.015625 -0.003906\n",
      "2  5.031250  0.000000\n",
      "3  5.046875  0.023438\n",
      "4  5.062500  0.117188\n",
      "\n",
      "\n",
      "Head dari file E:/Sekolah/Telkom/TA/LTSM/Process\\90%\\S902_processed.csv:\n",
      "          X         Y\n",
      "0  5.000000 -0.007812\n",
      "1  5.015625 -0.003906\n",
      "2  5.031250  0.007812\n",
      "3  5.046875  0.023438\n",
      "4  5.062500  0.117188\n",
      "\n",
      "\n",
      "Head dari file E:/Sekolah/Telkom/TA/LTSM/Process\\90%\\S903_processed.csv:\n",
      "          X         Y\n",
      "0  5.000000 -0.003906\n",
      "1  5.015625  0.000000\n",
      "2  5.031250  0.000000\n",
      "3  5.046875  0.023438\n",
      "4  5.062500  0.117188\n",
      "\n",
      "\n",
      "Head dari file E:/Sekolah/Telkom/TA/LTSM/Process\\90%\\S904_processed.csv:\n",
      "          X         Y\n",
      "0  5.000000  0.000000\n",
      "1  5.015625 -0.007812\n",
      "2  5.031250  0.000000\n",
      "3  5.046875  0.023438\n",
      "4  5.062500  0.117188\n",
      "\n",
      "\n",
      "Head dari file E:/Sekolah/Telkom/TA/LTSM/Process\\90%\\S905_processed.csv:\n",
      "          X         Y\n",
      "0  5.000000 -0.003906\n",
      "1  5.015625  0.007812\n",
      "2  5.031250 -0.007812\n",
      "3  5.046875  0.023438\n",
      "4  5.062500  0.117188\n",
      "\n",
      "\n"
     ]
    }
   ],
   "source": [
    "x = []\n",
    "y = []\n",
    "for file_csv in files_csv:\n",
    "    print(f\"Head dari file {file_csv}:\")\n",
    "    df = pd.read_csv(file_csv)\n",
    "    x.append(df['X'])\n",
    "    y.append(df['Y'])\n",
    "    print(df.head())\n",
    "    print(\"\\n\")"
   ]
  },
  {
   "cell_type": "markdown",
   "metadata": {},
   "source": [
    "# Parameter Filter, Apply Bandpass, Rectify Signal"
   ]
  },
  {
   "cell_type": "code",
   "execution_count": 4,
   "metadata": {},
   "outputs": [],
   "source": [
    "lowcut = 2.0\n",
    "highcut = 10.0\n",
    "fs = 100.0\n",
    "order = 5"
   ]
  },
  {
   "cell_type": "markdown",
   "metadata": {},
   "source": [
    "# Apply a bandpass filter to the signal"
   ]
  },
  {
   "cell_type": "code",
   "execution_count": 5,
   "metadata": {},
   "outputs": [],
   "source": [
    "i = 0\n",
    "\n",
    "for file_csv in files_csv:\n",
    "   \n",
    "    df = pd.read_csv(file_csv)\n",
    "    var = df['X'].values\n",
    "    data = df['Y'].values\n",
    "     \n",
    "    nyquist = 0.5 * fs\n",
    "    low = lowcut / nyquist\n",
    "    high = highcut / nyquist\n",
    "    b, a = signal.butter(order, [low, high], btype='band')\n",
    "    \n",
    "    #Filter bandpass\n",
    "    filtered_signal = signal.filtfilt(b, a, data)\n",
    "    \n",
    "    # Rectify signal\n",
    "    rectified_signal = np.abs(filtered_signal)\n",
    "    \n",
    "    # One-sided FFT\n",
    "    signal_fft = np.fft.fft(filtered_signal)\n",
    "    signal_freq = np.fft.fftfreq(len(filtered_signal), 1/fs)\n",
    "    n = len(filtered_signal)\n",
    "    freq = signal_freq[0:int(n/2)]\n",
    "    fft_amp = np.abs(signal_fft)[0:int(n/2)]/n*2\n",
    "    \n",
    "    # One-sided PSD\n",
    "    psd = (1/(fs*n)) * np.square(np.abs(signal_fft[:n//2]))\n",
    "    freq_psd = signal_freq[0:int(n/2)]\n",
    "    psd_one_side = psd[0:int(n/2)]\n",
    "    \n",
    "    # processed_csv_file = file_csv.replace(\".csv\", \"_processed.csv\")\n",
    "    # df.to_csv(processed_csv_file, index=False)\n",
    "    \n",
    "    # fig, axs = plt.subplots(2, 2, figsize=(10,10))\n",
    "\n",
    "    # axs[0, 0].plot(var, filtered_signal)\n",
    "    # axs[0, 0].set_title(file_csv)\n",
    "    # axs[0, 0].set_xlabel('Time (us)')\n",
    "    # axs[0, 0].set_ylabel('Amplitude (V)')\n",
    "\n",
    "    # axs[0, 1].plot(var, rectified_signal)\n",
    "    # axs[0, 1].set_title(file_csv)\n",
    "    # axs[0, 1].set_xlabel('Time (us)')\n",
    "    # axs[0, 1].set_ylabel('Amplitude (V)')\n",
    "\n",
    "    # axs[1, 0].plot(freq, fft_amp)\n",
    "    # axs[1, 0].set_title(file_csv)\n",
    "    # axs[1, 0].set_xlabel('Frequency (MHz)')\n",
    "    # axs[1, 0].set_ylabel('Amplitude Power/Frequency (dB/Hz)')\n",
    "\n",
    "    # axs[1, 1].plot(freq_psd, psd_one_side)\n",
    "    # axs[1, 1].set_title(file_csv)\n",
    "    # axs[1, 1].set_xlabel('Frequency (MHz)')\n",
    "    # axs[1, 1].set_ylabel('Power/Frequency (dB/Hz)')\n",
    "\n",
    "    # save_img = file_csv+\".png\"\n",
    "    # plt.savefig(save_img)\n",
    "    \n",
    "    \n",
    "    "
   ]
  },
  {
   "cell_type": "code",
   "execution_count": 6,
   "metadata": {},
   "outputs": [],
   "source": [
    "# os.chdir(load)\n",
    "# if not os.path.exists(load+\"Process\"):\n",
    "#         os.makedirs(load+\"Process\")\n",
    "#         print(\"'data' folder created\")\n",
    "        \n",
    "# for root, dirs, files in os.walk(load):\n",
    "#         for filename in files:\n",
    "#             if filename.endswith(\"_processed.csv\"):\n",
    "#                 original_file = os.path.join(root, filename)                \n",
    "#                 if not \"Process/\" in original_file:\n",
    "#                     print(\"Moved '\",original_file,\" to \",\"./Process/\"+filename)\n",
    "#                     os.rename(original_file, \"./Process/\"+filename)"
   ]
  },
  {
   "cell_type": "code",
   "execution_count": 7,
   "metadata": {},
   "outputs": [],
   "source": [
    "load2 = \"E:/Sekolah/Telkom/TA/LTSM/Process/\"\n",
    "data = []\n",
    "labels = []\n",
    "\n",
    "for subfolder_name in os.listdir(load2):\n",
    "    subfolder_path = os.path.join(load2, subfolder_name)\n",
    "    if os.path.isdir(subfolder_path):\n",
    "        # List untuk menyimpan data dan label dari subfolder\n",
    "        subfolder_data = []\n",
    "        subfolder_labels = []\n",
    "        \n",
    "        for file_name in os.listdir(subfolder_path):\n",
    "            if file_name.endswith(\".csv\"):\n",
    "                file_path = os.path.join(subfolder_path, file_name)\n",
    "                df = pd.read_csv(file_path)\n",
    "                features = df.iloc[:, :-1].values\n",
    "                target = df.iloc[:, -1].values\n",
    "                subfolder_data.append(features)\n",
    "                subfolder_labels.append(target)\n",
    "                \n",
    "        subfolder_data = np.concatenate(subfolder_data)\n",
    "        subfolder_labels = np.concatenate(subfolder_labels)\n",
    "        data.append(subfolder_data)\n",
    "        labels.append(subfolder_labels)"
   ]
  },
  {
   "cell_type": "code",
   "execution_count": 87,
   "metadata": {},
   "outputs": [
    {
     "name": "stdout",
     "output_type": "stream",
     "text": [
      "[[  5.      ]\n",
      " [  5.015625]\n",
      " [  5.03125 ]\n",
      " ...\n",
      " [199.953125]\n",
      " [199.96875 ]\n",
      " [199.984375]]\n"
     ]
    }
   ],
   "source": [
    "print(features)"
   ]
  },
  {
   "cell_type": "code",
   "execution_count": 8,
   "metadata": {},
   "outputs": [],
   "source": [
    "data = np.concatenate(data)\n",
    "labels = np.concatenate(labels)\n",
    "label_encoder = LabelEncoder()\n",
    "labels = label_encoder.fit_transform(labels)"
   ]
  },
  {
   "cell_type": "code",
   "execution_count": 9,
   "metadata": {},
   "outputs": [],
   "source": [
    "X_train, X_test, y_train, y_test = train_test_split(data, labels, test_size=0.2, random_state=42)\n",
    "X_train = np.reshape(X_train, (X_train.shape[0], X_train.shape[1], 1))\n",
    "X_test = np.reshape(X_test, (X_test.shape[0], X_test.shape[1], 1))"
   ]
  },
  {
   "cell_type": "code",
   "execution_count": 10,
   "metadata": {},
   "outputs": [
    {
     "data": {
      "text/plain": [
       "<bound method Model.summary of <keras.src.engine.sequential.Sequential object at 0x000001BA973A4190>>"
      ]
     },
     "execution_count": 10,
     "metadata": {},
     "output_type": "execute_result"
    }
   ],
   "source": [
    "# Membangun model LSTM\n",
    "model = Sequential()\n",
    "model.add(LSTM(64, input_shape=(X_train.shape[1], 1), return_sequences=True))\n",
    "model.add(Dropout(0.3))\n",
    "model.add(LSTM(64))\n",
    "model.add(Dropout(0.3))\n",
    "model.add(Dense(len(label_encoder.classes_), activation='tanh'))\n",
    "model.add(Dense(len(label_encoder.classes_), activation='softmax'))\n",
    "model.summary"
   ]
  },
  {
   "cell_type": "code",
   "execution_count": 11,
   "metadata": {},
   "outputs": [],
   "source": [
    "# Mengompilasi model\n",
    "model.compile(loss='sparse_categorical_crossentropy', optimizer='adam', metrics=['accuracy'])"
   ]
  },
  {
   "cell_type": "code",
   "execution_count": 12,
   "metadata": {},
   "outputs": [],
   "source": [
    "# # Melatih model\n",
    "# history = model.fit(X_train, y_train, epochs=20, batch_size=32, validation_data=(X_test, y_test))"
   ]
  },
  {
   "cell_type": "code",
   "execution_count": 13,
   "metadata": {},
   "outputs": [],
   "source": [
    "# _, accuracy = model.evaluate(X_test, y_test)\n",
    "# print(f\"Akurasi: {accuracy * 100:.2f}%\")"
   ]
  },
  {
   "cell_type": "code",
   "execution_count": 14,
   "metadata": {},
   "outputs": [],
   "source": [
    "# model.save(\"model.h5\")"
   ]
  },
  {
   "cell_type": "code",
   "execution_count": 15,
   "metadata": {},
   "outputs": [],
   "source": [
    "model = load_model('model.h5')"
   ]
  },
  {
   "cell_type": "code",
   "execution_count": 52,
   "metadata": {},
   "outputs": [
    {
     "data": {
      "text/html": [
       "<div>\n",
       "<style scoped>\n",
       "    .dataframe tbody tr th:only-of-type {\n",
       "        vertical-align: middle;\n",
       "    }\n",
       "\n",
       "    .dataframe tbody tr th {\n",
       "        vertical-align: top;\n",
       "    }\n",
       "\n",
       "    .dataframe thead th {\n",
       "        text-align: right;\n",
       "    }\n",
       "</style>\n",
       "<table border=\"1\" class=\"dataframe\">\n",
       "  <thead>\n",
       "    <tr style=\"text-align: right;\">\n",
       "      <th></th>\n",
       "      <th>X</th>\n",
       "      <th>Y</th>\n",
       "    </tr>\n",
       "  </thead>\n",
       "  <tbody>\n",
       "    <tr>\n",
       "      <th>0</th>\n",
       "      <td>5.000000</td>\n",
       "      <td>-0.035156</td>\n",
       "    </tr>\n",
       "    <tr>\n",
       "      <th>1</th>\n",
       "      <td>5.015625</td>\n",
       "      <td>-0.035156</td>\n",
       "    </tr>\n",
       "    <tr>\n",
       "      <th>2</th>\n",
       "      <td>5.031250</td>\n",
       "      <td>-0.039062</td>\n",
       "    </tr>\n",
       "    <tr>\n",
       "      <th>3</th>\n",
       "      <td>5.046875</td>\n",
       "      <td>-0.007812</td>\n",
       "    </tr>\n",
       "    <tr>\n",
       "      <th>4</th>\n",
       "      <td>5.062500</td>\n",
       "      <td>0.117188</td>\n",
       "    </tr>\n",
       "  </tbody>\n",
       "</table>\n",
       "</div>"
      ],
      "text/plain": [
       "          X         Y\n",
       "0  5.000000 -0.035156\n",
       "1  5.015625 -0.035156\n",
       "2  5.031250 -0.039062\n",
       "3  5.046875 -0.007812\n",
       "4  5.062500  0.117188"
      ]
     },
     "execution_count": 52,
     "metadata": {},
     "output_type": "execute_result"
    }
   ],
   "source": [
    "df=pd.read_csv('E:/Sekolah/Telkom/TA/LTSM/Process/30%/A301_processed.csv')\n",
    "df.head()"
   ]
  },
  {
   "cell_type": "code",
   "execution_count": 53,
   "metadata": {},
   "outputs": [],
   "source": [
    "X=df.values"
   ]
  },
  {
   "cell_type": "code",
   "execution_count": 48,
   "metadata": {},
   "outputs": [],
   "source": [
    "X=X[:]"
   ]
  },
  {
   "cell_type": "code",
   "execution_count": 54,
   "metadata": {},
   "outputs": [
    {
     "name": "stdout",
     "output_type": "stream",
     "text": [
      "[[ 5.00000000e+00 -3.51562500e-02]\n",
      " [ 5.01562500e+00 -3.51562500e-02]\n",
      " [ 5.03125000e+00 -3.90625000e-02]\n",
      " ...\n",
      " [ 1.99953125e+02 -3.90625000e-03]\n",
      " [ 1.99968750e+02  1.97656250e+00]\n",
      " [ 1.99984375e+02  1.51953125e+00]]\n"
     ]
    }
   ],
   "source": [
    "print(X)"
   ]
  },
  {
   "cell_type": "code",
   "execution_count": 58,
   "metadata": {},
   "outputs": [],
   "source": [
    "y=np.array(df['Y'])\n",
    "Y=utils.to_categorical(y)\n",
    "Y.shape\n",
    "X_train, X_test, Y_train, Y_test = train_test_split(X, Y, test_size=0.20, random_state=42)"
   ]
  },
  {
   "cell_type": "code",
   "execution_count": 60,
   "metadata": {},
   "outputs": [],
   "source": [
    "X_train = np.reshape(X_train, (X_train.shape[0], X_train.shape[1], 1))\n",
    "X_test = np.reshape(X_test, (X_test.shape[0], X_test.shape[1], 1))"
   ]
  },
  {
   "cell_type": "code",
   "execution_count": 61,
   "metadata": {},
   "outputs": [
    {
     "data": {
      "text/plain": [
       "(2496, 2, 1)"
      ]
     },
     "execution_count": 61,
     "metadata": {},
     "output_type": "execute_result"
    }
   ],
   "source": [
    "X_train.shape\n",
    "X_test.shape"
   ]
  },
  {
   "cell_type": "code",
   "execution_count": 62,
   "metadata": {},
   "outputs": [
    {
     "name": "stdout",
     "output_type": "stream",
     "text": [
      "78/78 [==============================] - 1s 4ms/step\n"
     ]
    },
    {
     "data": {
      "text/plain": [
       "(2496, 634)"
      ]
     },
     "execution_count": 62,
     "metadata": {},
     "output_type": "execute_result"
    }
   ],
   "source": [
    "ypred=model.predict((X_test[:,::4]-X_test.mean())/X_test.std())\n",
    "ypred.shape"
   ]
  },
  {
   "cell_type": "code",
   "execution_count": 63,
   "metadata": {},
   "outputs": [],
   "source": [
    "yp=np.zeros((Y_test.shape[0]))\n",
    "yo=np.ones((Y_test.shape[0]))"
   ]
  },
  {
   "cell_type": "code",
   "execution_count": 64,
   "metadata": {},
   "outputs": [],
   "source": [
    "for i in range(Y_test.shape[0]):\n",
    "    yp[i]=np.argmax(ypred[i])+1\n",
    "    yo[i]=np.argmax(Y_test[i])"
   ]
  },
  {
   "cell_type": "code",
   "execution_count": 65,
   "metadata": {},
   "outputs": [
    {
     "data": {
      "text/plain": [
       "(2496,)"
      ]
     },
     "execution_count": 65,
     "metadata": {},
     "output_type": "execute_result"
    }
   ],
   "source": [
    "yp.shape"
   ]
  },
  {
   "cell_type": "code",
   "execution_count": 66,
   "metadata": {},
   "outputs": [
    {
     "data": {
      "text/plain": [
       "(2496,)"
      ]
     },
     "execution_count": 66,
     "metadata": {},
     "output_type": "execute_result"
    }
   ],
   "source": [
    "yo.shape"
   ]
  },
  {
   "cell_type": "code",
   "execution_count": 67,
   "metadata": {},
   "outputs": [
    {
     "data": {
      "text/plain": [
       "array([0., 1.])"
      ]
     },
     "execution_count": 67,
     "metadata": {},
     "output_type": "execute_result"
    }
   ],
   "source": [
    "np.unique(yo)"
   ]
  },
  {
   "cell_type": "code",
   "execution_count": 68,
   "metadata": {},
   "outputs": [
    {
     "data": {
      "text/plain": [
       "array([246., 343., 367.])"
      ]
     },
     "execution_count": 68,
     "metadata": {},
     "output_type": "execute_result"
    }
   ],
   "source": [
    "np.unique(yp)"
   ]
  },
  {
   "cell_type": "code",
   "execution_count": 69,
   "metadata": {},
   "outputs": [],
   "source": [
    "for i in range(Y_test.shape[0]):\n",
    "    if yo[i]!=1:\n",
    "        yo[i]=0\n",
    "    if yp[i]!=1:\n",
    "        yp[i]=0"
   ]
  },
  {
   "cell_type": "code",
   "execution_count": 70,
   "metadata": {},
   "outputs": [
    {
     "data": {
      "text/plain": [
       "array([0., 1.])"
      ]
     },
     "execution_count": 70,
     "metadata": {},
     "output_type": "execute_result"
    }
   ],
   "source": [
    "np.unique(yo)"
   ]
  },
  {
   "cell_type": "code",
   "execution_count": 72,
   "metadata": {},
   "outputs": [
    {
     "data": {
      "text/plain": [
       "array([0.])"
      ]
     },
     "execution_count": 72,
     "metadata": {},
     "output_type": "execute_result"
    }
   ],
   "source": [
    "np.unique(yp)"
   ]
  },
  {
   "cell_type": "code",
   "execution_count": 73,
   "metadata": {},
   "outputs": [],
   "source": [
    "from sklearn.metrics import accuracy_score"
   ]
  },
  {
   "cell_type": "code",
   "execution_count": 74,
   "metadata": {},
   "outputs": [
    {
     "data": {
      "text/plain": [
       "0.9995993589743589"
      ]
     },
     "execution_count": 74,
     "metadata": {},
     "output_type": "execute_result"
    }
   ],
   "source": [
    "accuracy_score(yo,yp)"
   ]
  },
  {
   "cell_type": "code",
   "execution_count": 75,
   "metadata": {},
   "outputs": [
    {
     "name": "stdout",
     "output_type": "stream",
     "text": [
      "312/312 [==============================] - 1s 3ms/step\n"
     ]
    },
    {
     "data": {
      "text/plain": [
       "(9984, 634)"
      ]
     },
     "execution_count": 75,
     "metadata": {},
     "output_type": "execute_result"
    }
   ],
   "source": [
    "ypred1=model.predict((X_train[:,::4]-X_train.mean())/X_train.std())\n",
    "ypred1.shape"
   ]
  },
  {
   "cell_type": "code",
   "execution_count": 76,
   "metadata": {},
   "outputs": [],
   "source": [
    "yp1=np.zeros((Y_train.shape[0]))\n",
    "yo1=np.ones((Y_train.shape[0]))"
   ]
  },
  {
   "cell_type": "code",
   "execution_count": 77,
   "metadata": {},
   "outputs": [],
   "source": [
    "for i in range(Y_train.shape[0]):\n",
    "    yp1[i]=np.argmax(ypred1[i])+1\n",
    "    yo1[i]=np.argmax(Y_train[i])"
   ]
  },
  {
   "cell_type": "code",
   "execution_count": 78,
   "metadata": {},
   "outputs": [
    {
     "data": {
      "text/plain": [
       "(9984,)"
      ]
     },
     "execution_count": 78,
     "metadata": {},
     "output_type": "execute_result"
    }
   ],
   "source": [
    "yp1.shape"
   ]
  },
  {
   "cell_type": "code",
   "execution_count": 79,
   "metadata": {},
   "outputs": [
    {
     "data": {
      "text/plain": [
       "(9984,)"
      ]
     },
     "execution_count": 79,
     "metadata": {},
     "output_type": "execute_result"
    }
   ],
   "source": [
    "yo1.shape"
   ]
  },
  {
   "cell_type": "code",
   "execution_count": 80,
   "metadata": {},
   "outputs": [
    {
     "data": {
      "text/plain": [
       "array([0., 1.])"
      ]
     },
     "execution_count": 80,
     "metadata": {},
     "output_type": "execute_result"
    }
   ],
   "source": [
    "np.unique(yo1)"
   ]
  },
  {
   "cell_type": "code",
   "execution_count": 81,
   "metadata": {},
   "outputs": [
    {
     "data": {
      "text/plain": [
       "array([246., 343., 367.])"
      ]
     },
     "execution_count": 81,
     "metadata": {},
     "output_type": "execute_result"
    }
   ],
   "source": [
    "np.unique(yp1)"
   ]
  },
  {
   "cell_type": "code",
   "execution_count": 82,
   "metadata": {},
   "outputs": [],
   "source": [
    "#conversion of classes\n",
    "for i in range(Y_train.shape[0]):\n",
    "    if yo1[i]!=1:\n",
    "        yo1[i]=0\n",
    "    if yp1[i]!=1:\n",
    "        yp1[i]=0"
   ]
  },
  {
   "cell_type": "code",
   "execution_count": 83,
   "metadata": {},
   "outputs": [
    {
     "data": {
      "text/plain": [
       "array([0., 1.])"
      ]
     },
     "execution_count": 83,
     "metadata": {},
     "output_type": "execute_result"
    }
   ],
   "source": [
    "np.unique(yo1)"
   ]
  },
  {
   "cell_type": "code",
   "execution_count": 84,
   "metadata": {},
   "outputs": [
    {
     "data": {
      "text/plain": [
       "array([0.])"
      ]
     },
     "execution_count": 84,
     "metadata": {},
     "output_type": "execute_result"
    }
   ],
   "source": [
    "np.unique(yp1)"
   ]
  },
  {
   "cell_type": "code",
   "execution_count": 85,
   "metadata": {},
   "outputs": [
    {
     "data": {
      "text/plain": [
       "0.9998998397435898"
      ]
     },
     "execution_count": 85,
     "metadata": {},
     "output_type": "execute_result"
    }
   ],
   "source": [
    "accuracy_score(yo1,yp1)"
   ]
  },
  {
   "cell_type": "code",
   "execution_count": null,
   "metadata": {},
   "outputs": [],
   "source": []
  }
 ],
 "metadata": {
  "kernelspec": {
   "display_name": "Python 3",
   "language": "python",
   "name": "python3"
  },
  "language_info": {
   "codemirror_mode": {
    "name": "ipython",
    "version": 3
   },
   "file_extension": ".py",
   "mimetype": "text/x-python",
   "name": "python",
   "nbconvert_exporter": "python",
   "pygments_lexer": "ipython3",
   "version": "3.11.4"
  },
  "orig_nbformat": 4
 },
 "nbformat": 4,
 "nbformat_minor": 2
}
