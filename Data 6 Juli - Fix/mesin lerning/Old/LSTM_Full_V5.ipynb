{
 "cells": [
  {
   "cell_type": "markdown",
   "metadata": {},
   "source": [
    "# Init Library"
   ]
  },
  {
   "cell_type": "code",
   "execution_count": 1,
   "metadata": {},
   "outputs": [],
   "source": [
    "import os, glob\n",
    "import numpy as np\n",
    "import pandas as pd\n",
    "import matplotlib.pyplot as plt\n",
    "from difflib import SequenceMatcher\n",
    "\n",
    "from scipy import signal, fftpack\n",
    "from scipy.fft import fft, fftfreq\n",
    "from scipy.signal import butter, filtfilt\n",
    "\n",
    "from sklearn.model_selection import train_test_split\n",
    "from sklearn.preprocessing import LabelEncoder, MinMaxScaler\n",
    "\n",
    "from keras.models import Sequential, load_model\n",
    "from keras.layers import LSTM, Dense, Activation, Dropout\n",
    "from keras import utils\n",
    "utils.to_categorical\n",
    "\n",
    "from tensorflow.keras.utils import to_categorical"
   ]
  },
  {
   "cell_type": "markdown",
   "metadata": {},
   "source": [
    "# Load directory"
   ]
  },
  {
   "cell_type": "code",
   "execution_count": null,
   "metadata": {},
   "outputs": [],
   "source": [
    "# load = \"E:/Sekolah/Telkom/TA/LTSM/\"\n",
    "# save = \"E:/Sekolah/Telkom/TA/LTSM/Img/\"\n",
    "# proc_30 = 'E:/Sekolah/Telkom/TA/LTSM/Process/30%/*.csv'\n",
    "# proc_50 = 'E:/Sekolah/Telkom/TA/LTSM/Process/50%/*.csv'\n",
    "# proc_70 = 'E:/Sekolah/Telkom/TA/LTSM/Process/70%/*.csv'\n",
    "# proc_90 = 'E:/Sekolah/Telkom/TA/LTSM/Process/90%/*.csv'\n",
    "# combine = 'E:/Sekolah/Telkom/TA/LTSM/Process/Comb/*.csv'"
   ]
  },
  {
   "cell_type": "code",
   "execution_count": 30,
   "metadata": {},
   "outputs": [],
   "source": [
    "load = \"E:/load_data/Load\"\n",
    "save = \"C:/TA/csv-400-400/Img\"\n",
    "proc_30 = 'E:/load_data/Process/30%/*.csv'\n",
    "proc_50 = 'E:/load_data/Process/50%/*.csv'\n",
    "proc_70 = 'E:/load_data/Process/70%/*.csv'\n",
    "proc_90 = 'E:/load_data/Process/90%/*.csv'\n",
    "combine = 'E:/load_data/Process/Comb/*.csv'"
   ]
  },
  {
   "cell_type": "markdown",
   "metadata": {},
   "source": [
    "# Parameter"
   ]
  },
  {
   "cell_type": "code",
   "execution_count": 23,
   "metadata": {},
   "outputs": [],
   "source": [
    "lowcut = 2.0\n",
    "highcut = 10.0\n",
    "fs = 100.0\n",
    "order = 5"
   ]
  },
  {
   "cell_type": "markdown",
   "metadata": {},
   "source": [
    "# Apply Parameter"
   ]
  },
  {
   "cell_type": "code",
   "execution_count": 24,
   "metadata": {},
   "outputs": [],
   "source": [
    "files_csv =[]\n",
    "for root, dirs, files in os.walk(load):\n",
    "    for file_name in files:\n",
    "        if file_name.endswith(\".csv\"):\n",
    "            file_load = os.path.join(root, file_name)\n",
    "            files_csv.append(file_load)"
   ]
  },
  {
   "cell_type": "code",
   "execution_count": 25,
   "metadata": {},
   "outputs": [],
   "source": [
    "i = 0\n",
    "\n",
    "for file_csv in files_csv:\n",
    "   \n",
    "    df = pd.read_csv(file_csv)\n",
    "    # start_index = 1\n",
    "    # end_index = 1551\n",
    "    # df = df_uncut[start_index:end_index]\n",
    "    var = df['X'].values\n",
    "    data = df['Y'].values\n",
    "     \n",
    "    nyquist = 0.5 * fs\n",
    "    low = lowcut / nyquist\n",
    "    high = highcut / nyquist\n",
    "    b, a = signal.butter(order, [low, high], btype='band')\n",
    "    \n",
    "    #Filter bandpass\n",
    "    filtered_signal = signal.filtfilt(b, a, data)\n",
    "    \n",
    "    # Rectify signal\n",
    "    rectified_signal = np.abs(filtered_signal)\n",
    "    \n",
    "    # One-sided FFT\n",
    "    signal_fft = np.fft.fft(filtered_signal)\n",
    "    signal_freq = np.fft.fftfreq(len(filtered_signal), 1/fs)\n",
    "    n = len(filtered_signal)\n",
    "    freq = signal_freq[0:int(n/2)]\n",
    "    fft_amp = np.abs(signal_fft)[0:int(n/2)]/n*2\n",
    "    \n",
    "    # One-sided PSD\n",
    "    psd = (1/(fs*n)) * np.square(np.abs(signal_fft[:n//2]))\n",
    "    freq_psd = signal_freq[0:int(n/2)]\n",
    "    psd_one_side = psd[0:int(n/2)]\n",
    "    \n",
    "    processed_csv_file = file_csv.replace(\".csv\", \"_processed.csv\")\n",
    "    df.to_csv(processed_csv_file, index=False)\n",
    "    \n",
    "    # fig, axs = plt.subplots(2, 2, figsize=(10,10))\n",
    "\n",
    "    # axs[0, 0].plot(var, filtered_signal)\n",
    "    # axs[0, 0].set_title(file_csv)\n",
    "    # axs[0, 0].set_xlabel('Time (us)')\n",
    "    # axs[0, 0].set_ylabel('Amplitude (V)')\n",
    "\n",
    "    # axs[0, 1].plot(var, rectified_signal)\n",
    "    # axs[0, 1].set_title(file_csv)\n",
    "    # axs[0, 1].set_xlabel('Time (us)')\n",
    "    # axs[0, 1].set_ylabel('Amplitude (V)')\n",
    "\n",
    "    # axs[1, 0].plot(freq, fft_amp)\n",
    "    # axs[1, 0].set_title(file_csv)\n",
    "    # axs[1, 0].set_xlabel('Frequency (MHz)')\n",
    "    # axs[1, 0].set_ylabel('Amplitude Power/Frequency (dB/Hz)')\n",
    "\n",
    "    # axs[1, 1].plot(freq_psd, psd_one_side)\n",
    "    # axs[1, 1].set_title(file_csv)\n",
    "    # axs[1, 1].set_xlabel('Frequency (MHz)')\n",
    "    # axs[1, 1].set_ylabel('Power/Frequency (dB/Hz)')\n",
    "\n",
    "    # save_img = file_csv+\".png\"\n",
    "    # plt.savefig(save_img)\n"
   ]
  },
  {
   "cell_type": "markdown",
   "metadata": {},
   "source": [
    "# Move PSD to New Folder"
   ]
  },
  {
   "cell_type": "code",
   "execution_count": 26,
   "metadata": {},
   "outputs": [
    {
     "name": "stdout",
     "output_type": "stream",
     "text": [
      "'data' folder created\n",
      "Moved ' E:/load_data/Load\\30%\\A30A1_processed.csv  to  ./Process/A30A1_processed.csv\n"
     ]
    },
    {
     "ename": "FileNotFoundError",
     "evalue": "[WinError 3] The system cannot find the path specified: 'E:/load_data/Load\\\\30%\\\\A30A1_processed.csv' -> './Process/A30A1_processed.csv'",
     "output_type": "error",
     "traceback": [
      "\u001b[1;31m---------------------------------------------------------------------------\u001b[0m",
      "\u001b[1;31mFileNotFoundError\u001b[0m                         Traceback (most recent call last)",
      "\u001b[1;32mc:\\Users\\Afif Alaudin\\Documents\\GitHub\\ta2023-boneusg\\Data 6 Juli - Fix\\LSTM\\LSTM_Full_V5.ipynb Cell 12\u001b[0m in \u001b[0;36m1\n\u001b[0;32m     <a href='vscode-notebook-cell:/c%3A/Users/Afif%20Alaudin/Documents/GitHub/ta2023-boneusg/Data%206%20Juli%20-%20Fix/LSTM/LSTM_Full_V5.ipynb#X13sZmlsZQ%3D%3D?line=9'>10</a>\u001b[0m \u001b[39mif\u001b[39;00m \u001b[39mnot\u001b[39;00m \u001b[39m\"\u001b[39m\u001b[39mProcess/\u001b[39m\u001b[39m\"\u001b[39m \u001b[39min\u001b[39;00m original_file:\n\u001b[0;32m     <a href='vscode-notebook-cell:/c%3A/Users/Afif%20Alaudin/Documents/GitHub/ta2023-boneusg/Data%206%20Juli%20-%20Fix/LSTM/LSTM_Full_V5.ipynb#X13sZmlsZQ%3D%3D?line=10'>11</a>\u001b[0m     \u001b[39mprint\u001b[39m(\u001b[39m\"\u001b[39m\u001b[39mMoved \u001b[39m\u001b[39m'\u001b[39m\u001b[39m\"\u001b[39m,original_file,\u001b[39m\"\u001b[39m\u001b[39m to \u001b[39m\u001b[39m\"\u001b[39m,\u001b[39m\"\u001b[39m\u001b[39m./Process/\u001b[39m\u001b[39m\"\u001b[39m\u001b[39m+\u001b[39mfilename)\n\u001b[1;32m---> <a href='vscode-notebook-cell:/c%3A/Users/Afif%20Alaudin/Documents/GitHub/ta2023-boneusg/Data%206%20Juli%20-%20Fix/LSTM/LSTM_Full_V5.ipynb#X13sZmlsZQ%3D%3D?line=11'>12</a>\u001b[0m     os\u001b[39m.\u001b[39;49mrename(original_file, \u001b[39m\"\u001b[39;49m\u001b[39m./Process/\u001b[39;49m\u001b[39m\"\u001b[39;49m\u001b[39m+\u001b[39;49mfilename)\n",
      "\u001b[1;31mFileNotFoundError\u001b[0m: [WinError 3] The system cannot find the path specified: 'E:/load_data/Load\\\\30%\\\\A30A1_processed.csv' -> './Process/A30A1_processed.csv'"
     ]
    }
   ],
   "source": [
    "os.chdir(load)\n",
    "if not os.path.exists(load+\"Process\"):\n",
    "        os.makedirs(load+\"Process\")\n",
    "        print(\"'data' folder created\")\n",
    "        \n",
    "for root, dirs, files in os.walk(load):\n",
    "        for filename in files:\n",
    "            if filename.endswith(\"_processed.csv\"):\n",
    "                original_file = os.path.join(root, filename)                \n",
    "                if not \"Process/\" in original_file:\n",
    "                    print(\"Moved '\",original_file,\" to \",\"./Process/\"+filename)\n",
    "                    os.rename(original_file, \"./Process/\"+filename)"
   ]
  },
  {
   "cell_type": "markdown",
   "metadata": {},
   "source": [
    "# Gabungkan Dataset menjadi satu"
   ]
  },
  {
   "cell_type": "code",
   "execution_count": 27,
   "metadata": {},
   "outputs": [],
   "source": [
    "# Menggunakan glob untuk mendapatkan daftar file CSV\n",
    "csv_files = glob.glob(proc_30)\n",
    "\n",
    "# Membuat list kosong untuk menyimpan DataFrame dari setiap file CSV\n",
    "dataframes = []\n",
    "\n",
    "# Menggabungkan semua file CSV menjadi satu DataFrame\n",
    "for file in csv_files:\n",
    "    df = pd.read_csv(file)\n",
    "    dataframes.append(df)\n",
    "\n",
    "# Menggabungkan DataFrame dalam list menjadi satu DataFrame utama\n",
    "combined_df = pd.concat(dataframes, ignore_index=True)\n",
    "\n",
    "combined_df.to_csv('E:/load_data/Process/Comb/1.csv', index=True)\n",
    "# combined_df.to_csv('E:/Sekolah/Telkom/TA/LTSM/Process/Comb/1.csv', index=False)"
   ]
  },
  {
   "cell_type": "code",
   "execution_count": 28,
   "metadata": {},
   "outputs": [],
   "source": [
    "# Menggunakan glob untuk mendapatkan daftar file CSV\n",
    "csv_files = glob.glob(proc_50)\n",
    "\n",
    "# Membuat list kosong untuk menyimpan DataFrame dari setiap file CSV\n",
    "dataframes = []\n",
    "\n",
    "# Menggabungkan semua file CSV menjadi satu DataFrame\n",
    "for file in csv_files:\n",
    "    df = pd.read_csv(file)\n",
    "    dataframes.append(df)\n",
    "\n",
    "# Menggabungkan DataFrame dalam list menjadi satu DataFrame utama\n",
    "combined_df = pd.concat(dataframes, ignore_index=True)\n",
    "\n",
    "combined_df.to_csv('E:/load_data/Process/Comb/2.csv', index=True)"
   ]
  },
  {
   "cell_type": "code",
   "execution_count": 31,
   "metadata": {},
   "outputs": [],
   "source": [
    "# Menggunakan glob untuk mendapatkan daftar file CSV\n",
    "csv_files = glob.glob(proc_70)\n",
    "\n",
    "# Membuat list kosong untuk menyimpan DataFrame dari setiap file CSV\n",
    "dataframes = []\n",
    "\n",
    "# Menggabungkan semua file CSV menjadi satu DataFrame\n",
    "for file in csv_files:\n",
    "    df = pd.read_csv(file)\n",
    "    dataframes.append(df)\n",
    "\n",
    "# Menggabungkan DataFrame dalam list menjadi satu DataFrame utama\n",
    "combined_df = pd.concat(dataframes, ignore_index=True)\n",
    "\n",
    "combined_df.to_csv('E:/load_data/Process/Comb/3.csv', index=True)"
   ]
  },
  {
   "cell_type": "code",
   "execution_count": 32,
   "metadata": {},
   "outputs": [],
   "source": [
    "# Menggunakan glob untuk mendapatkan daftar file CSV\n",
    "csv_files = glob.glob(proc_90)\n",
    "\n",
    "# Membuat list kosong untuk menyimpan DataFrame dari setiap file CSV\n",
    "dataframes = []\n",
    "\n",
    "# Menggabungkan semua file CSV menjadi satu DataFrame\n",
    "for file in csv_files:\n",
    "    df = pd.read_csv(file)\n",
    "    dataframes.append(df)\n",
    "\n",
    "# Menggabungkan DataFrame dalam list menjadi satu DataFrame utama\n",
    "combined_df = pd.concat(dataframes, ignore_index=True)\n",
    "\n",
    "combined_df.to_csv('E:/load_data/Process/Comb/4.csv', index=True)"
   ]
  },
  {
   "cell_type": "code",
   "execution_count": 33,
   "metadata": {},
   "outputs": [
    {
     "name": "stdout",
     "output_type": "stream",
     "text": [
      "         Unnamed: 0           X         Y    label\n",
      "0                 0    5.000000  0.000000  label_1\n",
      "1                 1    5.015625  0.003906  label_1\n",
      "2                 2    5.031250  0.003906  label_1\n",
      "3                 3    5.046875  0.023438  label_1\n",
      "4                 4    5.062500  0.117188  label_1\n",
      "...             ...         ...       ...      ...\n",
      "1247995      311995  199.921875 -0.003906  label_4\n",
      "1247996      311996  199.937500 -0.003906  label_4\n",
      "1247997      311997  199.953125  0.000000  label_4\n",
      "1247998      311998  199.968750 -1.523438  label_4\n",
      "1247999      311999  199.984375  1.519531  label_4\n",
      "\n",
      "[1248000 rows x 4 columns]\n"
     ]
    }
   ],
   "source": [
    "merge = 'E:/load_data/Process/Comb/All.csv'\n",
    "\n",
    "# Menggunakan glob untuk mendapatkan daftar file CSV\n",
    "csv_files = glob.glob(combine)\n",
    "\n",
    "# Membuat list kosong untuk menyimpan DataFrame dari setiap file CSV\n",
    "dataframes = []\n",
    "\n",
    "# Menggabungkan semua file CSV menjadi satu DataFrame\n",
    "for i, file in enumerate(csv_files):\n",
    "    df = pd.read_csv(file)\n",
    "    df['label'] = f'label_{i+1}'\n",
    "    dataframes.append(df)\n",
    "# Menggabungkan DataFrame dalam list menjadi satu DataFrame utama\n",
    "combined_df = pd.concat(dataframes, ignore_index=True)\n",
    "\n",
    "# Menampilkan hasil gabungan\n",
    "print(combined_df)\n",
    "\n",
    "combined_df.to_csv(merge, index=False)"
   ]
  },
  {
   "cell_type": "markdown",
   "metadata": {},
   "source": [
    "# Rename Label"
   ]
  },
  {
   "cell_type": "code",
   "execution_count": 34,
   "metadata": {},
   "outputs": [],
   "source": [
    "data_df = pd.read_csv(merge)\n",
    "\n",
    "label_mapping = {\n",
    "    'label_1': 'Density 30%',\n",
    "    'label_2': 'Density 50%',\n",
    "    'label_3': 'Density 70%',\n",
    "    'label_4': 'Density 90%'\n",
    "}\n",
    "\n",
    "data_df['label'] = data_df['label'].map(label_mapping)\n",
    "data_df.to_csv(merge, index=False)"
   ]
  },
  {
   "cell_type": "markdown",
   "metadata": {},
   "source": [
    "# Train Dataset"
   ]
  },
  {
   "cell_type": "code",
   "execution_count": 35,
   "metadata": {},
   "outputs": [],
   "source": [
    "# Membaca dataset utama untuk pelatihan\n",
    "# E:/load_data/Process/Comb/3.csv\n",
    "merge = 'E:/load_data/Process/Comb/All.csv'\n",
    "data_df = pd.read_csv(merge)\n",
    "X = data_df.iloc[:, :-1].values\n",
    "y = data_df.iloc[:, -1].values"
   ]
  },
  {
   "cell_type": "code",
   "execution_count": 36,
   "metadata": {},
   "outputs": [
    {
     "name": "stdout",
     "output_type": "stream",
     "text": [
      "(1248000, 4)\n"
     ]
    }
   ],
   "source": [
    "# Menggunakan LabelEncoder untuk mengubah label menjadi nilai numerik\n",
    "label_encoder = LabelEncoder()\n",
    "y_encoded = label_encoder.fit_transform(y)\n",
    "y_encoded_categorical = utils.to_categorical(y_encoded)\n",
    "print(y_encoded_categorical.shape)"
   ]
  },
  {
   "cell_type": "code",
   "execution_count": 37,
   "metadata": {},
   "outputs": [],
   "source": [
    "# Membagi dataset menjadi data pelatihan dan data validasi\n",
    "X_train, X_val, y_train, y_val = train_test_split(X, y_encoded_categorical, test_size=0.2, random_state=42)\n",
    "\n",
    "X_train = X_train.reshape((X_train.shape[0], X_train.shape[1], 1))\n",
    "X_val = np.reshape(X_val, (X_val.shape[0], X_val.shape[1], 1))"
   ]
  },
  {
   "attachments": {},
   "cell_type": "markdown",
   "metadata": {},
   "source": [
    "## Metode LSTM"
   ]
  },
  {
   "cell_type": "code",
   "execution_count": 38,
   "metadata": {},
   "outputs": [],
   "source": [
    "# Membangun model LSTM\n",
    "model = Sequential()\n",
    "model.add(LSTM(64, input_shape=(X_train.shape[1], X_train.shape[2])))\n",
    "model.add(Dense(y_encoded_categorical.shape[1], activation='softmax'))\n",
    "model.compile(loss='categorical_crossentropy', optimizer='adam', metrics=['accuracy'])"
   ]
  },
  {
   "cell_type": "code",
   "execution_count": 40,
   "metadata": {},
   "outputs": [
    {
     "name": "stdout",
     "output_type": "stream",
     "text": [
      "Epoch 1/100\n",
      "15600/15600 [==============================] - 90s 5ms/step - loss: 1.3127 - accuracy: 0.3536 - val_loss: 1.2802 - val_accuracy: 0.3675\n",
      "Epoch 2/100\n",
      "15600/15600 [==============================] - 81s 5ms/step - loss: 1.2785 - accuracy: 0.3908 - val_loss: 1.2738 - val_accuracy: 0.3753\n",
      "Epoch 3/100\n",
      "15600/15600 [==============================] - 87s 6ms/step - loss: 1.2703 - accuracy: 0.4006 - val_loss: 1.2649 - val_accuracy: 0.3827\n",
      "Epoch 4/100\n",
      "15600/15600 [==============================] - 82s 5ms/step - loss: 1.2556 - accuracy: 0.4181 - val_loss: 1.2437 - val_accuracy: 0.4447\n",
      "Epoch 5/100\n",
      "15600/15600 [==============================] - 83s 5ms/step - loss: 1.2324 - accuracy: 0.4350 - val_loss: 1.2208 - val_accuracy: 0.4377\n",
      "Epoch 6/100\n",
      "15600/15600 [==============================] - 82s 5ms/step - loss: 1.2095 - accuracy: 0.4413 - val_loss: 1.1983 - val_accuracy: 0.4447\n",
      "Epoch 7/100\n",
      "15600/15600 [==============================] - 82s 5ms/step - loss: 1.1987 - accuracy: 0.4428 - val_loss: 1.1941 - val_accuracy: 0.4393\n",
      "Epoch 8/100\n",
      "15600/15600 [==============================] - 82s 5ms/step - loss: 1.1924 - accuracy: 0.4435 - val_loss: 1.1896 - val_accuracy: 0.4506\n",
      "Epoch 9/100\n",
      "15600/15600 [==============================] - 82s 5ms/step - loss: 1.1861 - accuracy: 0.4445 - val_loss: 1.1818 - val_accuracy: 0.4377\n",
      "Epoch 10/100\n",
      "15600/15600 [==============================] - 87s 6ms/step - loss: 1.1808 - accuracy: 0.4449 - val_loss: 1.1794 - val_accuracy: 0.4555\n",
      "Epoch 11/100\n",
      "15600/15600 [==============================] - 82s 5ms/step - loss: 1.1763 - accuracy: 0.4450 - val_loss: 1.1726 - val_accuracy: 0.4546\n",
      "Epoch 12/100\n",
      "15600/15600 [==============================] - 82s 5ms/step - loss: 1.1726 - accuracy: 0.4455 - val_loss: 1.1704 - val_accuracy: 0.4557\n",
      "Epoch 13/100\n",
      "15600/15600 [==============================] - 83s 5ms/step - loss: 1.1700 - accuracy: 0.4457 - val_loss: 1.1700 - val_accuracy: 0.4392\n",
      "Epoch 14/100\n",
      "15600/15600 [==============================] - 84s 5ms/step - loss: 1.1673 - accuracy: 0.4469 - val_loss: 1.1687 - val_accuracy: 0.4327\n",
      "Epoch 15/100\n",
      "15600/15600 [==============================] - 83s 5ms/step - loss: 1.1651 - accuracy: 0.4478 - val_loss: 1.1655 - val_accuracy: 0.4456\n",
      "Epoch 16/100\n",
      "15600/15600 [==============================] - 84s 5ms/step - loss: 1.1631 - accuracy: 0.4485 - val_loss: 1.1687 - val_accuracy: 0.4544\n",
      "Epoch 17/100\n",
      "15600/15600 [==============================] - 85s 5ms/step - loss: 1.1625 - accuracy: 0.4496 - val_loss: 1.1674 - val_accuracy: 0.4355\n",
      "Epoch 18/100\n",
      "15600/15600 [==============================] - 83s 5ms/step - loss: 1.1604 - accuracy: 0.4502 - val_loss: 1.1625 - val_accuracy: 0.4586\n",
      "Epoch 19/100\n",
      "15600/15600 [==============================] - 83s 5ms/step - loss: 1.1590 - accuracy: 0.4515 - val_loss: 1.1565 - val_accuracy: 0.4571\n",
      "Epoch 20/100\n",
      "15600/15600 [==============================] - 83s 5ms/step - loss: 1.1578 - accuracy: 0.4517 - val_loss: 1.1669 - val_accuracy: 0.4417\n",
      "Epoch 21/100\n",
      "15600/15600 [==============================] - 84s 5ms/step - loss: 1.1568 - accuracy: 0.4519 - val_loss: 1.1570 - val_accuracy: 0.4605\n",
      "Epoch 22/100\n",
      "15600/15600 [==============================] - 84s 5ms/step - loss: 1.1556 - accuracy: 0.4528 - val_loss: 1.1606 - val_accuracy: 0.4588\n",
      "Epoch 23/100\n",
      "15600/15600 [==============================] - 85s 5ms/step - loss: 1.1548 - accuracy: 0.4526 - val_loss: 1.1544 - val_accuracy: 0.4573\n",
      "Epoch 24/100\n",
      "15600/15600 [==============================] - 84s 5ms/step - loss: 1.1539 - accuracy: 0.4529 - val_loss: 1.1553 - val_accuracy: 0.4406\n",
      "Epoch 25/100\n",
      "15600/15600 [==============================] - 84s 5ms/step - loss: 1.1530 - accuracy: 0.4539 - val_loss: 1.1508 - val_accuracy: 0.4560\n",
      "Epoch 26/100\n",
      "15600/15600 [==============================] - 83s 5ms/step - loss: 1.1522 - accuracy: 0.4540 - val_loss: 1.1498 - val_accuracy: 0.4546\n",
      "Epoch 27/100\n",
      "15600/15600 [==============================] - 85s 5ms/step - loss: 1.1516 - accuracy: 0.4537 - val_loss: 1.1513 - val_accuracy: 0.4573\n",
      "Epoch 28/100\n",
      "15600/15600 [==============================] - 83s 5ms/step - loss: 1.1508 - accuracy: 0.4542 - val_loss: 1.1529 - val_accuracy: 0.4563\n",
      "Epoch 29/100\n",
      "15600/15600 [==============================] - 84s 5ms/step - loss: 1.1503 - accuracy: 0.4546 - val_loss: 1.1559 - val_accuracy: 0.4408\n",
      "Epoch 30/100\n",
      "15600/15600 [==============================] - 85s 5ms/step - loss: 1.1499 - accuracy: 0.4551 - val_loss: 1.1500 - val_accuracy: 0.4414\n",
      "Epoch 31/100\n",
      "15600/15600 [==============================] - 94s 6ms/step - loss: 1.1505 - accuracy: 0.4546 - val_loss: 1.1479 - val_accuracy: 0.4548\n",
      "Epoch 32/100\n",
      "15600/15600 [==============================] - 89s 6ms/step - loss: 1.1503 - accuracy: 0.4542 - val_loss: 1.1502 - val_accuracy: 0.4602\n",
      "Epoch 33/100\n",
      "15600/15600 [==============================] - 92s 6ms/step - loss: 1.1488 - accuracy: 0.4549 - val_loss: 1.1486 - val_accuracy: 0.4516\n",
      "Epoch 34/100\n",
      "15600/15600 [==============================] - 90s 6ms/step - loss: 1.1482 - accuracy: 0.4550 - val_loss: 1.1462 - val_accuracy: 0.4591\n",
      "Epoch 35/100\n",
      "15600/15600 [==============================] - 87s 6ms/step - loss: 1.1473 - accuracy: 0.4558 - val_loss: 1.1479 - val_accuracy: 0.4589\n",
      "Epoch 36/100\n",
      "15600/15600 [==============================] - 95s 6ms/step - loss: 1.1470 - accuracy: 0.4555 - val_loss: 1.1491 - val_accuracy: 0.4552\n",
      "Epoch 37/100\n",
      "15600/15600 [==============================] - 88s 6ms/step - loss: 1.1465 - accuracy: 0.4556 - val_loss: 1.1484 - val_accuracy: 0.4591\n",
      "Epoch 38/100\n",
      "15600/15600 [==============================] - 87s 6ms/step - loss: 1.1459 - accuracy: 0.4561 - val_loss: 1.1453 - val_accuracy: 0.4576\n",
      "Epoch 39/100\n",
      "15600/15600 [==============================] - 92s 6ms/step - loss: 1.1454 - accuracy: 0.4559 - val_loss: 1.1437 - val_accuracy: 0.4583\n",
      "Epoch 40/100\n",
      "15600/15600 [==============================] - 93s 6ms/step - loss: 1.1450 - accuracy: 0.4562 - val_loss: 1.1489 - val_accuracy: 0.4589\n",
      "Epoch 41/100\n",
      "15600/15600 [==============================] - 87s 6ms/step - loss: 1.1447 - accuracy: 0.4560 - val_loss: 1.1437 - val_accuracy: 0.4510\n",
      "Epoch 42/100\n",
      "15600/15600 [==============================] - 88s 6ms/step - loss: 1.1446 - accuracy: 0.4565 - val_loss: 1.1425 - val_accuracy: 0.4600\n",
      "Epoch 43/100\n",
      "15600/15600 [==============================] - 81s 5ms/step - loss: 1.1445 - accuracy: 0.4567 - val_loss: 1.1418 - val_accuracy: 0.4586\n",
      "Epoch 44/100\n",
      "15600/15600 [==============================] - 80s 5ms/step - loss: 1.1437 - accuracy: 0.4565 - val_loss: 1.1416 - val_accuracy: 0.4586\n",
      "Epoch 45/100\n",
      "15600/15600 [==============================] - 81s 5ms/step - loss: 1.1433 - accuracy: 0.4569 - val_loss: 1.1443 - val_accuracy: 0.4550\n",
      "Epoch 46/100\n",
      "15600/15600 [==============================] - 84s 5ms/step - loss: 1.1427 - accuracy: 0.4572 - val_loss: 1.1412 - val_accuracy: 0.4590\n",
      "Epoch 47/100\n",
      "15600/15600 [==============================] - 88s 6ms/step - loss: 1.1427 - accuracy: 0.4572 - val_loss: 1.1411 - val_accuracy: 0.4597\n",
      "Epoch 48/100\n",
      "15600/15600 [==============================] - 85s 5ms/step - loss: 1.1422 - accuracy: 0.4571 - val_loss: 1.1412 - val_accuracy: 0.4602\n",
      "Epoch 49/100\n",
      "15600/15600 [==============================] - 87s 6ms/step - loss: 1.1432 - accuracy: 0.4573 - val_loss: 1.1521 - val_accuracy: 0.4552\n",
      "Epoch 50/100\n",
      "15600/15600 [==============================] - 82s 5ms/step - loss: 1.1416 - accuracy: 0.4578 - val_loss: 1.1397 - val_accuracy: 0.4515\n",
      "Epoch 51/100\n",
      "15600/15600 [==============================] - 84s 5ms/step - loss: 1.1411 - accuracy: 0.4578 - val_loss: 1.1408 - val_accuracy: 0.4500\n",
      "Epoch 52/100\n",
      "15600/15600 [==============================] - 83s 5ms/step - loss: 1.1408 - accuracy: 0.4578 - val_loss: 1.1404 - val_accuracy: 0.4584\n",
      "Epoch 53/100\n",
      "15600/15600 [==============================] - 81s 5ms/step - loss: 1.1405 - accuracy: 0.4578 - val_loss: 1.1417 - val_accuracy: 0.4497\n",
      "Epoch 54/100\n",
      "15600/15600 [==============================] - 81s 5ms/step - loss: 1.1402 - accuracy: 0.4580 - val_loss: 1.1497 - val_accuracy: 0.4592\n",
      "Epoch 55/100\n",
      "15600/15600 [==============================] - 83s 5ms/step - loss: 1.1404 - accuracy: 0.4585 - val_loss: 1.1383 - val_accuracy: 0.4586\n",
      "Epoch 56/100\n",
      "15600/15600 [==============================] - 84s 5ms/step - loss: 1.1397 - accuracy: 0.4582 - val_loss: 1.1407 - val_accuracy: 0.4495\n",
      "Epoch 57/100\n",
      "15600/15600 [==============================] - 87s 6ms/step - loss: 1.1396 - accuracy: 0.4584 - val_loss: 1.1383 - val_accuracy: 0.4606\n",
      "Epoch 58/100\n",
      "15600/15600 [==============================] - 85s 5ms/step - loss: 1.1393 - accuracy: 0.4585 - val_loss: 1.1384 - val_accuracy: 0.4575\n",
      "Epoch 59/100\n",
      "15600/15600 [==============================] - 86s 6ms/step - loss: 1.1391 - accuracy: 0.4588 - val_loss: 1.1407 - val_accuracy: 0.4605\n",
      "Epoch 60/100\n",
      "15600/15600 [==============================] - 86s 5ms/step - loss: 1.1389 - accuracy: 0.4586 - val_loss: 1.1377 - val_accuracy: 0.4607\n",
      "Epoch 61/100\n",
      "15600/15600 [==============================] - 85s 5ms/step - loss: 1.1389 - accuracy: 0.4591 - val_loss: 1.1376 - val_accuracy: 0.4529\n",
      "Epoch 62/100\n",
      "15600/15600 [==============================] - 85s 5ms/step - loss: 1.1383 - accuracy: 0.4591 - val_loss: 1.1367 - val_accuracy: 0.4601\n",
      "Epoch 63/100\n",
      "15600/15600 [==============================] - 85s 5ms/step - loss: 1.1381 - accuracy: 0.4597 - val_loss: 1.1374 - val_accuracy: 0.4592\n",
      "Epoch 64/100\n",
      "15600/15600 [==============================] - 85s 5ms/step - loss: 1.1380 - accuracy: 0.4594 - val_loss: 1.1363 - val_accuracy: 0.4604\n",
      "Epoch 65/100\n",
      "15600/15600 [==============================] - 85s 5ms/step - loss: 1.1382 - accuracy: 0.4597 - val_loss: 1.1369 - val_accuracy: 0.4615\n",
      "Epoch 66/100\n",
      "15600/15600 [==============================] - 85s 5ms/step - loss: 1.1378 - accuracy: 0.4600 - val_loss: 1.1387 - val_accuracy: 0.4598\n",
      "Epoch 67/100\n",
      "15600/15600 [==============================] - 85s 5ms/step - loss: 1.1375 - accuracy: 0.4603 - val_loss: 1.1386 - val_accuracy: 0.4527\n",
      "Epoch 68/100\n",
      "15600/15600 [==============================] - 86s 6ms/step - loss: 1.1374 - accuracy: 0.4599 - val_loss: 1.1394 - val_accuracy: 0.4623\n",
      "Epoch 69/100\n",
      "15600/15600 [==============================] - 85s 5ms/step - loss: 1.1372 - accuracy: 0.4605 - val_loss: 1.1361 - val_accuracy: 0.4602\n",
      "Epoch 70/100\n",
      "15600/15600 [==============================] - 85s 5ms/step - loss: 1.1387 - accuracy: 0.4605 - val_loss: 1.1385 - val_accuracy: 0.4580\n",
      "Epoch 71/100\n",
      "15600/15600 [==============================] - 85s 5ms/step - loss: 1.1369 - accuracy: 0.4606 - val_loss: 1.1374 - val_accuracy: 0.4585\n",
      "Epoch 72/100\n",
      "15600/15600 [==============================] - 85s 5ms/step - loss: 1.1380 - accuracy: 0.4609 - val_loss: 1.1360 - val_accuracy: 0.4611\n",
      "Epoch 73/100\n",
      "15600/15600 [==============================] - 85s 5ms/step - loss: 1.1369 - accuracy: 0.4608 - val_loss: 1.1358 - val_accuracy: 0.4613\n",
      "Epoch 74/100\n",
      "15600/15600 [==============================] - 86s 6ms/step - loss: 1.1366 - accuracy: 0.4610 - val_loss: 1.1348 - val_accuracy: 0.4601\n",
      "Epoch 75/100\n",
      "15600/15600 [==============================] - 85s 5ms/step - loss: 1.1364 - accuracy: 0.4607 - val_loss: 1.1393 - val_accuracy: 0.4633\n",
      "Epoch 76/100\n",
      "15600/15600 [==============================] - 85s 5ms/step - loss: 1.1367 - accuracy: 0.4611 - val_loss: 1.1365 - val_accuracy: 0.4636\n",
      "Epoch 77/100\n",
      "15600/15600 [==============================] - 85s 5ms/step - loss: 1.1362 - accuracy: 0.4612 - val_loss: 1.1346 - val_accuracy: 0.4630\n",
      "Epoch 78/100\n",
      "15600/15600 [==============================] - 87s 6ms/step - loss: 1.1361 - accuracy: 0.4615 - val_loss: 1.1373 - val_accuracy: 0.4598\n",
      "Epoch 79/100\n",
      "15600/15600 [==============================] - 87s 6ms/step - loss: 1.1385 - accuracy: 0.4609 - val_loss: 1.1365 - val_accuracy: 0.4623\n",
      "Epoch 80/100\n",
      "15600/15600 [==============================] - 87s 6ms/step - loss: 1.1386 - accuracy: 0.4602 - val_loss: 1.1352 - val_accuracy: 0.4611\n",
      "Epoch 81/100\n",
      "15600/15600 [==============================] - 85s 5ms/step - loss: 1.1365 - accuracy: 0.4609 - val_loss: 1.1382 - val_accuracy: 0.4583\n",
      "Epoch 82/100\n",
      "15600/15600 [==============================] - 87s 6ms/step - loss: 1.1435 - accuracy: 0.4596 - val_loss: 1.1401 - val_accuracy: 0.4612\n",
      "Epoch 83/100\n",
      "15600/15600 [==============================] - 86s 6ms/step - loss: 1.1382 - accuracy: 0.4602 - val_loss: 1.1362 - val_accuracy: 0.4587\n",
      "Epoch 84/100\n",
      "15600/15600 [==============================] - 89s 6ms/step - loss: 1.1402 - accuracy: 0.4595 - val_loss: 1.1357 - val_accuracy: 0.4606\n",
      "Epoch 85/100\n",
      "15600/15600 [==============================] - 86s 6ms/step - loss: 1.1377 - accuracy: 0.4604 - val_loss: 1.1365 - val_accuracy: 0.4624\n",
      "Epoch 86/100\n",
      "15600/15600 [==============================] - 86s 5ms/step - loss: 1.1358 - accuracy: 0.4612 - val_loss: 1.1344 - val_accuracy: 0.4638\n",
      "Epoch 87/100\n",
      "15600/15600 [==============================] - 86s 5ms/step - loss: 1.1356 - accuracy: 0.4614 - val_loss: 1.1405 - val_accuracy: 0.4626\n",
      "Epoch 88/100\n",
      "15600/15600 [==============================] - 85s 5ms/step - loss: 1.1356 - accuracy: 0.4618 - val_loss: 1.1387 - val_accuracy: 0.4627\n",
      "Epoch 89/100\n",
      "15600/15600 [==============================] - 86s 5ms/step - loss: 1.1372 - accuracy: 0.4606 - val_loss: 1.1353 - val_accuracy: 0.4605\n",
      "Epoch 90/100\n",
      "15600/15600 [==============================] - 86s 6ms/step - loss: 1.1354 - accuracy: 0.4620 - val_loss: 1.1352 - val_accuracy: 0.4600\n",
      "Epoch 91/100\n",
      "15600/15600 [==============================] - 87s 6ms/step - loss: 1.1353 - accuracy: 0.4613 - val_loss: 1.1347 - val_accuracy: 0.4611\n",
      "Epoch 92/100\n",
      "15600/15600 [==============================] - 86s 5ms/step - loss: 1.1352 - accuracy: 0.4616 - val_loss: 1.1339 - val_accuracy: 0.4634\n",
      "Epoch 93/100\n",
      "15600/15600 [==============================] - 86s 6ms/step - loss: 1.1372 - accuracy: 0.4609 - val_loss: 1.1345 - val_accuracy: 0.4627\n",
      "Epoch 94/100\n",
      "15600/15600 [==============================] - 85s 5ms/step - loss: 1.1350 - accuracy: 0.4615 - val_loss: 1.1346 - val_accuracy: 0.4626\n",
      "Epoch 95/100\n",
      "15600/15600 [==============================] - 85s 5ms/step - loss: 1.1348 - accuracy: 0.4619 - val_loss: 1.1365 - val_accuracy: 0.4581\n",
      "Epoch 96/100\n",
      "15600/15600 [==============================] - 86s 5ms/step - loss: 1.1348 - accuracy: 0.4620 - val_loss: 1.1342 - val_accuracy: 0.4611\n",
      "Epoch 97/100\n",
      "15600/15600 [==============================] - 86s 6ms/step - loss: 1.1355 - accuracy: 0.4615 - val_loss: 1.1332 - val_accuracy: 0.4639\n",
      "Epoch 98/100\n",
      "15600/15600 [==============================] - 86s 6ms/step - loss: 1.1346 - accuracy: 0.4622 - val_loss: 1.1357 - val_accuracy: 0.4635\n",
      "Epoch 99/100\n",
      "15600/15600 [==============================] - 86s 6ms/step - loss: 1.1346 - accuracy: 0.4620 - val_loss: 1.1345 - val_accuracy: 0.4623\n",
      "Epoch 100/100\n",
      "15600/15600 [==============================] - 85s 5ms/step - loss: 1.1344 - accuracy: 0.4618 - val_loss: 1.1357 - val_accuracy: 0.4556\n"
     ]
    }
   ],
   "source": [
    "# Melatih model dengan dataset utama\n",
    "history = model.fit(X_train, y_train, epochs=100, batch_size=64, validation_data=(X_val, y_val))"
   ]
  },
  {
   "cell_type": "code",
   "execution_count": 18,
   "metadata": {},
   "outputs": [
    {
     "data": {
      "image/png": "[encoded data removed]",
      "text/plain": [
       "<Figure size 800x600 with 1 Axes>"
      ]
     },
     "metadata": {},
     "output_type": "display_data"
    },
    {
     "data": {
      "image/png": "[encoded data removed]",
      "text/plain": [
       "<Figure size 800x600 with 1 Axes>"
      ]
     },
     "metadata": {},
     "output_type": "display_data"
    }
   ],
   "source": [
    "# Ambil histori akurasi dan loss dari proses pelatihan\n",
    "train_accuracy = history.history['accuracy']\n",
    "test_accuracy = history.history['val_accuracy']\n",
    "train_loss = history.history['loss']\n",
    "test_loss = history.history['val_loss']\n",
    "\n",
    "# Buat plot untuk akurasi\n",
    "plt.figure(figsize=(8, 6))\n",
    "plt.plot(range(1, len(train_accuracy) + 1), train_accuracy, label='Training Accuracy')\n",
    "plt.plot(range(1, len(test_accuracy) + 1), test_accuracy, label='Test Accuracy')\n",
    "plt.xlabel('Epoch')\n",
    "plt.ylabel('Accuracy')\n",
    "plt.title('Training and Test Accuracy')\n",
    "plt.legend()\n",
    "plt.show()\n",
    "\n",
    "# Buat plot untuk loss\n",
    "plt.figure(figsize=(8, 6))\n",
    "plt.plot(range(1, len(train_loss) + 1), train_loss, label='Training Loss')\n",
    "plt.plot(range(1, len(test_loss) + 1), test_loss, label='Test Loss')\n",
    "plt.xlabel('Epoch')\n",
    "plt.ylabel('Loss')\n",
    "plt.title('Training and Test Loss')\n",
    "plt.legend()\n",
    "plt.show()"
   ]
  },
  {
   "cell_type": "code",
   "execution_count": 19,
   "metadata": {},
   "outputs": [
    {
     "name": "stdout",
     "output_type": "stream",
     "text": [
      "14976/14976 [==============================] - 15s 999us/step - loss: 0.7083 - accuracy: 0.6453\n",
      "Performa pada Data Latih:\n",
      "Loss: 0.7083316445350647\n",
      "Akurasi: 0.6452907919883728\n"
     ]
    }
   ],
   "source": [
    "# Evaluasi performa pada data latih\n",
    "training_scores = model.evaluate(X_train, y_train)\n",
    "print(\"Performa pada Data Latih:\")\n",
    "print(\"Loss:\", training_scores[0])\n",
    "print(\"Akurasi:\", training_scores[1])"
   ]
  },
  {
   "cell_type": "code",
   "execution_count": 20,
   "metadata": {},
   "outputs": [
    {
     "name": "stdout",
     "output_type": "stream",
     "text": [
      "3744/3744 [==============================] - 4s 971us/step - loss: 0.7118 - accuracy: 0.6427\n",
      "Loss pada Data Uji: 0.7117630839347839\n",
      "Akurasi pada Data Uji: 0.6426699161529541\n"
     ]
    }
   ],
   "source": [
    "# Evaluasi performa pada data uji\n",
    "loss, accuracy = model.evaluate(X_val, y_val)\n",
    "print(\"Loss pada Data Uji:\", loss)\n",
    "print(\"Akurasi pada Data Uji:\", accuracy)"
   ]
  },
  {
   "cell_type": "code",
   "execution_count": 21,
   "metadata": {},
   "outputs": [
    {
     "name": "stdout",
     "output_type": "stream",
     "text": [
      "3744/3744 [==============================] - 3s 825us/step\n"
     ]
    }
   ],
   "source": [
    "# Menghitung prediksi pada data uji\n",
    "y_val_pred = model.predict(X_val)"
   ]
  },
  {
   "cell_type": "code",
   "execution_count": 22,
   "metadata": {},
   "outputs": [
    {
     "name": "stdout",
     "output_type": "stream",
     "text": [
      "Mean Squared Error:\n",
      "0.10719812\n",
      "Mean Absolute Error:\n",
      "0.21427667\n"
     ]
    }
   ],
   "source": [
    "from sklearn.metrics import classification_report, confusion_matrix, mean_squared_error, mean_absolute_error\n",
    "\n",
    "# metrik evaluasi untuk masalah regresi\n",
    "print(\"Mean Squared Error:\")\n",
    "print(mean_squared_error(y_val, y_val_pred))\n",
    "\n",
    "print(\"Mean Absolute Error:\")\n",
    "print(mean_absolute_error(y_val, y_val_pred))\n"
   ]
  },
  {
   "cell_type": "code",
   "execution_count": 23,
   "metadata": {},
   "outputs": [
    {
     "name": "stderr",
     "output_type": "stream",
     "text": [
      "c:\\Program Files\\Python311\\Lib\\site-packages\\keras\\src\\engine\\training.py:3000: UserWarning: You are saving your model as an HDF5 file via `model.save()`. This file format is considered legacy. We recommend using instead the native Keras format, e.g. `model.save('my_model.keras')`.\n",
      "  saving_api.save_model(\n"
     ]
    }
   ],
   "source": [
    "model.save('All.h5')"
   ]
  },
  {
   "cell_type": "markdown",
   "metadata": {},
   "source": [
    "## Load Model"
   ]
  },
  {
   "cell_type": "code",
   "execution_count": 2,
   "metadata": {},
   "outputs": [],
   "source": [
    "model = load_model('All.h5')"
   ]
  },
  {
   "cell_type": "markdown",
   "metadata": {},
   "source": [
    "# test anyar"
   ]
  },
  {
   "cell_type": "code",
   "execution_count": 3,
   "metadata": {},
   "outputs": [],
   "source": [
    "load = \"c:/TA/csv-400-400/\"\n",
    "files_csv =[]\n",
    "for root, dirs, files in os.walk(load):\n",
    "    for file_name in files:\n",
    "        if file_name.endswith(\".csv\"):\n",
    "            file_load = os.path.join(root, file_name)\n",
    "            files_csv.append(file_load)"
   ]
  },
  {
   "cell_type": "code",
   "execution_count": 4,
   "metadata": {},
   "outputs": [
    {
     "ename": "NameError",
     "evalue": "name 'fs' is not defined",
     "output_type": "error",
     "traceback": [
      "\u001b[1;31m---------------------------------------------------------------------------\u001b[0m",
      "\u001b[1;31mNameError\u001b[0m                                 Traceback (most recent call last)",
      "Cell \u001b[1;32mIn[4], line 12\u001b[0m\n\u001b[0;32m      9\u001b[0m var \u001b[39m=\u001b[39m df[\u001b[39m'\u001b[39m\u001b[39mX\u001b[39m\u001b[39m'\u001b[39m]\u001b[39m.\u001b[39mvalues\n\u001b[0;32m     10\u001b[0m data \u001b[39m=\u001b[39m df[\u001b[39m'\u001b[39m\u001b[39mY\u001b[39m\u001b[39m'\u001b[39m]\u001b[39m.\u001b[39mvalues\n\u001b[1;32m---> 12\u001b[0m nyquist \u001b[39m=\u001b[39m \u001b[39m0.5\u001b[39m \u001b[39m*\u001b[39m fs\n\u001b[0;32m     13\u001b[0m low \u001b[39m=\u001b[39m lowcut \u001b[39m/\u001b[39m nyquist\n\u001b[0;32m     14\u001b[0m high \u001b[39m=\u001b[39m highcut \u001b[39m/\u001b[39m nyquist\n",
      "\u001b[1;31mNameError\u001b[0m: name 'fs' is not defined"
     ]
    }
   ],
   "source": [
    "i = 0\n",
    "\n",
    "for file_csv in files_csv:\n",
    "   \n",
    "    df = pd.read_csv(file_csv)\n",
    "    # start_index = 1\n",
    "    # end_index = 1551\n",
    "    # df = df_uncut[start_index:end_index]\n",
    "    var = df['X'].values\n",
    "    data = df['Y'].values\n",
    "     \n",
    "    nyquist = 0.5 * fs\n",
    "    low = lowcut / nyquist\n",
    "    high = highcut / nyquist\n",
    "    b, a = signal.butter(order, [low, high], btype='band')\n",
    "    \n",
    "    #Filter bandpass\n",
    "    filtered_signal = signal.filtfilt(b, a, data)\n",
    "    \n",
    "    # Rectify signal\n",
    "    rectified_signal = np.abs(filtered_signal)\n",
    "    \n",
    "    # One-sided FFT\n",
    "    signal_fft = np.fft.fft(filtered_signal)\n",
    "    signal_freq = np.fft.fftfreq(len(filtered_signal), 1/fs)\n",
    "    n = len(filtered_signal)\n",
    "    freq = signal_freq[0:int(n/2)]\n",
    "    fft_amp = np.abs(signal_fft)[0:int(n/2)]/n*2\n",
    "    \n",
    "    # One-sided PSD\n",
    "    psd = (1/(fs*n)) * np.square(np.abs(signal_fft[:n//2]))\n",
    "    freq_psd = signal_freq[0:int(n/2)]\n",
    "    psd_one_side = psd[0:int(n/2)]\n",
    "    \n",
    "    processed_csv_file = file_csv.replace(\".csv\", \"_processed.csv\")\n",
    "    df.to_csv(processed_csv_file, index=False)\n",
    "    \n",
    "    # fig, axs = plt.subplots(2, 2, figsize=(10,10))\n",
    "\n",
    "    # axs[0, 0].plot(var, filtered_signal)\n",
    "    # axs[0, 0].set_title(file_csv)\n",
    "    # axs[0, 0].set_xlabel('Time (us)')\n",
    "    # axs[0, 0].set_ylabel('Amplitude (V)')\n",
    "\n",
    "    # axs[0, 1].plot(var, rectified_signal)\n",
    "    # axs[0, 1].set_title(file_csv)\n",
    "    # axs[0, 1].set_xlabel('Time (us)')\n",
    "    # axs[0, 1].set_ylabel('Amplitude (V)')\n",
    "\n",
    "    # axs[1, 0].plot(freq, fft_amp)\n",
    "    # axs[1, 0].set_title(file_csv)\n",
    "    # axs[1, 0].set_xlabel('Frequency (MHz)')\n",
    "    # axs[1, 0].set_ylabel('Amplitude Power/Frequency (dB/Hz)')\n",
    "\n",
    "    # axs[1, 1].plot(freq_psd, psd_one_side)\n",
    "    # axs[1, 1].set_title(file_csv)\n",
    "    # axs[1, 1].set_xlabel('Frequency (MHz)')\n",
    "    # axs[1, 1].set_ylabel('Power/Frequency (dB/Hz)')\n",
    "\n",
    "    # save_img = file_csv+\".png\"\n",
    "    # plt.savefig(save_img)\n"
   ]
  },
  {
   "cell_type": "code",
   "execution_count": 26,
   "metadata": {},
   "outputs": [
    {
     "name": "stdout",
     "output_type": "stream",
     "text": [
      "Moved ' c:/TA/csv-400-400/csv 30%\\A30A1_processed.csv  to  ./Process/A30A1_processed.csv\n",
      "Moved ' c:/TA/csv-400-400/csv 30%\\A30A2_processed.csv  to  ./Process/A30A2_processed.csv\n",
      "Moved ' c:/TA/csv-400-400/csv 30%\\A30A3_processed.csv  to  ./Process/A30A3_processed.csv\n",
      "Moved ' c:/TA/csv-400-400/csv 30%\\A30A4_processed.csv  to  ./Process/A30A4_processed.csv\n",
      "Moved ' c:/TA/csv-400-400/csv 30%\\A30A5_processed.csv  to  ./Process/A30A5_processed.csv\n",
      "Moved ' c:/TA/csv-400-400/csv 30%\\A30B1_processed.csv  to  ./Process/A30B1_processed.csv\n",
      "Moved ' c:/TA/csv-400-400/csv 30%\\A30B2_processed.csv  to  ./Process/A30B2_processed.csv\n",
      "Moved ' c:/TA/csv-400-400/csv 30%\\A30B3_processed.csv  to  ./Process/A30B3_processed.csv\n",
      "Moved ' c:/TA/csv-400-400/csv 30%\\A30B4_processed.csv  to  ./Process/A30B4_processed.csv\n",
      "Moved ' c:/TA/csv-400-400/csv 30%\\A30B5_processed.csv  to  ./Process/A30B5_processed.csv\n",
      "Moved ' c:/TA/csv-400-400/csv 30%\\A30C1_processed.csv  to  ./Process/A30C1_processed.csv\n",
      "Moved ' c:/TA/csv-400-400/csv 30%\\A30C2_processed.csv  to  ./Process/A30C2_processed.csv\n",
      "Moved ' c:/TA/csv-400-400/csv 30%\\A30C3_processed.csv  to  ./Process/A30C3_processed.csv\n",
      "Moved ' c:/TA/csv-400-400/csv 30%\\A30C4_processed.csv  to  ./Process/A30C4_processed.csv\n",
      "Moved ' c:/TA/csv-400-400/csv 30%\\A30C5_processed.csv  to  ./Process/A30C5_processed.csv\n",
      "Moved ' c:/TA/csv-400-400/csv 30%\\K301_processed.csv  to  ./Process/K301_processed.csv\n",
      "Moved ' c:/TA/csv-400-400/csv 30%\\K302_processed.csv  to  ./Process/K302_processed.csv\n",
      "Moved ' c:/TA/csv-400-400/csv 30%\\K303_processed.csv  to  ./Process/K303_processed.csv\n",
      "Moved ' c:/TA/csv-400-400/csv 30%\\K304_processed.csv  to  ./Process/K304_processed.csv\n",
      "Moved ' c:/TA/csv-400-400/csv 30%\\K305_processed.csv  to  ./Process/K305_processed.csv\n",
      "Moved ' c:/TA/csv-400-400/csv 30%\\S301_processed.csv  to  ./Process/S301_processed.csv\n",
      "Moved ' c:/TA/csv-400-400/csv 30%\\S302_processed.csv  to  ./Process/S302_processed.csv\n",
      "Moved ' c:/TA/csv-400-400/csv 30%\\S303_processed.csv  to  ./Process/S303_processed.csv\n",
      "Moved ' c:/TA/csv-400-400/csv 30%\\S304_processed.csv  to  ./Process/S304_processed.csv\n",
      "Moved ' c:/TA/csv-400-400/csv 30%\\S305_processed.csv  to  ./Process/S305_processed.csv\n",
      "Moved ' c:/TA/csv-400-400/csv 50%\\A50A1_processed.csv  to  ./Process/A50A1_processed.csv\n",
      "Moved ' c:/TA/csv-400-400/csv 50%\\A50A2_processed.csv  to  ./Process/A50A2_processed.csv\n",
      "Moved ' c:/TA/csv-400-400/csv 50%\\A50A3_processed.csv  to  ./Process/A50A3_processed.csv\n",
      "Moved ' c:/TA/csv-400-400/csv 50%\\A50A4_processed.csv  to  ./Process/A50A4_processed.csv\n",
      "Moved ' c:/TA/csv-400-400/csv 50%\\A50A5_processed.csv  to  ./Process/A50A5_processed.csv\n",
      "Moved ' c:/TA/csv-400-400/csv 50%\\A50B1_processed.csv  to  ./Process/A50B1_processed.csv\n",
      "Moved ' c:/TA/csv-400-400/csv 50%\\A50B2_processed.csv  to  ./Process/A50B2_processed.csv\n",
      "Moved ' c:/TA/csv-400-400/csv 50%\\A50B3_processed.csv  to  ./Process/A50B3_processed.csv\n",
      "Moved ' c:/TA/csv-400-400/csv 50%\\A50B4_processed.csv  to  ./Process/A50B4_processed.csv\n",
      "Moved ' c:/TA/csv-400-400/csv 50%\\A50B5_processed.csv  to  ./Process/A50B5_processed.csv\n",
      "Moved ' c:/TA/csv-400-400/csv 50%\\A50C1_processed.csv  to  ./Process/A50C1_processed.csv\n",
      "Moved ' c:/TA/csv-400-400/csv 50%\\A50C2_processed.csv  to  ./Process/A50C2_processed.csv\n",
      "Moved ' c:/TA/csv-400-400/csv 50%\\A50C3_processed.csv  to  ./Process/A50C3_processed.csv\n",
      "Moved ' c:/TA/csv-400-400/csv 50%\\A50C4_processed.csv  to  ./Process/A50C4_processed.csv\n",
      "Moved ' c:/TA/csv-400-400/csv 50%\\A50C5_processed.csv  to  ./Process/A50C5_processed.csv\n",
      "Moved ' c:/TA/csv-400-400/csv 50%\\K501_processed.csv  to  ./Process/K501_processed.csv\n",
      "Moved ' c:/TA/csv-400-400/csv 50%\\K502_processed.csv  to  ./Process/K502_processed.csv\n",
      "Moved ' c:/TA/csv-400-400/csv 50%\\K503_processed.csv  to  ./Process/K503_processed.csv\n",
      "Moved ' c:/TA/csv-400-400/csv 50%\\K504_processed.csv  to  ./Process/K504_processed.csv\n",
      "Moved ' c:/TA/csv-400-400/csv 50%\\K505_processed.csv  to  ./Process/K505_processed.csv\n",
      "Moved ' c:/TA/csv-400-400/csv 50%\\S501_processed.csv  to  ./Process/S501_processed.csv\n",
      "Moved ' c:/TA/csv-400-400/csv 50%\\S502_processed.csv  to  ./Process/S502_processed.csv\n",
      "Moved ' c:/TA/csv-400-400/csv 50%\\S503_processed.csv  to  ./Process/S503_processed.csv\n",
      "Moved ' c:/TA/csv-400-400/csv 50%\\S504_processed.csv  to  ./Process/S504_processed.csv\n",
      "Moved ' c:/TA/csv-400-400/csv 50%\\S505_processed.csv  to  ./Process/S505_processed.csv\n",
      "Moved ' c:/TA/csv-400-400/csv 70%\\A70A1_processed.csv  to  ./Process/A70A1_processed.csv\n",
      "Moved ' c:/TA/csv-400-400/csv 70%\\A70A2_processed.csv  to  ./Process/A70A2_processed.csv\n",
      "Moved ' c:/TA/csv-400-400/csv 70%\\A70A3_processed.csv  to  ./Process/A70A3_processed.csv\n",
      "Moved ' c:/TA/csv-400-400/csv 70%\\A70A4_processed.csv  to  ./Process/A70A4_processed.csv\n",
      "Moved ' c:/TA/csv-400-400/csv 70%\\A70A5_processed.csv  to  ./Process/A70A5_processed.csv\n",
      "Moved ' c:/TA/csv-400-400/csv 70%\\A70B1_processed.csv  to  ./Process/A70B1_processed.csv\n",
      "Moved ' c:/TA/csv-400-400/csv 70%\\A70B2_processed.csv  to  ./Process/A70B2_processed.csv\n",
      "Moved ' c:/TA/csv-400-400/csv 70%\\A70B3_processed.csv  to  ./Process/A70B3_processed.csv\n",
      "Moved ' c:/TA/csv-400-400/csv 70%\\A70B4_processed.csv  to  ./Process/A70B4_processed.csv\n",
      "Moved ' c:/TA/csv-400-400/csv 70%\\A70B5_processed.csv  to  ./Process/A70B5_processed.csv\n",
      "Moved ' c:/TA/csv-400-400/csv 70%\\A70C1_processed.csv  to  ./Process/A70C1_processed.csv\n",
      "Moved ' c:/TA/csv-400-400/csv 70%\\A70C2_processed.csv  to  ./Process/A70C2_processed.csv\n",
      "Moved ' c:/TA/csv-400-400/csv 70%\\A70C3_processed.csv  to  ./Process/A70C3_processed.csv\n",
      "Moved ' c:/TA/csv-400-400/csv 70%\\A70C4_processed.csv  to  ./Process/A70C4_processed.csv\n",
      "Moved ' c:/TA/csv-400-400/csv 70%\\A70C5_processed.csv  to  ./Process/A70C5_processed.csv\n",
      "Moved ' c:/TA/csv-400-400/csv 70%\\K701_processed.csv  to  ./Process/K701_processed.csv\n",
      "Moved ' c:/TA/csv-400-400/csv 70%\\K702_processed.csv  to  ./Process/K702_processed.csv\n",
      "Moved ' c:/TA/csv-400-400/csv 70%\\K703_processed.csv  to  ./Process/K703_processed.csv\n",
      "Moved ' c:/TA/csv-400-400/csv 70%\\K704_processed.csv  to  ./Process/K704_processed.csv\n",
      "Moved ' c:/TA/csv-400-400/csv 70%\\K705_processed.csv  to  ./Process/K705_processed.csv\n",
      "Moved ' c:/TA/csv-400-400/csv 70%\\S701_processed.csv  to  ./Process/S701_processed.csv\n",
      "Moved ' c:/TA/csv-400-400/csv 70%\\S702_processed.csv  to  ./Process/S702_processed.csv\n",
      "Moved ' c:/TA/csv-400-400/csv 70%\\S703_processed.csv  to  ./Process/S703_processed.csv\n",
      "Moved ' c:/TA/csv-400-400/csv 70%\\S704_processed.csv  to  ./Process/S704_processed.csv\n",
      "Moved ' c:/TA/csv-400-400/csv 70%\\S705_processed.csv  to  ./Process/S705_processed.csv\n",
      "Moved ' c:/TA/csv-400-400/csv 90%\\A90A1_processed.csv  to  ./Process/A90A1_processed.csv\n",
      "Moved ' c:/TA/csv-400-400/csv 90%\\A90A2_processed.csv  to  ./Process/A90A2_processed.csv\n",
      "Moved ' c:/TA/csv-400-400/csv 90%\\A90A3_processed.csv  to  ./Process/A90A3_processed.csv\n",
      "Moved ' c:/TA/csv-400-400/csv 90%\\A90A4_processed.csv  to  ./Process/A90A4_processed.csv\n",
      "Moved ' c:/TA/csv-400-400/csv 90%\\A90A5_processed.csv  to  ./Process/A90A5_processed.csv\n",
      "Moved ' c:/TA/csv-400-400/csv 90%\\A90B1_processed.csv  to  ./Process/A90B1_processed.csv\n",
      "Moved ' c:/TA/csv-400-400/csv 90%\\A90B2_processed.csv  to  ./Process/A90B2_processed.csv\n",
      "Moved ' c:/TA/csv-400-400/csv 90%\\A90B3_processed.csv  to  ./Process/A90B3_processed.csv\n",
      "Moved ' c:/TA/csv-400-400/csv 90%\\A90B4_processed.csv  to  ./Process/A90B4_processed.csv\n",
      "Moved ' c:/TA/csv-400-400/csv 90%\\A90B5_processed.csv  to  ./Process/A90B5_processed.csv\n",
      "Moved ' c:/TA/csv-400-400/csv 90%\\A90C1_processed.csv  to  ./Process/A90C1_processed.csv\n",
      "Moved ' c:/TA/csv-400-400/csv 90%\\A90C2_processed.csv  to  ./Process/A90C2_processed.csv\n",
      "Moved ' c:/TA/csv-400-400/csv 90%\\A90C3_processed.csv  to  ./Process/A90C3_processed.csv\n",
      "Moved ' c:/TA/csv-400-400/csv 90%\\A90C4_processed.csv  to  ./Process/A90C4_processed.csv\n",
      "Moved ' c:/TA/csv-400-400/csv 90%\\A90C5_processed.csv  to  ./Process/A90C5_processed.csv\n",
      "Moved ' c:/TA/csv-400-400/csv 90%\\K901_processed.csv  to  ./Process/K901_processed.csv\n",
      "Moved ' c:/TA/csv-400-400/csv 90%\\K902_processed.csv  to  ./Process/K902_processed.csv\n",
      "Moved ' c:/TA/csv-400-400/csv 90%\\K903_processed.csv  to  ./Process/K903_processed.csv\n",
      "Moved ' c:/TA/csv-400-400/csv 90%\\K904_processed.csv  to  ./Process/K904_processed.csv\n",
      "Moved ' c:/TA/csv-400-400/csv 90%\\K905_processed.csv  to  ./Process/K905_processed.csv\n",
      "Moved ' c:/TA/csv-400-400/csv 90%\\S901_processed.csv  to  ./Process/S901_processed.csv\n",
      "Moved ' c:/TA/csv-400-400/csv 90%\\S902_processed.csv  to  ./Process/S902_processed.csv\n",
      "Moved ' c:/TA/csv-400-400/csv 90%\\S903_processed.csv  to  ./Process/S903_processed.csv\n",
      "Moved ' c:/TA/csv-400-400/csv 90%\\S904_processed.csv  to  ./Process/S904_processed.csv\n",
      "Moved ' c:/TA/csv-400-400/csv 90%\\S905_processed.csv  to  ./Process/S905_processed.csv\n",
      "Moved ' c:/TA/csv-400-400/process\\A30A1_processed.csv  to  ./Process/A30A1_processed.csv\n",
      "Moved ' c:/TA/csv-400-400/process\\A30A2_processed.csv  to  ./Process/A30A2_processed.csv\n",
      "Moved ' c:/TA/csv-400-400/process\\A30A3_processed.csv  to  ./Process/A30A3_processed.csv\n",
      "Moved ' c:/TA/csv-400-400/process\\A30A4_processed.csv  to  ./Process/A30A4_processed.csv\n",
      "Moved ' c:/TA/csv-400-400/process\\A30A5_processed.csv  to  ./Process/A30A5_processed.csv\n",
      "Moved ' c:/TA/csv-400-400/process\\A30B1_processed.csv  to  ./Process/A30B1_processed.csv\n",
      "Moved ' c:/TA/csv-400-400/process\\A30B2_processed.csv  to  ./Process/A30B2_processed.csv\n",
      "Moved ' c:/TA/csv-400-400/process\\A30B3_processed.csv  to  ./Process/A30B3_processed.csv\n",
      "Moved ' c:/TA/csv-400-400/process\\A30B4_processed.csv  to  ./Process/A30B4_processed.csv\n",
      "Moved ' c:/TA/csv-400-400/process\\A30B5_processed.csv  to  ./Process/A30B5_processed.csv\n",
      "Moved ' c:/TA/csv-400-400/process\\A30C1_processed.csv  to  ./Process/A30C1_processed.csv\n",
      "Moved ' c:/TA/csv-400-400/process\\A30C2_processed.csv  to  ./Process/A30C2_processed.csv\n",
      "Moved ' c:/TA/csv-400-400/process\\A30C3_processed.csv  to  ./Process/A30C3_processed.csv\n",
      "Moved ' c:/TA/csv-400-400/process\\A30C4_processed.csv  to  ./Process/A30C4_processed.csv\n",
      "Moved ' c:/TA/csv-400-400/process\\A30C5_processed.csv  to  ./Process/A30C5_processed.csv\n",
      "Moved ' c:/TA/csv-400-400/process\\A50A1_processed.csv  to  ./Process/A50A1_processed.csv\n",
      "Moved ' c:/TA/csv-400-400/process\\A50A2_processed.csv  to  ./Process/A50A2_processed.csv\n",
      "Moved ' c:/TA/csv-400-400/process\\A50A3_processed.csv  to  ./Process/A50A3_processed.csv\n",
      "Moved ' c:/TA/csv-400-400/process\\A50A4_processed.csv  to  ./Process/A50A4_processed.csv\n",
      "Moved ' c:/TA/csv-400-400/process\\A50A5_processed.csv  to  ./Process/A50A5_processed.csv\n",
      "Moved ' c:/TA/csv-400-400/process\\A50B1_processed.csv  to  ./Process/A50B1_processed.csv\n",
      "Moved ' c:/TA/csv-400-400/process\\A50B2_processed.csv  to  ./Process/A50B2_processed.csv\n",
      "Moved ' c:/TA/csv-400-400/process\\A50B3_processed.csv  to  ./Process/A50B3_processed.csv\n",
      "Moved ' c:/TA/csv-400-400/process\\A50B4_processed.csv  to  ./Process/A50B4_processed.csv\n",
      "Moved ' c:/TA/csv-400-400/process\\A50B5_processed.csv  to  ./Process/A50B5_processed.csv\n",
      "Moved ' c:/TA/csv-400-400/process\\A50C1_processed.csv  to  ./Process/A50C1_processed.csv\n",
      "Moved ' c:/TA/csv-400-400/process\\A50C2_processed.csv  to  ./Process/A50C2_processed.csv\n",
      "Moved ' c:/TA/csv-400-400/process\\A50C3_processed.csv  to  ./Process/A50C3_processed.csv\n",
      "Moved ' c:/TA/csv-400-400/process\\A50C4_processed.csv  to  ./Process/A50C4_processed.csv\n",
      "Moved ' c:/TA/csv-400-400/process\\A50C5_processed.csv  to  ./Process/A50C5_processed.csv\n",
      "Moved ' c:/TA/csv-400-400/process\\A70A1_processed.csv  to  ./Process/A70A1_processed.csv\n",
      "Moved ' c:/TA/csv-400-400/process\\A70A2_processed.csv  to  ./Process/A70A2_processed.csv\n",
      "Moved ' c:/TA/csv-400-400/process\\A70A3_processed.csv  to  ./Process/A70A3_processed.csv\n",
      "Moved ' c:/TA/csv-400-400/process\\A70A4_processed.csv  to  ./Process/A70A4_processed.csv\n",
      "Moved ' c:/TA/csv-400-400/process\\A70A5_processed.csv  to  ./Process/A70A5_processed.csv\n",
      "Moved ' c:/TA/csv-400-400/process\\A70B1_processed.csv  to  ./Process/A70B1_processed.csv\n",
      "Moved ' c:/TA/csv-400-400/process\\A70B2_processed.csv  to  ./Process/A70B2_processed.csv\n",
      "Moved ' c:/TA/csv-400-400/process\\A70B3_processed.csv  to  ./Process/A70B3_processed.csv\n",
      "Moved ' c:/TA/csv-400-400/process\\A70B4_processed.csv  to  ./Process/A70B4_processed.csv\n",
      "Moved ' c:/TA/csv-400-400/process\\A70B5_processed.csv  to  ./Process/A70B5_processed.csv\n",
      "Moved ' c:/TA/csv-400-400/process\\A70C1_processed.csv  to  ./Process/A70C1_processed.csv\n",
      "Moved ' c:/TA/csv-400-400/process\\A70C2_processed.csv  to  ./Process/A70C2_processed.csv\n",
      "Moved ' c:/TA/csv-400-400/process\\A70C3_processed.csv  to  ./Process/A70C3_processed.csv\n",
      "Moved ' c:/TA/csv-400-400/process\\A70C4_processed.csv  to  ./Process/A70C4_processed.csv\n",
      "Moved ' c:/TA/csv-400-400/process\\A70C5_processed.csv  to  ./Process/A70C5_processed.csv\n",
      "Moved ' c:/TA/csv-400-400/process\\A90A1_processed.csv  to  ./Process/A90A1_processed.csv\n",
      "Moved ' c:/TA/csv-400-400/process\\A90A2_processed.csv  to  ./Process/A90A2_processed.csv\n",
      "Moved ' c:/TA/csv-400-400/process\\A90A3_processed.csv  to  ./Process/A90A3_processed.csv\n",
      "Moved ' c:/TA/csv-400-400/process\\A90A4_processed.csv  to  ./Process/A90A4_processed.csv\n",
      "Moved ' c:/TA/csv-400-400/process\\A90A5_processed.csv  to  ./Process/A90A5_processed.csv\n",
      "Moved ' c:/TA/csv-400-400/process\\A90B1_processed.csv  to  ./Process/A90B1_processed.csv\n",
      "Moved ' c:/TA/csv-400-400/process\\A90B2_processed.csv  to  ./Process/A90B2_processed.csv\n",
      "Moved ' c:/TA/csv-400-400/process\\A90B3_processed.csv  to  ./Process/A90B3_processed.csv\n",
      "Moved ' c:/TA/csv-400-400/process\\A90B4_processed.csv  to  ./Process/A90B4_processed.csv\n",
      "Moved ' c:/TA/csv-400-400/process\\A90B5_processed.csv  to  ./Process/A90B5_processed.csv\n",
      "Moved ' c:/TA/csv-400-400/process\\A90C1_processed.csv  to  ./Process/A90C1_processed.csv\n",
      "Moved ' c:/TA/csv-400-400/process\\A90C2_processed.csv  to  ./Process/A90C2_processed.csv\n",
      "Moved ' c:/TA/csv-400-400/process\\A90C3_processed.csv  to  ./Process/A90C3_processed.csv\n",
      "Moved ' c:/TA/csv-400-400/process\\A90C4_processed.csv  to  ./Process/A90C4_processed.csv\n",
      "Moved ' c:/TA/csv-400-400/process\\A90C5_processed.csv  to  ./Process/A90C5_processed.csv\n",
      "Moved ' c:/TA/csv-400-400/process\\K301_processed.csv  to  ./Process/K301_processed.csv\n",
      "Moved ' c:/TA/csv-400-400/process\\K302_processed.csv  to  ./Process/K302_processed.csv\n",
      "Moved ' c:/TA/csv-400-400/process\\K303_processed.csv  to  ./Process/K303_processed.csv\n",
      "Moved ' c:/TA/csv-400-400/process\\K304_processed.csv  to  ./Process/K304_processed.csv\n",
      "Moved ' c:/TA/csv-400-400/process\\K305_processed.csv  to  ./Process/K305_processed.csv\n",
      "Moved ' c:/TA/csv-400-400/process\\K501_processed.csv  to  ./Process/K501_processed.csv\n",
      "Moved ' c:/TA/csv-400-400/process\\K502_processed.csv  to  ./Process/K502_processed.csv\n",
      "Moved ' c:/TA/csv-400-400/process\\K503_processed.csv  to  ./Process/K503_processed.csv\n",
      "Moved ' c:/TA/csv-400-400/process\\K504_processed.csv  to  ./Process/K504_processed.csv\n",
      "Moved ' c:/TA/csv-400-400/process\\K505_processed.csv  to  ./Process/K505_processed.csv\n",
      "Moved ' c:/TA/csv-400-400/process\\K701_processed.csv  to  ./Process/K701_processed.csv\n",
      "Moved ' c:/TA/csv-400-400/process\\K702_processed.csv  to  ./Process/K702_processed.csv\n",
      "Moved ' c:/TA/csv-400-400/process\\K703_processed.csv  to  ./Process/K703_processed.csv\n",
      "Moved ' c:/TA/csv-400-400/process\\K704_processed.csv  to  ./Process/K704_processed.csv\n",
      "Moved ' c:/TA/csv-400-400/process\\K705_processed.csv  to  ./Process/K705_processed.csv\n",
      "Moved ' c:/TA/csv-400-400/process\\K901_processed.csv  to  ./Process/K901_processed.csv\n",
      "Moved ' c:/TA/csv-400-400/process\\K902_processed.csv  to  ./Process/K902_processed.csv\n",
      "Moved ' c:/TA/csv-400-400/process\\K903_processed.csv  to  ./Process/K903_processed.csv\n",
      "Moved ' c:/TA/csv-400-400/process\\K904_processed.csv  to  ./Process/K904_processed.csv\n",
      "Moved ' c:/TA/csv-400-400/process\\K905_processed.csv  to  ./Process/K905_processed.csv\n",
      "Moved ' c:/TA/csv-400-400/process\\S301_processed.csv  to  ./Process/S301_processed.csv\n",
      "Moved ' c:/TA/csv-400-400/process\\S302_processed.csv  to  ./Process/S302_processed.csv\n",
      "Moved ' c:/TA/csv-400-400/process\\S303_processed.csv  to  ./Process/S303_processed.csv\n",
      "Moved ' c:/TA/csv-400-400/process\\S304_processed.csv  to  ./Process/S304_processed.csv\n",
      "Moved ' c:/TA/csv-400-400/process\\S305_processed.csv  to  ./Process/S305_processed.csv\n",
      "Moved ' c:/TA/csv-400-400/process\\S501_processed.csv  to  ./Process/S501_processed.csv\n",
      "Moved ' c:/TA/csv-400-400/process\\S502_processed.csv  to  ./Process/S502_processed.csv\n",
      "Moved ' c:/TA/csv-400-400/process\\S503_processed.csv  to  ./Process/S503_processed.csv\n",
      "Moved ' c:/TA/csv-400-400/process\\S504_processed.csv  to  ./Process/S504_processed.csv\n",
      "Moved ' c:/TA/csv-400-400/process\\S505_processed.csv  to  ./Process/S505_processed.csv\n",
      "Moved ' c:/TA/csv-400-400/process\\S701_processed.csv  to  ./Process/S701_processed.csv\n",
      "Moved ' c:/TA/csv-400-400/process\\S702_processed.csv  to  ./Process/S702_processed.csv\n",
      "Moved ' c:/TA/csv-400-400/process\\S703_processed.csv  to  ./Process/S703_processed.csv\n",
      "Moved ' c:/TA/csv-400-400/process\\S704_processed.csv  to  ./Process/S704_processed.csv\n",
      "Moved ' c:/TA/csv-400-400/process\\S705_processed.csv  to  ./Process/S705_processed.csv\n",
      "Moved ' c:/TA/csv-400-400/process\\S901_processed.csv  to  ./Process/S901_processed.csv\n",
      "Moved ' c:/TA/csv-400-400/process\\S902_processed.csv  to  ./Process/S902_processed.csv\n",
      "Moved ' c:/TA/csv-400-400/process\\S903_processed.csv  to  ./Process/S903_processed.csv\n",
      "Moved ' c:/TA/csv-400-400/process\\S904_processed.csv  to  ./Process/S904_processed.csv\n",
      "Moved ' c:/TA/csv-400-400/process\\S905_processed.csv  to  ./Process/S905_processed.csv\n",
      "Moved ' c:/TA/csv-400-400/process\\30%\\A30A1_processed.csv  to  ./Process/A30A1_processed.csv\n"
     ]
    },
    {
     "ename": "FileExistsError",
     "evalue": "[WinError 183] Cannot create a file when that file already exists: 'c:/TA/csv-400-400/process\\\\30%\\\\A30A1_processed.csv' -> './Process/A30A1_processed.csv'",
     "output_type": "error",
     "traceback": [
      "\u001b[1;31m---------------------------------------------------------------------------\u001b[0m",
      "\u001b[1;31mFileExistsError\u001b[0m                           Traceback (most recent call last)",
      "Cell \u001b[1;32mIn[26], line 12\u001b[0m\n\u001b[0;32m     10\u001b[0m \u001b[39mif\u001b[39;00m \u001b[39mnot\u001b[39;00m \u001b[39m\"\u001b[39m\u001b[39mProcess/\u001b[39m\u001b[39m\"\u001b[39m \u001b[39min\u001b[39;00m original_file:\n\u001b[0;32m     11\u001b[0m     \u001b[39mprint\u001b[39m(\u001b[39m\"\u001b[39m\u001b[39mMoved \u001b[39m\u001b[39m'\u001b[39m\u001b[39m\"\u001b[39m,original_file,\u001b[39m\"\u001b[39m\u001b[39m to \u001b[39m\u001b[39m\"\u001b[39m,\u001b[39m\"\u001b[39m\u001b[39m./Process/\u001b[39m\u001b[39m\"\u001b[39m\u001b[39m+\u001b[39mfilename)\n\u001b[1;32m---> 12\u001b[0m     os\u001b[39m.\u001b[39mrename(original_file, \u001b[39m\"\u001b[39m\u001b[39m./Process/\u001b[39m\u001b[39m\"\u001b[39m\u001b[39m+\u001b[39mfilename)\n",
      "\u001b[1;31mFileExistsError\u001b[0m: [WinError 183] Cannot create a file when that file already exists: 'c:/TA/csv-400-400/process\\\\30%\\\\A30A1_processed.csv' -> './Process/A30A1_processed.csv'"
     ]
    }
   ],
   "source": [
    "\n",
    "os.chdir(load)\n",
    "if not os.path.exists(load+\"Process\"):\n",
    "        os.makedirs(load+\"Process\")\n",
    "        print(\"'data' folder created\")\n",
    "        \n",
    "for root, dirs, files in os.walk(load):\n",
    "        for filename in files:\n",
    "            if filename.endswith(\"_processed.csv\"):\n",
    "                original_file = os.path.join(root, filename)                \n",
    "                if not \"Process/\" in original_file:\n",
    "                    print(\"Moved '\",original_file,\" to \",\"./Process/\"+filename)\n",
    "                    os.rename(original_file, \"./Process/\"+filename)"
   ]
  },
  {
   "cell_type": "markdown",
   "metadata": {},
   "source": [
    "# Predict Datatest"
   ]
  },
  {
   "cell_type": "code",
   "execution_count": 87,
   "metadata": {},
   "outputs": [],
   "source": [
    "model = load_model('bone-predictor.h5')"
   ]
  },
  {
   "cell_type": "code",
   "execution_count": 89,
   "metadata": {},
   "outputs": [],
   "source": [
    "# Membaca dataset yang ingin diprediksi\n",
    "predict_df = pd.read_csv('c:/TA/Pengujian Model/Data csv/1.csv')\n",
    "X_predict = predict_df.iloc[:].values"
   ]
  },
  {
   "cell_type": "code",
   "execution_count": 90,
   "metadata": {},
   "outputs": [
    {
     "name": "stdout",
     "output_type": "stream",
     "text": [
      "390/390 [==============================] - 1s 1ms/step\n"
     ]
    }
   ],
   "source": [
    "# Memprediksi label menggunakan model yang telah dilatih\n",
    "y_pred_encoded = model.predict(X_predict)\n",
    "y_pred = np.argmax(y_pred_encoded, axis=1)\n",
    "y_pred_label = label_encoder.inverse_transform(y_pred)"
   ]
  },
  {
   "cell_type": "code",
   "execution_count": 91,
   "metadata": {},
   "outputs": [],
   "source": [
    "predict_df = pd.read_csv('c:/TA/Pengujian Model/Data csv/1.csv')\n",
    "# predict_df = pd.read_csv('C:/TA/LTSM/70%/A705.csv')"
   ]
  },
  {
   "cell_type": "markdown",
   "metadata": {},
   "source": [
    "# Save Predict"
   ]
  },
  {
   "cell_type": "code",
   "execution_count": 92,
   "metadata": {},
   "outputs": [],
   "source": [
    "result_df = predict_df.copy()\n",
    "result_df['predicted_label'] = y_pred_label\n",
    "result_df.to_csv('data_predict_predicted.csv', index=False)"
   ]
  },
  {
   "cell_type": "markdown",
   "metadata": {},
   "source": [
    "# Result Predict"
   ]
  },
  {
   "cell_type": "code",
   "execution_count": 93,
   "metadata": {},
   "outputs": [
    {
     "name": "stdout",
     "output_type": "stream",
     "text": [
      "predicted_label\n",
      "Density 70%    9253\n",
      "Density 90%    2045\n",
      "Density 30%     931\n",
      "Density 50%     251\n",
      "Name: count, dtype: int64\n"
     ]
    }
   ],
   "source": [
    "print(result_df['predicted_label'].value_counts())"
   ]
  },
  {
   "cell_type": "code",
   "execution_count": 94,
   "metadata": {},
   "outputs": [
    {
     "name": "stdout",
     "output_type": "stream",
     "text": [
      "Data match : Density 70%\n"
     ]
    }
   ],
   "source": [
    "label_counts = result_df['predicted_label'].value_counts()\n",
    "highest_label = label_counts.idxmax()\n",
    "highest_count = label_counts.max()\n",
    "\n",
    "if (highest_count > (0.64*X_predict.shape[0])):\n",
    "    print(\"Data match :\", highest_label)\n",
    "\n",
    "else:\n",
    "    print(\"Not Match\")"
   ]
  },
  {
   "cell_type": "markdown",
   "metadata": {},
   "source": [
    "# Bone Densitometry"
   ]
  },
  {
   "cell_type": "markdown",
   "metadata": {},
   "source": [
    "## Predict Datatest"
   ]
  },
  {
   "cell_type": "code",
   "execution_count": 95,
   "metadata": {},
   "outputs": [],
   "source": [
    "# Load model yang sudah ditraining\n",
    "model = load_model('bone-predictor.h5')"
   ]
  },
  {
   "cell_type": "code",
   "execution_count": 96,
   "metadata": {},
   "outputs": [],
   "source": [
    "# Membaca dataset yang ingin diprediksi\n",
    "predict_df = pd.read_csv('C:/TA/Pengujian Model/Data csv/1.csv')\n",
    "X_predict = predict_df.iloc[:].values"
   ]
  },
  {
   "cell_type": "code",
   "execution_count": 97,
   "metadata": {},
   "outputs": [
    {
     "name": "stdout",
     "output_type": "stream",
     "text": [
      "390/390 [==============================] - 1s 838us/step\n"
     ]
    }
   ],
   "source": [
    "# Memprediksi label menggunakan model yang telah dilatih\n",
    "y_pred_encoded = model.predict(X_predict)\n",
    "y_pred = np.argmax(y_pred_encoded, axis=1)\n",
    "y_pred_label = label_encoder.inverse_transform(y_pred)"
   ]
  },
  {
   "cell_type": "code",
   "execution_count": 98,
   "metadata": {},
   "outputs": [],
   "source": [
    "predict_df = pd.read_csv('C:/TA/Pengujian Model/Data csv/1.csv')\n",
    "# predict_df = pd.read_csv('C:/TA/LTSM/70%/A705.csv')"
   ]
  },
  {
   "cell_type": "markdown",
   "metadata": {},
   "source": [
    "## Save Predict"
   ]
  },
  {
   "cell_type": "code",
   "execution_count": 99,
   "metadata": {},
   "outputs": [],
   "source": [
    "result_df = predict_df.copy()\n",
    "result_df['predicted_label'] = y_pred_label\n",
    "result_df.to_csv('data_predict_predicted.csv', index=False)"
   ]
  },
  {
   "cell_type": "markdown",
   "metadata": {},
   "source": [
    "## Result Predict"
   ]
  },
  {
   "cell_type": "markdown",
   "metadata": {},
   "source": [
    "print(result_df['predicted_label'].value_counts())"
   ]
  },
  {
   "cell_type": "code",
   "execution_count": 100,
   "metadata": {},
   "outputs": [
    {
     "name": "stdout",
     "output_type": "stream",
     "text": [
      "Data match : Density 70%\n"
     ]
    }
   ],
   "source": [
    "label_counts = result_df['predicted_label'].value_counts()\n",
    "highest_label = label_counts.idxmax()\n",
    "highest_count = label_counts.max()\n",
    "\n",
    "if (highest_count > (0.64*X_predict.shape[0])):\n",
    "    print(\"Data match :\", highest_label)\n",
    "\n",
    "else:\n",
    "    print(\"Not Match\")"
   ]
  }
 ],
 "metadata": {
  "kernelspec": {
   "display_name": "Python 3",
   "language": "python",
   "name": "python3"
  },
  "language_info": {
   "codemirror_mode": {
    "name": "ipython",
    "version": 3
   },
   "file_extension": ".py",
   "mimetype": "text/x-python",
   "name": "python",
   "nbconvert_exporter": "python",
   "pygments_lexer": "ipython3",
   "version": "3.11.0"
  },
  "orig_nbformat": 4
 },
 "nbformat": 4,
 "nbformat_minor": 2
}
