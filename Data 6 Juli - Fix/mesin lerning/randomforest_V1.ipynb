{
 "cells": [
  {
   "cell_type": "code",
   "execution_count": 23,
   "metadata": {},
   "outputs": [],
   "source": [
    "import os\n",
    "import joblib\n",
    "import pandas as pd\n",
    "import numpy as np\n",
    "from sklearn.model_selection import train_test_split\n",
    "from sklearn.ensemble import RandomForestClassifier\n",
    "from sklearn.metrics import accuracy_score, classification_report\n",
    "\n",
    "from scipy import signal, fftpack\n",
    "from scipy.fft import fft, fftfreq\n",
    "from scipy.signal import butter, filtfilt"
   ]
  },
  {
   "cell_type": "code",
   "execution_count": 24,
   "metadata": {},
   "outputs": [],
   "source": [
    "# Fungsi untuk menghitung highest peak PSD dari data\n",
    "def calculate_highest_peak_psd(psd):\n",
    "    return max(psd)\n",
    "\n",
    "# List untuk menyimpan nilai highest peak PSD dan kelas data\n",
    "highest_peak_psd_list = []\n",
    "class_labels = []\n",
    "\n",
    "# Daftar folder yang berisi data untuk masing-masing kelas\n",
    "folder_paths = ['E:/LSTM/4_class/class1/', \n",
    "                'E:/LSTM/4_class/class2/', \n",
    "                'E:/LSTM/4_class/class3/', \n",
    "                'E:/LSTM/4_class/class4/']"
   ]
  },
  {
   "cell_type": "code",
   "execution_count": 25,
   "metadata": {},
   "outputs": [],
   "source": [
    "# Loop untuk membaca dan memproses data dari folder\n",
    "for class_idx, folder_path in enumerate(folder_paths):\n",
    "    file_list = os.listdir(folder_path)\n",
    "    for file_name in file_list:\n",
    "        file_path = os.path.join(folder_path, file_name)\n",
    "        df_uncut = pd.read_csv(file_path)\n",
    "        start_index = 1\n",
    "        end_index = 1551\n",
    "        df = df_uncut[start_index:end_index]\n",
    "        data = df['Y'].values\n",
    "        \n",
    "        # Proses filtering, FFT, dan perhitungan PSD\n",
    "        lowcut = 2.0\n",
    "        highcut = 10.0\n",
    "        fs = 5000000.0\n",
    "        order = 5\n",
    "\n",
    "        nyquist = 0.5 * fs\n",
    "        low = lowcut / nyquist\n",
    "        high = highcut / nyquist\n",
    "        b, a = signal.butter(order, [low, high], btype='band')\n",
    "    \n",
    "        #Filter bandpass\n",
    "        filtered_signal = signal.filtfilt(b, a, data)\n",
    "    \n",
    "        # One-sided FFT\n",
    "        signal_fft = np.fft.fft(filtered_signal)\n",
    "        signal_freq = np.fft.fftfreq(len(filtered_signal), 1/fs)\n",
    "        n = len(filtered_signal)\n",
    "        freq = signal_freq[0:int(n/2)]\n",
    "        fft_amp = np.abs(signal_fft)[0:int(n/2)]/n*2\n",
    "    \n",
    "        # One-sided PSD\n",
    "        psd = (1/(fs*n)) * np.square(np.abs(signal_fft[:n//2]))\n",
    "        freq_psd = signal_freq[0:int(n/2)]\n",
    "        psd_one_side = psd[0:int(n/2)]\n",
    "    \n",
    "        # Hitung highest peak PSD dan tambahkan ke dalam list\n",
    "        highest_peak_psd = calculate_highest_peak_psd(psd_one_side)\n",
    "        highest_peak_psd_list.append(highest_peak_psd)\n",
    "        \n",
    "        # Tambahkan kelas (label) ke dalam list\n",
    "        class_label = f'class{class_idx + 1}'\n",
    "        class_labels.append(class_label)\n"
   ]
  },
  {
   "cell_type": "code",
   "execution_count": 26,
   "metadata": {},
   "outputs": [],
   "source": [
    "# Buat DataFrame dari hasil ekstraksi fitur\n",
    "data_dict = {'Highest_Peak_PSD': highest_peak_psd_list, 'Class_Label': class_labels}\n",
    "df_features = pd.DataFrame(data_dict)\n",
    "\n",
    "# Pisahkan fitur dan label untuk proses training dan testing\n",
    "X = df_features['Highest_Peak_PSD'].values.reshape(-1, 1)\n",
    "y = df_features['Class_Label'].values\n",
    "\n",
    "# Bagi data menjadi data training dan data testing\n",
    "X_train, X_test, y_train, y_test = train_test_split(X, y, test_size=0.2, random_state=42)\n"
   ]
  },
  {
   "cell_type": "code",
   "execution_count": 27,
   "metadata": {},
   "outputs": [
    {
     "name": "stdout",
     "output_type": "stream",
     "text": [
      "['class1', 'class1', 'class1', 'class1', 'class1', 'class1', 'class1', 'class1', 'class1', 'class1', 'class1', 'class1', 'class1', 'class1', 'class1', 'class1', 'class1', 'class1', 'class1', 'class1', 'class1', 'class1', 'class1', 'class1', 'class1', 'class2', 'class2', 'class2', 'class2', 'class2', 'class2', 'class2', 'class2', 'class2', 'class2', 'class2', 'class2', 'class2', 'class2', 'class2', 'class2', 'class2', 'class2', 'class2', 'class2', 'class2', 'class2', 'class2', 'class2', 'class2', 'class3', 'class3', 'class3', 'class3', 'class3', 'class3', 'class3', 'class3', 'class3', 'class3', 'class3', 'class3', 'class3', 'class3', 'class3', 'class3', 'class3', 'class3', 'class3', 'class3', 'class3', 'class3', 'class3', 'class3', 'class3', 'class4', 'class4', 'class4', 'class4', 'class4', 'class4', 'class4', 'class4', 'class4', 'class4', 'class4', 'class4', 'class4', 'class4', 'class4', 'class4', 'class4', 'class4', 'class4', 'class4', 'class4', 'class4', 'class4', 'class4', 'class4']\n",
      "100\n"
     ]
    }
   ],
   "source": [
    "print(class_labels)\n",
    "print(len(class_labels))"
   ]
  },
  {
   "cell_type": "code",
   "execution_count": 28,
   "metadata": {},
   "outputs": [
    {
     "data": {
      "text/html": [
       "<style>#sk-container-id-2 {color: black;background-color: white;}#sk-container-id-2 pre{padding: 0;}#sk-container-id-2 div.sk-toggleable {background-color: white;}#sk-container-id-2 label.sk-toggleable__label {cursor: pointer;display: block;width: 100%;margin-bottom: 0;padding: 0.3em;box-sizing: border-box;text-align: center;}#sk-container-id-2 label.sk-toggleable__label-arrow:before {content: \"▸\";float: left;margin-right: 0.25em;color: #696969;}#sk-container-id-2 label.sk-toggleable__label-arrow:hover:before {color: black;}#sk-container-id-2 div.sk-estimator:hover label.sk-toggleable__label-arrow:before {color: black;}#sk-container-id-2 div.sk-toggleable__content {max-height: 0;max-width: 0;overflow: hidden;text-align: left;background-color: #f0f8ff;}#sk-container-id-2 div.sk-toggleable__content pre {margin: 0.2em;color: black;border-radius: 0.25em;background-color: #f0f8ff;}#sk-container-id-2 input.sk-toggleable__control:checked~div.sk-toggleable__content {max-height: 200px;max-width: 100%;overflow: auto;}#sk-container-id-2 input.sk-toggleable__control:checked~label.sk-toggleable__label-arrow:before {content: \"▾\";}#sk-container-id-2 div.sk-estimator input.sk-toggleable__control:checked~label.sk-toggleable__label {background-color: #d4ebff;}#sk-container-id-2 div.sk-label input.sk-toggleable__control:checked~label.sk-toggleable__label {background-color: #d4ebff;}#sk-container-id-2 input.sk-hidden--visually {border: 0;clip: rect(1px 1px 1px 1px);clip: rect(1px, 1px, 1px, 1px);height: 1px;margin: -1px;overflow: hidden;padding: 0;position: absolute;width: 1px;}#sk-container-id-2 div.sk-estimator {font-family: monospace;background-color: #f0f8ff;border: 1px dotted black;border-radius: 0.25em;box-sizing: border-box;margin-bottom: 0.5em;}#sk-container-id-2 div.sk-estimator:hover {background-color: #d4ebff;}#sk-container-id-2 div.sk-parallel-item::after {content: \"\";width: 100%;border-bottom: 1px solid gray;flex-grow: 1;}#sk-container-id-2 div.sk-label:hover label.sk-toggleable__label {background-color: #d4ebff;}#sk-container-id-2 div.sk-serial::before {content: \"\";position: absolute;border-left: 1px solid gray;box-sizing: border-box;top: 0;bottom: 0;left: 50%;z-index: 0;}#sk-container-id-2 div.sk-serial {display: flex;flex-direction: column;align-items: center;background-color: white;padding-right: 0.2em;padding-left: 0.2em;position: relative;}#sk-container-id-2 div.sk-item {position: relative;z-index: 1;}#sk-container-id-2 div.sk-parallel {display: flex;align-items: stretch;justify-content: center;background-color: white;position: relative;}#sk-container-id-2 div.sk-item::before, #sk-container-id-2 div.sk-parallel-item::before {content: \"\";position: absolute;border-left: 1px solid gray;box-sizing: border-box;top: 0;bottom: 0;left: 50%;z-index: -1;}#sk-container-id-2 div.sk-parallel-item {display: flex;flex-direction: column;z-index: 1;position: relative;background-color: white;}#sk-container-id-2 div.sk-parallel-item:first-child::after {align-self: flex-end;width: 50%;}#sk-container-id-2 div.sk-parallel-item:last-child::after {align-self: flex-start;width: 50%;}#sk-container-id-2 div.sk-parallel-item:only-child::after {width: 0;}#sk-container-id-2 div.sk-dashed-wrapped {border: 1px dashed gray;margin: 0 0.4em 0.5em 0.4em;box-sizing: border-box;padding-bottom: 0.4em;background-color: white;}#sk-container-id-2 div.sk-label label {font-family: monospace;font-weight: bold;display: inline-block;line-height: 1.2em;}#sk-container-id-2 div.sk-label-container {text-align: center;}#sk-container-id-2 div.sk-container {/* jupyter's `normalize.less` sets `[hidden] { display: none; }` but bootstrap.min.css set `[hidden] { display: none !important; }` so we also need the `!important` here to be able to override the default hidden behavior on the sphinx rendered scikit-learn.org. See: https://github.com/scikit-learn/scikit-learn/issues/21755 */display: inline-block !important;position: relative;}#sk-container-id-2 div.sk-text-repr-fallback {display: none;}</style><div id=\"sk-container-id-2\" class=\"sk-top-container\"><div class=\"sk-text-repr-fallback\"><pre>RandomForestClassifier(random_state=42)</pre><b>In a Jupyter environment, please rerun this cell to show the HTML representation or trust the notebook. <br />On GitHub, the HTML representation is unable to render, please try loading this page with nbviewer.org.</b></div><div class=\"sk-container\" hidden><div class=\"sk-item\"><div class=\"sk-estimator sk-toggleable\"><input class=\"sk-toggleable__control sk-hidden--visually\" id=\"sk-estimator-id-2\" type=\"checkbox\" checked><label for=\"sk-estimator-id-2\" class=\"sk-toggleable__label sk-toggleable__label-arrow\">RandomForestClassifier</label><div class=\"sk-toggleable__content\"><pre>RandomForestClassifier(random_state=42)</pre></div></div></div></div></div>"
      ],
      "text/plain": [
       "RandomForestClassifier(random_state=42)"
      ]
     },
     "execution_count": 28,
     "metadata": {},
     "output_type": "execute_result"
    }
   ],
   "source": [
    "# Buat model Random Forest Classifier dan lakukan training\n",
    "rf_model = RandomForestClassifier(n_estimators=100, random_state=42)\n",
    "rf_model.fit(X_train, y_train)\n"
   ]
  },
  {
   "cell_type": "code",
   "execution_count": 29,
   "metadata": {},
   "outputs": [
    {
     "name": "stdout",
     "output_type": "stream",
     "text": [
      "Accuracy: 30.0\n",
      "Classification Report:\n",
      "               precision    recall  f1-score   support\n",
      "\n",
      "      class1       0.29      0.33      0.31         6\n",
      "      class2       0.17      0.17      0.17         6\n",
      "      class3       0.40      0.67      0.50         3\n",
      "      class4       0.50      0.20      0.29         5\n",
      "\n",
      "    accuracy                           0.30        20\n",
      "   macro avg       0.34      0.34      0.32        20\n",
      "weighted avg       0.32      0.30      0.29        20\n",
      "\n"
     ]
    }
   ],
   "source": [
    "# Lakukan prediksi pada data testing\n",
    "y_pred = rf_model.predict(X_test)\n",
    "\n",
    "# Evaluasi model menggunakan metrik akurasi dan classification report\n",
    "accuracy = accuracy_score(y_test, y_pred)\n",
    "print(\"Accuracy:\", accuracy*100)\n",
    "\n",
    "report = classification_report(y_test, y_pred)\n",
    "print(\"Classification Report:\\n\", report)"
   ]
  },
  {
   "cell_type": "code",
   "execution_count": 30,
   "metadata": {},
   "outputs": [
    {
     "data": {
      "text/plain": [
       "['bone4.joblib']"
      ]
     },
     "execution_count": 30,
     "metadata": {},
     "output_type": "execute_result"
    }
   ],
   "source": [
    "# Simpan model ke file menggunakan joblib\n",
    "model_filename = 'bone4.joblib'\n",
    "joblib.dump(rf_model, model_filename)"
   ]
  },
  {
   "cell_type": "code",
   "execution_count": 31,
   "metadata": {},
   "outputs": [],
   "source": [
    "# Mapping label kelas\n",
    "class_mapping = {\n",
    "    'class1': 'Density 30%',\n",
    "    'class2': 'Density 50%',\n",
    "    'class3': 'Density 70%',\n",
    "    'class4': 'Density 90%'\n",
    "}"
   ]
  },
  {
   "attachments": {},
   "cell_type": "markdown",
   "metadata": {},
   "source": [
    "# Bone Model Predictor"
   ]
  },
  {
   "cell_type": "code",
   "execution_count": 32,
   "metadata": {},
   "outputs": [],
   "source": [
    "new_data_file = 'A50A3.csv'\n",
    "df_new = pd.read_csv(new_data_file)\n",
    "data_new = df_new['Y'].values\n",
    "\n",
    "# Proses filtering, FFT, dan perhitungan PSD\n",
    "lowcut = 2.0\n",
    "highcut = 10.0\n",
    "fs = 5000000.0\n",
    "order = 5\n",
    "\n",
    "nyquist = 0.5 * fs\n",
    "low = lowcut / nyquist\n",
    "high = highcut / nyquist\n",
    "b, a = signal.butter(order, [low, high], btype='band')\n",
    "    \n",
    "#Filter bandpass\n",
    "filtered_signal = signal.filtfilt(b, a, data)\n",
    "    \n",
    "# One-sided FFT\n",
    "signal_fft = np.fft.fft(filtered_signal)\n",
    "signal_freq = np.fft.fftfreq(len(filtered_signal), 1/fs)\n",
    "n = len(filtered_signal)\n",
    "freq = signal_freq[0:int(n/2)]\n",
    "fft_amp = np.abs(signal_fft)[0:int(n/2)]/n*2\n",
    "    \n",
    "# One-sided PSD\n",
    "psd = (1/(fs*n)) * np.square(np.abs(signal_fft[:n//2]))\n",
    "freq_psd = signal_freq[0:int(n/2)]\n",
    "psd_one_side = psd[0:int(n/2)]\n",
    "    \n",
    "# Hitung highest peak PSD untuk data baru\n",
    "highest_peak_psd_new = calculate_highest_peak_psd(psd_one_side)\n",
    "\n",
    "# Bentuk data untuk prediksi\n",
    "X_new = np.array([[highest_peak_psd_new]])\n"
   ]
  },
  {
   "cell_type": "code",
   "execution_count": 33,
   "metadata": {},
   "outputs": [
    {
     "name": "stdout",
     "output_type": "stream",
     "text": [
      "Predicted Class: Density 90%\n"
     ]
    }
   ],
   "source": [
    "# Lakukan prediksi menggunakan model yang sudah disimpan\n",
    "loaded_model = joblib.load(model_filename)\n",
    "predicted_class_idx = loaded_model.predict(X_new)[0]\n",
    "predicted_class = class_mapping.get(predicted_class_idx, 'Unknown')\n",
    "print(\"Predicted Class:\", predicted_class)"
   ]
  }
 ],
 "metadata": {
  "kernelspec": {
   "display_name": "Python 3",
   "language": "python",
   "name": "python3"
  },
  "language_info": {
   "codemirror_mode": {
    "name": "ipython",
    "version": 3
   },
   "file_extension": ".py",
   "mimetype": "text/x-python",
   "name": "python",
   "nbconvert_exporter": "python",
   "pygments_lexer": "ipython3",
   "version": "3.11.0"
  },
  "orig_nbformat": 4
 },
 "nbformat": 4,
 "nbformat_minor": 2
}
