import numpy as np
import matplotlib.pyplot as plt
import pywt

# Generate dummy ultrasonic signal data (replace with actual data)
# Assume 'signal' is your ultrasonic signal data
np.random.seed(0)
signal = np.random.rand(1000)

# Choose wavelet and scales
wavelet = 'morl'  # Morlet wavelet
scales = np.arange(1, 128)  # Range of scales for analysis

# Perform Continuous Wavelet Transform (CWT)
coef, freqs = pywt.cwt(signal, scales, wavelet)

# Plot original signal
plt.figure(figsize=(10, 4))
plt.subplot(2, 1, 1)
plt.plot(signal)
plt.title('Original Signal')
plt.xlabel('Time')
plt.ylabel('Amplitude')

# Plot CWT results
plt.subplot(2, 1, 2)
plt.imshow(np.abs(coef), extent=[0, len(signal), scales[-1], scales[0]],
           cmap='jet', aspect='auto')
plt.colorbar(label='Magnitude')
plt.title('Continuous Wavelet Transform')
plt.xlabel('Time')
plt.ylabel('Scale')

plt.tight_layout()
plt.show()
