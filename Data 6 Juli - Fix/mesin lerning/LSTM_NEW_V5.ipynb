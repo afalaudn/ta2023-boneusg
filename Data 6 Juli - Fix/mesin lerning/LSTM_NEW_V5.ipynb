{
 "cells": [
  {
   "cell_type": "code",
   "execution_count": 1,
   "metadata": {},
   "outputs": [],
   "source": [
    "import os\n",
    "import pandas as pd\n",
    "import numpy as np\n",
    "\n",
    "from sklearn.preprocessing import LabelEncoder\n",
    "from sklearn.model_selection import train_test_split\n",
    "from keras.models import Sequential\n",
    "from keras.layers import LSTM, Dense\n",
    "from keras.utils import to_categorical\n",
    "import joblib\n"
   ]
  },
  {
   "cell_type": "code",
   "execution_count": 2,
   "metadata": {},
   "outputs": [],
   "source": [
    "# Fungsi untuk ekstraksi fitur dari data sinyal\n",
    "def extract_features(data):\n",
    "    # Hitung rata-rata, nilai maksimum, nilai minimum, dan standar deviasi dari data\n",
    "    mean_value = np.mean(data)\n",
    "    max_value = np.max(data)\n",
    "    min_value = np.min(data)\n",
    "    std_value = np.std(data)\n",
    "    \n",
    "    return [mean_value, max_value, min_value, std_value]\n",
    "\n",
    "# List untuk menyimpan nilai fitur dan kelas data\n",
    "features_list = []\n",
    "class_labels = []\n",
    "\n",
    "# Daftar folder yang berisi data untuk masing-masing kelas\n",
    "folder_paths = ['E:/LSTM/4_class/class1/', \n",
    "                'E:/LSTM/4_class/class2/', \n",
    "                'E:/LSTM/4_class/class3/', \n",
    "                'E:/LSTM/4_class/class4/']"
   ]
  },
  {
   "cell_type": "code",
   "execution_count": 3,
   "metadata": {},
   "outputs": [],
   "source": [
    "# Loop untuk membaca dan memproses data dari folder\n",
    "for class_idx, folder_path in enumerate(folder_paths):\n",
    "    file_list = os.listdir(folder_path)\n",
    "    for file_name in file_list:\n",
    "        file_path = os.path.join(folder_path, file_name)\n",
    "        df = pd.read_csv(file_path)\n",
    "        data = df['Y'].values\n",
    "        \n",
    "        # Ekstraksi fitur dari data sinyal\n",
    "        features = extract_features(data)\n",
    "        features_list.append(features)\n",
    "        \n",
    "        # Tambahkan kelas (label) ke dalam list\n",
    "        class_label = f'class{class_idx + 1}'\n",
    "        class_labels.append(class_label)\n"
   ]
  },
  {
   "cell_type": "code",
   "execution_count": 4,
   "metadata": {},
   "outputs": [],
   "source": [
    "# Ubah label kelas menjadi angka dengan LabelEncoder\n",
    "label_encoder = LabelEncoder()\n",
    "y = label_encoder.fit_transform(class_labels)\n",
    "y_encoded = to_categorical(y)\n",
    "num_classes = len(label_encoder.classes_)\n",
    "\n",
    "# Ubah fitur menjadi bentuk array numpy\n",
    "X = np.array(features_list)\n",
    "\n",
    "# Pisahkan data menjadi data training dan data testing\n",
    "X_train, X_test, y_train, y_test = train_test_split(X, y_encoded, test_size=0.2, random_state=42)\n",
    "\n",
    "# Konstruksi model LSTM\n",
    "model = Sequential()\n",
    "model.add(Dense(64, input_shape=(X_train.shape[1],)))\n",
    "model.add(Dense(num_classes, activation='softmax'))"
   ]
  },
  {
   "cell_type": "code",
   "execution_count": 5,
   "metadata": {},
   "outputs": [
    {
     "name": "stdout",
     "output_type": "stream",
     "text": [
      "Epoch 1/50\n",
      "2/2 [==============================] - 2s 711ms/step - loss: 1.4386 - accuracy: 0.1875 - val_loss: 1.3015 - val_accuracy: 0.4375\n",
      "Epoch 2/50\n",
      "2/2 [==============================] - 0s 61ms/step - loss: 1.4220 - accuracy: 0.1875 - val_loss: 1.3150 - val_accuracy: 0.4375\n",
      "Epoch 3/50\n",
      "2/2 [==============================] - 0s 53ms/step - loss: 1.4090 - accuracy: 0.1875 - val_loss: 1.3245 - val_accuracy: 0.4375\n",
      "Epoch 4/50\n",
      "2/2 [==============================] - 0s 61ms/step - loss: 1.3992 - accuracy: 0.2031 - val_loss: 1.3356 - val_accuracy: 0.5000\n",
      "Epoch 5/50\n",
      "2/2 [==============================] - 0s 67ms/step - loss: 1.3903 - accuracy: 0.2031 - val_loss: 1.3462 - val_accuracy: 0.5000\n",
      "Epoch 6/50\n",
      "2/2 [==============================] - 0s 79ms/step - loss: 1.3853 - accuracy: 0.2500 - val_loss: 1.3576 - val_accuracy: 0.5000\n",
      "Epoch 7/50\n",
      "2/2 [==============================] - 0s 56ms/step - loss: 1.3808 - accuracy: 0.2656 - val_loss: 1.3699 - val_accuracy: 0.3750\n",
      "Epoch 8/50\n",
      "2/2 [==============================] - 0s 58ms/step - loss: 1.3767 - accuracy: 0.2812 - val_loss: 1.3806 - val_accuracy: 0.3125\n",
      "Epoch 9/50\n",
      "2/2 [==============================] - 0s 69ms/step - loss: 1.3711 - accuracy: 0.2812 - val_loss: 1.3884 - val_accuracy: 0.3125\n",
      "Epoch 10/50\n",
      "2/2 [==============================] - 0s 59ms/step - loss: 1.3681 - accuracy: 0.2812 - val_loss: 1.3963 - val_accuracy: 0.3125\n",
      "Epoch 11/50\n",
      "2/2 [==============================] - 0s 48ms/step - loss: 1.3671 - accuracy: 0.2812 - val_loss: 1.4036 - val_accuracy: 0.3125\n",
      "Epoch 12/50\n",
      "2/2 [==============================] - 0s 57ms/step - loss: 1.3625 - accuracy: 0.2812 - val_loss: 1.4065 - val_accuracy: 0.2500\n",
      "Epoch 13/50\n",
      "2/2 [==============================] - 0s 55ms/step - loss: 1.3601 - accuracy: 0.3906 - val_loss: 1.4086 - val_accuracy: 0.2500\n",
      "Epoch 14/50\n",
      "2/2 [==============================] - 0s 54ms/step - loss: 1.3575 - accuracy: 0.3906 - val_loss: 1.4103 - val_accuracy: 0.2500\n",
      "Epoch 15/50\n",
      "2/2 [==============================] - 0s 57ms/step - loss: 1.3552 - accuracy: 0.4062 - val_loss: 1.4129 - val_accuracy: 0.2500\n",
      "Epoch 16/50\n",
      "2/2 [==============================] - 0s 55ms/step - loss: 1.3529 - accuracy: 0.3594 - val_loss: 1.4131 - val_accuracy: 0.2500\n",
      "Epoch 17/50\n",
      "2/2 [==============================] - 0s 58ms/step - loss: 1.3500 - accuracy: 0.3594 - val_loss: 1.4136 - val_accuracy: 0.1875\n",
      "Epoch 18/50\n",
      "2/2 [==============================] - 0s 61ms/step - loss: 1.3474 - accuracy: 0.3594 - val_loss: 1.4124 - val_accuracy: 0.1875\n",
      "Epoch 19/50\n",
      "2/2 [==============================] - 0s 56ms/step - loss: 1.3452 - accuracy: 0.3750 - val_loss: 1.4112 - val_accuracy: 0.1875\n",
      "Epoch 20/50\n",
      "2/2 [==============================] - 0s 52ms/step - loss: 1.3428 - accuracy: 0.3906 - val_loss: 1.4094 - val_accuracy: 0.1875\n",
      "Epoch 21/50\n",
      "2/2 [==============================] - 0s 55ms/step - loss: 1.3400 - accuracy: 0.3906 - val_loss: 1.4091 - val_accuracy: 0.1875\n",
      "Epoch 22/50\n",
      "2/2 [==============================] - 0s 59ms/step - loss: 1.3384 - accuracy: 0.4062 - val_loss: 1.4074 - val_accuracy: 0.1875\n",
      "Epoch 23/50\n",
      "2/2 [==============================] - 0s 55ms/step - loss: 1.3366 - accuracy: 0.4062 - val_loss: 1.4075 - val_accuracy: 0.1875\n",
      "Epoch 24/50\n",
      "2/2 [==============================] - 0s 57ms/step - loss: 1.3352 - accuracy: 0.4062 - val_loss: 1.4089 - val_accuracy: 0.1875\n",
      "Epoch 25/50\n",
      "2/2 [==============================] - 0s 51ms/step - loss: 1.3316 - accuracy: 0.4062 - val_loss: 1.4082 - val_accuracy: 0.1875\n",
      "Epoch 26/50\n",
      "2/2 [==============================] - 0s 51ms/step - loss: 1.3301 - accuracy: 0.3750 - val_loss: 1.4072 - val_accuracy: 0.2500\n",
      "Epoch 27/50\n",
      "2/2 [==============================] - 0s 46ms/step - loss: 1.3279 - accuracy: 0.4062 - val_loss: 1.4069 - val_accuracy: 0.2500\n",
      "Epoch 28/50\n",
      "2/2 [==============================] - 0s 48ms/step - loss: 1.3259 - accuracy: 0.3906 - val_loss: 1.4071 - val_accuracy: 0.2500\n",
      "Epoch 29/50\n",
      "2/2 [==============================] - 0s 49ms/step - loss: 1.3248 - accuracy: 0.3906 - val_loss: 1.4074 - val_accuracy: 0.2500\n",
      "Epoch 30/50\n",
      "2/2 [==============================] - 0s 56ms/step - loss: 1.3226 - accuracy: 0.3906 - val_loss: 1.4070 - val_accuracy: 0.2500\n",
      "Epoch 31/50\n",
      "2/2 [==============================] - 0s 49ms/step - loss: 1.3211 - accuracy: 0.3906 - val_loss: 1.4077 - val_accuracy: 0.2500\n",
      "Epoch 32/50\n",
      "2/2 [==============================] - 0s 52ms/step - loss: 1.3199 - accuracy: 0.3906 - val_loss: 1.4073 - val_accuracy: 0.2500\n",
      "Epoch 33/50\n",
      "2/2 [==============================] - 0s 58ms/step - loss: 1.3182 - accuracy: 0.3906 - val_loss: 1.4080 - val_accuracy: 0.2500\n",
      "Epoch 34/50\n",
      "2/2 [==============================] - 0s 49ms/step - loss: 1.3168 - accuracy: 0.3906 - val_loss: 1.4101 - val_accuracy: 0.2500\n",
      "Epoch 35/50\n",
      "2/2 [==============================] - 0s 57ms/step - loss: 1.3148 - accuracy: 0.3906 - val_loss: 1.4098 - val_accuracy: 0.2500\n",
      "Epoch 36/50\n",
      "2/2 [==============================] - 0s 55ms/step - loss: 1.3131 - accuracy: 0.3906 - val_loss: 1.4107 - val_accuracy: 0.2500\n",
      "Epoch 37/50\n",
      "2/2 [==============================] - 0s 54ms/step - loss: 1.3117 - accuracy: 0.3906 - val_loss: 1.4104 - val_accuracy: 0.2500\n",
      "Epoch 38/50\n",
      "2/2 [==============================] - 0s 56ms/step - loss: 1.3116 - accuracy: 0.3906 - val_loss: 1.4108 - val_accuracy: 0.1875\n",
      "Epoch 39/50\n",
      "2/2 [==============================] - 0s 68ms/step - loss: 1.3094 - accuracy: 0.3906 - val_loss: 1.4114 - val_accuracy: 0.1875\n",
      "Epoch 40/50\n",
      "2/2 [==============================] - 0s 56ms/step - loss: 1.3080 - accuracy: 0.3906 - val_loss: 1.4125 - val_accuracy: 0.1875\n",
      "Epoch 41/50\n",
      "2/2 [==============================] - 0s 53ms/step - loss: 1.3063 - accuracy: 0.3906 - val_loss: 1.4138 - val_accuracy: 0.2500\n",
      "Epoch 42/50\n",
      "2/2 [==============================] - 0s 56ms/step - loss: 1.3054 - accuracy: 0.4062 - val_loss: 1.4167 - val_accuracy: 0.2500\n",
      "Epoch 43/50\n",
      "2/2 [==============================] - 0s 48ms/step - loss: 1.3044 - accuracy: 0.3906 - val_loss: 1.4197 - val_accuracy: 0.2500\n",
      "Epoch 44/50\n",
      "2/2 [==============================] - 0s 86ms/step - loss: 1.3034 - accuracy: 0.3750 - val_loss: 1.4207 - val_accuracy: 0.2500\n",
      "Epoch 45/50\n",
      "2/2 [==============================] - 0s 45ms/step - loss: 1.3020 - accuracy: 0.3750 - val_loss: 1.4225 - val_accuracy: 0.2500\n",
      "Epoch 46/50\n",
      "2/2 [==============================] - 0s 52ms/step - loss: 1.3014 - accuracy: 0.3906 - val_loss: 1.4257 - val_accuracy: 0.2500\n",
      "Epoch 47/50\n",
      "2/2 [==============================] - 0s 52ms/step - loss: 1.2997 - accuracy: 0.3906 - val_loss: 1.4261 - val_accuracy: 0.2500\n",
      "Epoch 48/50\n",
      "2/2 [==============================] - 0s 55ms/step - loss: 1.2985 - accuracy: 0.3906 - val_loss: 1.4264 - val_accuracy: 0.2500\n",
      "Epoch 49/50\n",
      "2/2 [==============================] - 0s 48ms/step - loss: 1.2981 - accuracy: 0.3906 - val_loss: 1.4287 - val_accuracy: 0.2500\n",
      "Epoch 50/50\n",
      "2/2 [==============================] - 0s 49ms/step - loss: 1.2969 - accuracy: 0.3906 - val_loss: 1.4308 - val_accuracy: 0.2500\n"
     ]
    },
    {
     "data": {
      "text/plain": [
       "<keras.callbacks.History at 0x174725b4950>"
      ]
     },
     "execution_count": 5,
     "metadata": {},
     "output_type": "execute_result"
    }
   ],
   "source": [
    "# Kompilasi model\n",
    "model.compile(loss='categorical_crossentropy', optimizer='adam', metrics=['accuracy'])\n",
    "\n",
    "# Training model\n",
    "model.fit(X_train, y_train, epochs=50, batch_size=32, validation_split=0.2)"
   ]
  },
  {
   "cell_type": "code",
   "execution_count": 6,
   "metadata": {},
   "outputs": [
    {
     "data": {
      "text/plain": [
       "['signal_classifier_model_lstm.joblib']"
      ]
     },
     "execution_count": 6,
     "metadata": {},
     "output_type": "execute_result"
    }
   ],
   "source": [
    "# Simpan model ke file menggunakan joblib\n",
    "model_filename = 'signal_classifier_model_lstm.joblib'\n",
    "joblib.dump(model, model_filename)"
   ]
  },
  {
   "cell_type": "code",
   "execution_count": 7,
   "metadata": {},
   "outputs": [
    {
     "ename": "NameError",
     "evalue": "name 'mean_value_new' is not defined",
     "output_type": "error",
     "traceback": [
      "\u001b[1;31m---------------------------------------------------------------------------\u001b[0m",
      "\u001b[1;31mNameError\u001b[0m                                 Traceback (most recent call last)",
      "\u001b[1;32mc:\\Users\\Afif Alaudin\\Documents\\GitHub\\ta2023-boneusg\\Data 6 Juli - Fix\\LSTM\\LSTM_NEW_V5.ipynb Cell 7\u001b[0m in \u001b[0;36m3\n\u001b[0;32m      <a href='vscode-notebook-cell:/c%3A/Users/Afif%20Alaudin/Documents/GitHub/ta2023-boneusg/Data%206%20Juli%20-%20Fix/LSTM/LSTM_NEW_V5.ipynb#W5sZmlsZQ%3D%3D?line=0'>1</a>\u001b[0m \u001b[39m# Contoh prediksi pada data baru\u001b[39;00m\n\u001b[0;32m      <a href='vscode-notebook-cell:/c%3A/Users/Afif%20Alaudin/Documents/GitHub/ta2023-boneusg/Data%206%20Juli%20-%20Fix/LSTM/LSTM_NEW_V5.ipynb#W5sZmlsZQ%3D%3D?line=1'>2</a>\u001b[0m \u001b[39m# Ganti \"new_data\" dengan data fitur baru yang ingin diprediksi\u001b[39;00m\n\u001b[1;32m----> <a href='vscode-notebook-cell:/c%3A/Users/Afif%20Alaudin/Documents/GitHub/ta2023-boneusg/Data%206%20Juli%20-%20Fix/LSTM/LSTM_NEW_V5.ipynb#W5sZmlsZQ%3D%3D?line=2'>3</a>\u001b[0m new_data \u001b[39m=\u001b[39m np\u001b[39m.\u001b[39marray([[mean_value_new, max_value_new, min_value_new, std_value_new]])\n\u001b[0;32m      <a href='vscode-notebook-cell:/c%3A/Users/Afif%20Alaudin/Documents/GitHub/ta2023-boneusg/Data%206%20Juli%20-%20Fix/LSTM/LSTM_NEW_V5.ipynb#W5sZmlsZQ%3D%3D?line=3'>4</a>\u001b[0m predicted_class \u001b[39m=\u001b[39m model\u001b[39m.\u001b[39mpredict_classes(new_data)\n\u001b[0;32m      <a href='vscode-notebook-cell:/c%3A/Users/Afif%20Alaudin/Documents/GitHub/ta2023-boneusg/Data%206%20Juli%20-%20Fix/LSTM/LSTM_NEW_V5.ipynb#W5sZmlsZQ%3D%3D?line=4'>5</a>\u001b[0m \u001b[39mprint\u001b[39m(\u001b[39m\"\u001b[39m\u001b[39mPredicted Class:\u001b[39m\u001b[39m\"\u001b[39m, label_encoder\u001b[39m.\u001b[39minverse_transform(predicted_class)[\u001b[39m0\u001b[39m])\n",
      "\u001b[1;31mNameError\u001b[0m: name 'mean_value_new' is not defined"
     ]
    }
   ],
   "source": [
    "# Contoh prediksi pada data baru\n",
    "# Ganti \"new_data\" dengan data fitur baru yang ingin diprediksi\n",
    "new_data = np.array([[mean_value_new, max_value_new, min_value_new, std_value_new]])\n",
    "predicted_class = model.predict_classes(new_data)\n",
    "print(\"Predicted Class:\", label_encoder.inverse_transform(predicted_class)[0])"
   ]
  }
 ],
 "metadata": {
  "kernelspec": {
   "display_name": "Python 3",
   "language": "python",
   "name": "python3"
  },
  "language_info": {
   "codemirror_mode": {
    "name": "ipython",
    "version": 3
   },
   "file_extension": ".py",
   "mimetype": "text/x-python",
   "name": "python",
   "nbconvert_exporter": "python",
   "pygments_lexer": "ipython3",
   "version": "3.11.0"
  },
  "orig_nbformat": 4
 },
 "nbformat": 4,
 "nbformat_minor": 2
}
