{
 "cells": [
  {
   "cell_type": "code",
   "execution_count": null,
   "metadata": {},
   "outputs": [],
   "source": [
    "n = len(filtered_signal26)\n",
    "freq26 = signal_freq26[0:int(n/2)]\n",
    "fft_amp26 = np.abs(signal_fft26)[0:int(n/2)]/n*2\n",
    "\n",
    "n = len(filtered_signal27)\n",
    "freq27 = signal_freq27[0:int(n/2)]\n",
    "fft_amp27 = np.abs(signal_fft27)[0:int(n/2)]/n*2\n",
    "\n",
    "n = len(filtered_signal28)\n",
    "freq28 = signal_freq28[0:int(n/2)]\n",
    "fft_amp28 = np.abs(signal_fft28)[0:int(n/2)]/n*2\n",
    "\n",
    "n = len(filtered_signal29)\n",
    "freq29 = signal_freq29[0:int(n/2)]\n",
    "fft_amp29 = np.abs(signal_fft29)[0:int(n/2)]/n*2\n",
    "\n",
    "n = len(filtered_signal30)\n",
    "freq30 = signal_freq30[0:int(n/2)]\n",
    "fft_amp30 = np.abs(signal_fft30)[0:int(n/2)]/n*2"
   ]
  },
  {
   "cell_type": "code",
   "execution_count": null,
   "metadata": {},
   "outputs": [],
   "source": [
    "psd26 = (1/(fs*n)) * np.square(np.abs(signal_fft26[:n//2]))\n",
    "psd27 = (1/(fs*n)) * np.square(np.abs(signal_fft27[:n//2]))\n",
    "psd28 = (1/(fs*n)) * np.square(np.abs(signal_fft28[:n//2]))\n",
    "psd29 = (1/(fs*n)) * np.square(np.abs(signal_fft29[:n//2]))\n",
    "psd30 = (1/(fs*n)) * np.square(np.abs(signal_fft30[:n//2]))"
   ]
  },
  {
   "cell_type": "code",
   "execution_count": null,
   "metadata": {},
   "outputs": [],
   "source": [
    "freq_psd26 = signal_freq26[0:int(n/2)]\n",
    "psd_one_sided26 = psd26[0:int(n/2)]\n",
    "\n",
    "freq_psd27 = signal_freq27[0:int(n/2)]\n",
    "psd_one_sided27 = psd27[0:int(n/2)]\n",
    "\n",
    "freq_psd28 = signal_freq28[0:int(n/2)]\n",
    "psd_one_sided28 = psd28[0:int(n/2)]\n",
    "\n",
    "freq_psd29 = signal_freq29[0:int(n/2)]\n",
    "psd_one_sided29 = psd29[0:int(n/2)]\n",
    "\n",
    "freq_psd30 = signal_freq30[0:int(n/2)]\n",
    "psd_one_sided30 = psd30[0:int(n/2)]"
   ]
  }
 ],
 "metadata": {
  "kernelspec": {
   "display_name": "Python 3",
   "language": "python",
   "name": "python3"
  },
  "language_info": {
   "file_extension": ".jl",
   "mimetype": "application/julia",
   "name": "python",
   "version": "3.11.0"
  },
  "orig_nbformat": 4
 },
 "nbformat": 4,
 "nbformat_minor": 2
}
